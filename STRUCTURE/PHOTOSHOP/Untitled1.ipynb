{
 "cells": [
  {
   "cell_type": "code",
   "execution_count": null,
   "metadata": {},
   "outputs": [],
   "source": [
    "import csv\n",
    "\n",
    "with open('names2.csv', 'w', newline='') as csvfile:\n",
    "    fieldnames = ['image_name', 'TP', 'FN', 'FP']\n",
    "    writer = csv.DictWriter(csvfile, fieldnames=fieldnames)\n",
    "\n",
    "    writer.writeheader()\n",
    "    writer.writerow({'image_name': 'Baked', 'TP': '1'})\n",
    "    writer.writerow({'image_name': 'Lovely', 'TP': '2'})\n",
    "    writer.writerow({'image_name': 'Wonderful', 'TP': '4'})\n"
   ]
  },
  {
   "cell_type": "code",
   "execution_count": 2,
   "metadata": {},
   "outputs": [
    {
     "name": "stdout",
     "output_type": "stream",
     "text": [
      "                             eye  colours   TP  FN  FP\n",
      "image_name                                            \n",
      "PICTURES/single/002Easy.jpg    0        3  100  10  34\n",
      "PICTURES/single/002Easy.jpg    1        3   80  15  32\n"
     ]
    }
   ],
   "source": [
    "import pandas\n",
    "df = pandas.read_csv('test2.csv', index_col='image_name')\n",
    "print(df)"
   ]
  },
  {
   "cell_type": "markdown",
   "metadata": {},
   "source": [
    "image_name,eye,colours,TP,FN,FP\n",
    "PICTURES/single/002Easy.jpg,0,3,100,10,34\n",
    "PICTURES/single/002Easy.jpg,1,3,80,15,32"
   ]
  },
  {
   "cell_type": "code",
   "execution_count": 11,
   "metadata": {},
   "outputs": [
    {
     "name": "stdout",
     "output_type": "stream",
     "text": [
      "somefolder/test2.csv\n",
      "<class 'str'>\n",
      "<class 'int'>\n",
      "<class 'str'>\n",
      "<class 'int'>\n"
     ]
    }
   ],
   "source": [
    "import csv, glob\n",
    "csvFolder = glob.glob(\"somefolder/\" + \"*.csv\")\n",
    "\n",
    "\n",
    "\n",
    "for csvfile in csvFolder:\n",
    "    print(csvfile)\n",
    "    with open(csvfile, 'r') as _filehandler:\n",
    "        csv_file_reader = csv.DictReader(_filehandler)\n",
    "        for row in csv_file_reader:\n",
    "            # Do something here\n",
    "            print(type(row['image_name']))\n",
    "            print(type(int(row['TP'])))"
   ]
  },
  {
   "cell_type": "code",
   "execution_count": 18,
   "metadata": {},
   "outputs": [
    {
     "name": "stdout",
     "output_type": "stream",
     "text": [
      "file somefolder/test2.csv\n",
      "PICTURES/single/002Easy.jpg\n",
      "100\n",
      "asdfas 44.0\n",
      "0.43564356435643564\n",
      "PICTURES/single/002Easy.jpg\n",
      "80\n",
      "asdfas 47.0\n",
      "1.0158904779366826\n"
     ]
    }
   ],
   "source": [
    "import numpy as np\n",
    "import matplotlib.pyplot as plt\n",
    "import glob\n",
    "import csv\n",
    "\n",
    "\n",
    "csvFolder = glob.glob(\"somefolder/\" + \"*.csv\")\n",
    "\n",
    "\n",
    "colorAmount = []\n",
    "y_means = []\n",
    "\n",
    "for csvfile in csvFolder:\n",
    "    print(\"file\",csvfile)\n",
    "    y = 0\n",
    "    with open(csvfile, 'r') as _filehandler:\n",
    "        csv_file_reader = csv.DictReader(_filehandler)\n",
    "        \n",
    "        for row in csv_file_reader:\n",
    "            # Do something here\n",
    "            print(row['image_name'])\n",
    "            print(row['TP'])\n",
    "            print(\"asdfas\",float(row['FP']) + float(row['FN']))\n",
    "            y += (float(row['FP']) + float(row['FN']))/(float(row['TP'])+1)\n",
    "            print(y)\n",
    "#            print(\"y is\",(row['FP']+row['FN'])/(row['TP']+1))"
   ]
  }
 ],
 "metadata": {
  "kernelspec": {
   "display_name": "Python 3",
   "language": "python",
   "name": "python3"
  },
  "language_info": {
   "codemirror_mode": {
    "name": "ipython",
    "version": 3
   },
   "file_extension": ".py",
   "mimetype": "text/x-python",
   "name": "python",
   "nbconvert_exporter": "python",
   "pygments_lexer": "ipython3",
   "version": "3.7.3"
  }
 },
 "nbformat": 4,
 "nbformat_minor": 4
}
