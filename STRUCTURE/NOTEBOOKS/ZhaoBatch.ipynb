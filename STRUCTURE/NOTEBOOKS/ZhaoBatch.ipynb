{
 "cells": [
  {
   "cell_type": "code",
   "execution_count": 1,
   "metadata": {
    "pycharm": {
     "is_executing": false
    }
   },
   "outputs": [],
   "source": [
    "\n",
    "%load_ext autoreload\n",
    "%autoreload 2\n",
    "\n",
    "\n",
    "\n",
    "from matplotlib import pyplot as plt\n",
    "\n",
    "plt.show()\n"
   ]
  },
  {
   "cell_type": "code",
   "execution_count": 2,
   "metadata": {
    "pycharm": {
     "is_executing": false
    }
   },
   "outputs": [
    {
     "name": "stdout",
     "text": [
      "************************************************************            ****************************************************\nprocessing: PICTURES/Eyes/Eyes-Testset\\1.jpg_0.jpeg\n**************************************\nrunning<function runMSRCP at 0x00000203E481DB88>\n",
      "**************************************\nrunning<function medianFilter at 0x00000203E2D9D678>\n"
     ],
     "output_type": "stream"
    },
    {
     "traceback": [
      "\u001b[1;31m---------------------------------------------------------------------------\u001b[0m",
      "\u001b[1;31mTypeError\u001b[0m                                 Traceback (most recent call last)",
      "\u001b[1;32m<ipython-input-2-f2da8e5ab9ae>\u001b[0m in \u001b[0;36m<module>\u001b[1;34m\u001b[0m\n\u001b[0;32m     25\u001b[0m \u001b[1;33m\u001b[0m\u001b[0m\n\u001b[0;32m     26\u001b[0m \u001b[1;33m\u001b[0m\u001b[0m\n\u001b[1;32m---> 27\u001b[1;33m \u001b[0mm3Batch\u001b[0m\u001b[1;33m.\u001b[0m\u001b[0mbatchProcess\u001b[0m\u001b[1;33m(\u001b[0m\u001b[1;34m\"PICTURES/Eyes/Eyes-Testset/\"\u001b[0m\u001b[1;33m,\u001b[0m \u001b[0mfArray\u001b[0m\u001b[1;33m,\u001b[0m \u001b[1;32mFalse\u001b[0m\u001b[1;33m)\u001b[0m\u001b[1;33m\u001b[0m\u001b[1;33m\u001b[0m\u001b[0m\n\u001b[0m\u001b[0;32m     28\u001b[0m \u001b[1;33m\u001b[0m\u001b[0m\n\u001b[0;32m     29\u001b[0m \u001b[1;33m\u001b[0m\u001b[0m\n",
      "\u001b[1;32m~\\PycharmProjects\\P3-G306\\STRUCTURE\\NOTEBOOKS\\M3\\m3Batch.py\u001b[0m in \u001b[0;36mbatchProcess\u001b[1;34m(inputFolder, functionArray, export)\u001b[0m\n\u001b[0;32m    164\u001b[0m             \u001b[0mprint\u001b[0m\u001b[1;33m(\u001b[0m\u001b[1;34m\"**************************************\"\u001b[0m\u001b[1;33m)\u001b[0m\u001b[1;33m\u001b[0m\u001b[1;33m\u001b[0m\u001b[0m\n\u001b[0;32m    165\u001b[0m             \u001b[0mprint\u001b[0m\u001b[1;33m(\u001b[0m\u001b[1;34m\"running\"\u001b[0m \u001b[1;33m+\u001b[0m \u001b[0mstr\u001b[0m\u001b[1;33m(\u001b[0m\u001b[0mfunction\u001b[0m\u001b[1;33m)\u001b[0m\u001b[1;33m)\u001b[0m\u001b[1;33m\u001b[0m\u001b[1;33m\u001b[0m\u001b[0m\n\u001b[1;32m--> 166\u001b[1;33m             \u001b[0moutputImage\u001b[0m \u001b[1;33m=\u001b[0m \u001b[0mfunction\u001b[0m\u001b[1;33m(\u001b[0m\u001b[1;33m**\u001b[0m\u001b[0mcurrentFunction\u001b[0m\u001b[1;33m)\u001b[0m\u001b[1;33m\u001b[0m\u001b[1;33m\u001b[0m\u001b[0m\n\u001b[0m\u001b[0;32m    167\u001b[0m             \u001b[0minputImage\u001b[0m \u001b[1;33m=\u001b[0m \u001b[0moutputImage\u001b[0m\u001b[1;33m\u001b[0m\u001b[1;33m\u001b[0m\u001b[0m\n\u001b[0;32m    168\u001b[0m         \u001b[1;31m# else:\u001b[0m\u001b[1;33m\u001b[0m\u001b[1;33m\u001b[0m\u001b[1;33m\u001b[0m\u001b[0m\n",
      "\u001b[1;31mTypeError\u001b[0m: medianFilter() missing 1 required positional argument: 'kernelSize'"
     ],
     "ename": "TypeError",
     "evalue": "medianFilter() missing 1 required positional argument: 'kernelSize'",
     "output_type": "error"
    }
   ],
   "source": [
    "import cv2, sys\n",
    "sys.path.append(\"/M3\")\n",
    "from M3 import m3F, m3HoughCircle, m3Batch, m3Denoising, m3Pre, m3Show, retinexRunnable, m3MedianFilter, m3tv\n",
    "\n",
    "\n",
    "# sys.path.append('../M3')\n",
    "\n",
    "# **********************************************************************\n",
    "# exampe of input\n",
    "'''\n",
    "fArray = {function1: {\"inputImg\": \"ignorethis\", \"param1\": \"blalbal1\"},\n",
    "          function2: {\"inputImg\": \"ignorethis\", \"param2\": \"blalbal2\"}}\n",
    "'''\n",
    "# **********************************************************************\n",
    "# fArray = {m3Face.findEyes: {\"image\": \"ignorethis\"},\n",
    "#           m3HoughCircle.findCircle: {\"image\": \"ignorethis\"}}\n",
    "fArray = {\n",
    "    # m3Show.imshow: {\"inputImg\": \"ignorethis\", \"title\": \"input img\"},\n",
    "    retinexRunnable.runMSRCP: {\"inputImg\": \"ignorethis\", \"show\": False},\n",
    "    m3MedianFilter.medianFilter: {\"inputImg\": \"ignorethis\", \"show\": False},\n",
    "    m3F.getRed: {\"inputImg\": \"ignorethis\", \"show\": True},\n",
    "    m3tv.denoise_tv_chambolle: {\"inputImg\": \"ignorethis\", \"weight\": 0.1,\"eps\": 0.0002,\"n_iter_max\": 200, \"multichannel\": True, \"show\": True},\n",
    "    #m3HoughCircle.findCircleSimple: {\"inputImg\": \"ignorethis\", \"show\": True}\n",
    "    }\n",
    "\n",
    "\n",
    "m3Batch.batchProcess(\"PICTURES/Eyes/Eyes-Testset/\", fArray, False)\n"
   ]
  },
  {
   "cell_type": "code",
   "execution_count": null,
   "metadata": {
    "pycharm": {
     "is_executing": false
    }
   },
   "outputs": [],
   "source": []
  },
  {
   "cell_type": "code",
   "execution_count": null,
   "metadata": {
    "pycharm": {
     "is_executing": false
    }
   },
   "outputs": [],
   "source": []
  }
 ],
 "metadata": {
  "kernelspec": {
   "display_name": "Python 3",
   "language": "python",
   "name": "python3"
  },
  "language_info": {
   "codemirror_mode": {
    "name": "ipython",
    "version": 3
   },
   "file_extension": ".py",
   "mimetype": "text/x-python",
   "name": "python",
   "nbconvert_exporter": "python",
   "pygments_lexer": "ipython3",
   "version": "3.7.3"
  },
  "pycharm": {
   "stem_cell": {
    "cell_type": "raw",
    "source": [],
    "metadata": {
     "collapsed": false
    }
   }
  }
 },
 "nbformat": 4,
 "nbformat_minor": 4
}