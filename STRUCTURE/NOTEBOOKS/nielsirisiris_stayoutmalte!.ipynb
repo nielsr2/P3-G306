{
 "cells": [
  {
   "cell_type": "code",
   "execution_count": 13,
   "metadata": {},
   "outputs": [
    {
     "data": {
      "image/png": "[encoded data removed]",
      "text/plain": [
       "<Figure size 432x288 with 1 Axes>"
      ]
     },
     "metadata": {
      "needs_background": "light"
     },
     "output_type": "display_data"
    },
    {
     "name": "stdout",
     "output_type": "stream",
     "text": [
      "(94, 168, 4)\n"
     ]
    },
    {
     "data": {
      "image/png": "[encoded data removed]",
      "text/plain": [
       "<Figure size 432x288 with 1 Axes>"
      ]
     },
     "metadata": {
      "needs_background": "light"
     },
     "output_type": "display_data"
    },
    {
     "data": {
      "image/png": "[encoded data removed]",
      "text/plain": [
       "<Figure size 432x288 with 1 Axes>"
      ]
     },
     "metadata": {
      "needs_background": "light"
     },
     "output_type": "display_data"
    },
    {
     "data": {
      "image/png": "[encoded data removed]",
      "text/plain": [
       "<Figure size 432x288 with 1 Axes>"
      ]
     },
     "metadata": {
      "needs_background": "light"
     },
     "output_type": "display_data"
    },
    {
     "data": {
      "text/plain": [
       "array([[0, 0, 0, ..., 0, 0, 0],\n",
       "       [0, 0, 0, ..., 0, 0, 0],\n",
       "       [0, 0, 0, ..., 0, 0, 0],\n",
       "       ...,\n",
       "       [0, 0, 0, ..., 0, 0, 0],\n",
       "       [0, 0, 0, ..., 0, 0, 0],\n",
       "       [0, 0, 0, ..., 0, 0, 0]], dtype=uint8)"
      ]
     },
     "execution_count": 13,
     "metadata": {},
     "output_type": "execute_result"
    }
   ],
   "source": [
    "import cv2, numpy as np\n",
    "from M3 import m3Show\n",
    "from matplotlib import pyplot as plt\n",
    "\n",
    "\n",
    "iris = cv2.imread(\"iris.png\",cv2.IMREAD_UNCHANGED)\n",
    "def remove_transparency(source, background_color):\n",
    "    print(source.shape)\n",
    "    source_img = cv2.cvtColor(source[:,:,:3], cv2.COLOR_BGR2GRAY)\n",
    "    source_mask = source[:,:,3]  * (1 / 255.0)\n",
    "\n",
    "    background_mask = 1.0 - source_mask\n",
    "\n",
    "    bg_part = (background_color * (1 / 255.0)) * (background_mask)\n",
    "    source_part = (source_img * (1 / 255.0)) * (source_mask)\n",
    "\n",
    "    return np.uint8(cv2.addWeighted(bg_part, 255.0, source_part, 255.0, 0.0))\n",
    "\n",
    "\n",
    "m3Show.imshow(iris, \"iris\")\n",
    "iris = remove_transparency(iris, 0)\n",
    "c = cv2.Canny(iris, 100,200)\n",
    "m3Show.imshow(c, \"canny\")\n",
    "\n",
    "kernel = np.ones((20,1), np.uint8)  # note this is a horizontal kernel\n",
    "d_im = cv2.dilate(c, kernel, iterations=1)\n",
    "m3Show.imshow(d_im, \"d_im\")\n",
    "e_im = cv2.erode(d_im, kernel, iterations=1) \n",
    "m3Show.imshow(e_im, \"e_im \" )"
   ]
  },
  {
   "cell_type": "code",
   "execution_count": null,
   "metadata": {},
   "outputs": [],
   "source": []
  }
 ],
 "metadata": {
  "kernelspec": {
   "display_name": "Python 3",
   "language": "python",
   "name": "python3"
  },
  "language_info": {
   "codemirror_mode": {
    "name": "ipython",
    "version": 3
   },
   "file_extension": ".py",
   "mimetype": "text/x-python",
   "name": "python",
   "nbconvert_exporter": "python",
   "pygments_lexer": "ipython3",
   "version": "3.7.3"
  }
 },
 "nbformat": 4,
 "nbformat_minor": 4
}
