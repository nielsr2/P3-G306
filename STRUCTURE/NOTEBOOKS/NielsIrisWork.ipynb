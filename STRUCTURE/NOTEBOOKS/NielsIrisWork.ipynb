{
 "cells": [
  {
   "cell_type": "code",
   "execution_count": 53,
   "metadata": {
    "collapsed": true,
    "jupyter": {
     "outputs_hidden": true
    }
   },
   "outputs": [
    {
     "name": "stdout",
     "output_type": "stream",
     "text": [
      "The autoreload extension is already loaded. To reload it, use:\n",
      "  %reload_ext autoreload\n"
     ]
    }
   ],
   "source": [
    "from matplotlib import pyplot as plt\n",
    "plt.show()\n",
    "%load_ext autoreload\n",
    "%autoreload 2\n",
    "from matplotlib import pyplot as plt\n",
    "import cv2, sys\n",
    "sys.path.append(\"/M3\")\n",
    "from M3 import m3F as m3F\n",
    "from M3 import m3Face, m3tv\n",
    "from M3 import m3HoughCircle as m3HoughCircle\n",
    "from M3 import m3Batch as m3Batch\n",
    "from M3 import m3Pre as m3Pre\n",
    "from M3 import m3Mask as m3Mask\n",
    "from M3 import m3HoughCircle as m3HoughCircle\n",
    "from M3 import m3MedianFilter, m3Denoising, retinexRunnable, m3Contrast, semi_circles, m3Color\n",
    "from M3 import m3Niels as m3Niels\n",
    "from M3 import m3Class\n",
    "\n",
    "\n"
   ]
  },
  {
   "cell_type": "code",
   "execution_count": 54,
   "metadata": {
    "jupyter": {
     "source_hidden": true
    }
   },
   "outputs": [
    {
     "name": "stdout",
     "output_type": "stream",
     "text": [
      "function.__name__  in pre:  findEyes\n",
      "FOUND FINDEYES FUNC\n"
     ]
    },
    {
     "ename": "TypeError",
     "evalue": "findEyes() got an unexpected keyword argument 'scalePercent'",
     "output_type": "error",
     "traceback": [
      "\u001b[0;31m---------------------------------------------------------------------------\u001b[0m",
      "\u001b[0;31mTypeError\u001b[0m                                 Traceback (most recent call last)",
      "\u001b[0;32m<ipython-input-54-809a1a71b977>\u001b[0m in \u001b[0;36m<module>\u001b[0;34m\u001b[0m\n\u001b[1;32m     28\u001b[0m \u001b[0;34m\u001b[0m\u001b[0m\n\u001b[1;32m     29\u001b[0m \u001b[0;34m\u001b[0m\u001b[0m\n\u001b[0;32m---> 30\u001b[0;31m \u001b[0mm3Niels\u001b[0m\u001b[0;34m.\u001b[0m\u001b[0mphotoBatch\u001b[0m\u001b[0;34m(\u001b[0m\u001b[0;34m\"PICTURES/IdealSet/\"\u001b[0m\u001b[0;34m,\u001b[0m \u001b[0mfArray\u001b[0m\u001b[0;34m,\u001b[0m \u001b[0mdebug\u001b[0m\u001b[0;34m=\u001b[0m\u001b[0;32mTrue\u001b[0m\u001b[0;34m,\u001b[0m \u001b[0mpreArray\u001b[0m\u001b[0;34m=\u001b[0m\u001b[0mpreFunctions\u001b[0m\u001b[0;34m,\u001b[0m \u001b[0mpostArray\u001b[0m\u001b[0;34m=\u001b[0m\u001b[0mpostFunctions\u001b[0m\u001b[0;34m)\u001b[0m\u001b[0;34m\u001b[0m\u001b[0;34m\u001b[0m\u001b[0m\n\u001b[0m\u001b[1;32m     31\u001b[0m \u001b[0;31m#\" PICTURES/Eyes/Eyes_set1/\"\u001b[0m\u001b[0;34m\u001b[0m\u001b[0;34m\u001b[0m\u001b[0;34m\u001b[0m\u001b[0m\n\u001b[1;32m     32\u001b[0m \u001b[0;31m# \"PICTURES/InputPictures/xsingle/\"\u001b[0m\u001b[0;34m\u001b[0m\u001b[0;34m\u001b[0m\u001b[0;34m\u001b[0m\u001b[0m\n",
      "\u001b[0;32m~/School/MED3/P3/Code/P3-G306/STRUCTURE/NOTEBOOKS/M3/m3Niels.py\u001b[0m in \u001b[0;36mphotoBatch\u001b[0;34m(ins, functionArray, postArray, preArray, irisArray, debug)\u001b[0m\n\u001b[1;32m    142\u001b[0m                 \u001b[0;31m# print(\"NIBBBBBsss\")\u001b[0m\u001b[0;34m\u001b[0m\u001b[0;34m\u001b[0m\u001b[0;34m\u001b[0m\u001b[0m\n\u001b[1;32m    143\u001b[0m                 \u001b[0mparams\u001b[0m \u001b[0;34m=\u001b[0m \u001b[0mpreArray\u001b[0m\u001b[0;34m[\u001b[0m\u001b[0mfunction\u001b[0m\u001b[0;34m]\u001b[0m\u001b[0;34m\u001b[0m\u001b[0;34m\u001b[0m\u001b[0m\n\u001b[0;32m--> 144\u001b[0;31m                 \u001b[0mphoto\u001b[0m\u001b[0;34m.\u001b[0m\u001b[0mfaces\u001b[0m \u001b[0;34m=\u001b[0m \u001b[0mfunction\u001b[0m\u001b[0;34m(\u001b[0m\u001b[0mphoto\u001b[0m\u001b[0;34m,\u001b[0m \u001b[0;34m**\u001b[0m\u001b[0mparams\u001b[0m\u001b[0;34m)\u001b[0m\u001b[0;34m\u001b[0m\u001b[0;34m\u001b[0m\u001b[0m\n\u001b[0m\u001b[1;32m    145\u001b[0m         \u001b[0;32melif\u001b[0m \u001b[0;34m(\u001b[0m\u001b[0mfunction\u001b[0m\u001b[0;34m.\u001b[0m\u001b[0m__name__\u001b[0m \u001b[0;34m==\u001b[0m \u001b[0;34m\"fakeEyes\"\u001b[0m\u001b[0;34m)\u001b[0m\u001b[0;34m:\u001b[0m\u001b[0;34m\u001b[0m\u001b[0;34m\u001b[0m\u001b[0m\n\u001b[1;32m    146\u001b[0m             \u001b[0mprint\u001b[0m\u001b[0;34m(\u001b[0m\u001b[0;34m\"fakeEyes\"\u001b[0m\u001b[0;34m)\u001b[0m\u001b[0;34m\u001b[0m\u001b[0;34m\u001b[0m\u001b[0m\n",
      "\u001b[0;31mTypeError\u001b[0m: findEyes() got an unexpected keyword argument 'scalePercent'"
     ]
    }
   ],
   "source": [
    "\n",
    "fArray = {\n",
    "         m3MedianFilter.medianFilter: {\"inputImg\": \"ignore\", \"kernelSize\": 5, \"show\": True},\n",
    "         retinexRunnable.runMSRCP: {\"inputImg\": \"ignorethis\", \"show\": True},\n",
    "         m3Color.reduceColor: {\"inputImg\": \"ignorethis\", \"show\": True},\n",
    "         m3F.getRed: {\"inputImg\": \"ignorethis\", \"show\": True},\n",
    "         #m3Contrast.contrast: {\"inputImg\": \"ignore\", \"show\": False},\n",
    "         m3tv.denoise_tv_chambolle: {\"inputImg\": \"ignorethis\", \"weight\": 0.1,\"eps\": 0.0002,\"n_iter_max\": 200, \"multichannel\": True, \"show\": False},\n",
    "         m3HoughCircle.findCircle: {\"eye\": \"ignorethis\", \"resolution\": 1, \"min_dist\": 100, \"param_1\": 200, \"param_2\": 10, \n",
    "                                    \"min_radius_width_divider\": 5, \"max_radius_width_divider\": 3, \"show\": True}\n",
    "         }\n",
    "\n",
    "\n",
    "# this is functions used after all the processing\n",
    "postFunctions = {\n",
    "    m3Mask.makeCircularMask: {}, # this should probably NOT be here, but in the fArray - will change\n",
    "    m3Mask.applyCircMask: {}, # same for this\n",
    "    m3Niels.exportToFolder: {\"parent\": \"Eye\", \"fileName\": \"masked\"},\n",
    "   m3Niels.generateComparison: {\"fileName\": \"newdataset-doublechamandmedian\"}, # does not work for PC boys, but u should be able to change it a bit to work.\n",
    "}\n",
    "\n",
    "\n",
    "# pre-stuff\n",
    "#totally awesome comments\n",
    "preFunctions = {\n",
    "     m3Face.findEyes: {\"show\": True, \"scalePercent\": 20}\n",
    "       # m3Niels.fakeEyes: {} # pc boys u use dis, ( but then u can't use generateComparison)\n",
    "}\n",
    "\n",
    "\n",
    "m3Niels.photoBatch(\"PICTURES/IdealSet/\", fArray, debug=True, preArray=preFunctions, postArray=postFunctions)\n",
    "#\" PICTURES/Eyes/Eyes_set1/\"\n",
    "# \"PICTURES/InputPictures/xsingle/\"\n",
    "\n",
    "#PICTURES/InputPictures/Set1\n",
    "#PICTURES/Eyes/Eyes_set1/\n"
   ]
  },
  {
   "cell_type": "code",
   "execution_count": 39,
   "metadata": {},
   "outputs": [
    {
     "ename": "TypeError",
     "evalue": "'NoneType' object is not subscriptable",
     "output_type": "error",
     "traceback": [
      "\u001b[0;31m---------------------------------------------------------------------------\u001b[0m",
      "\u001b[0;31mTypeError\u001b[0m                                 Traceback (most recent call last)",
      "\u001b[0;32m<ipython-input-39-b3ead8fa69bf>\u001b[0m in \u001b[0;36m<module>\u001b[0;34m\u001b[0m\n\u001b[1;32m      1\u001b[0m \u001b[0;31m#print(pa[0].faces[0].eyes[0].__dict__.items())\u001b[0m\u001b[0;34m\u001b[0m\u001b[0;34m\u001b[0m\u001b[0;34m\u001b[0m\u001b[0m\n\u001b[1;32m      2\u001b[0m \u001b[0;32mfrom\u001b[0m \u001b[0mM3\u001b[0m \u001b[0;32mimport\u001b[0m \u001b[0mm3Show\u001b[0m\u001b[0;34m\u001b[0m\u001b[0;34m\u001b[0m\u001b[0m\n\u001b[0;32m----> 3\u001b[0;31m \u001b[0mprint\u001b[0m\u001b[0;34m(\u001b[0m\u001b[0mm3Show\u001b[0m\u001b[0;34m.\u001b[0m\u001b[0mimshow\u001b[0m\u001b[0;34m(\u001b[0m\u001b[0mpa\u001b[0m\u001b[0;34m[\u001b[0m\u001b[0;36m1\u001b[0m\u001b[0;34m]\u001b[0m\u001b[0;34m.\u001b[0m\u001b[0mfaces\u001b[0m\u001b[0;34m[\u001b[0m\u001b[0;36m0\u001b[0m\u001b[0;34m]\u001b[0m\u001b[0;34m.\u001b[0m\u001b[0meyes\u001b[0m\u001b[0;34m[\u001b[0m\u001b[0;36m0\u001b[0m\u001b[0;34m]\u001b[0m\u001b[0;34m.\u001b[0m\u001b[0miris\u001b[0m\u001b[0;34m,\u001b[0m \u001b[0;34m\"IRIS\"\u001b[0m\u001b[0;34m)\u001b[0m\u001b[0;34m)\u001b[0m\u001b[0;34m\u001b[0m\u001b[0;34m\u001b[0m\u001b[0m\n\u001b[0m",
      "\u001b[0;31mTypeError\u001b[0m: 'NoneType' object is not subscriptable"
     ]
    }
   ],
   "source": [
    "#print(pa[0].faces[0].eyes[0].__dict__.items())\n",
    "from M3 import m3Show \n",
    "print(m3Show.imshow(pa[1].faces[0].eyes[0].iris, \"IRIS\"))"
   ]
  },
  {
   "cell_type": "code",
   "execution_count": null,
   "metadata": {},
   "outputs": [],
   "source": []
  }
 ],
 "metadata": {
  "kernelspec": {
   "display_name": "Python 3",
   "language": "python",
   "name": "python3"
  },
  "language_info": {
   "codemirror_mode": {
    "name": "ipython",
    "version": 3
   },
   "file_extension": ".py",
   "mimetype": "text/x-python",
   "name": "python",
   "nbconvert_exporter": "python",
   "pygments_lexer": "ipython3",
   "version": "3.7.3"
  }
 },
 "nbformat": 4,
 "nbformat_minor": 4
}
