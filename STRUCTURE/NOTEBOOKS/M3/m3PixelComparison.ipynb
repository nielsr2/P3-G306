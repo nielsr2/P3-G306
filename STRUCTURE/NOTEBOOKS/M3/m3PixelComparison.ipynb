{
 "cells": [
  {
   "cell_type": "code",
   "execution_count": 5,
   "metadata": {},
   "outputs": [
    {
     "data": {
      "image/png": "[encoded data removed]",
      "text/plain": [
       "<Figure size 432x288 with 1 Axes>"
      ]
     },
     "metadata": {
      "needs_background": "light"
     },
     "output_type": "display_data"
    },
    {
     "name": "stdout",
     "output_type": "stream",
     "text": [
      "[[0.         0.         0.         0.         0.         1.\n",
      "  1.         1.         1.         1.         0.         0.        ]\n",
      " [0.         0.         0.         0.         0.         1.\n",
      "  1.         1.         1.         1.         0.         0.        ]\n",
      " [0.         0.         0.         0.         0.         1.\n",
      "  1.         1.         1.         1.         0.         0.        ]\n",
      " [0.         0.         0.         0.         0.         1.\n",
      "  1.         1.         1.         1.         0.         0.        ]\n",
      " [0.         0.         0.         0.         0.         1.\n",
      "  1.         1.         1.         1.         0.         0.        ]\n",
      " [0.         0.         0.         0.         0.         1.\n",
      "  1.         1.         1.         1.         0.         0.        ]\n",
      " [0.         0.         0.         0.         0.         1.\n",
      "  1.         1.         1.         1.         0.         0.        ]\n",
      " [0.         0.         0.         0.         0.         1.\n",
      "  1.         1.         1.         1.         0.         0.        ]\n",
      " [0.         0.         0.         0.         0.         1.\n",
      "  0.99607843 1.         1.         1.         0.         0.        ]\n",
      " [0.         0.         0.         0.         0.         0.99607843\n",
      "  1.         0.99607843 1.         1.         0.         0.        ]\n",
      " [0.         0.         0.         0.         0.         0.\n",
      "  0.         0.         0.         0.         0.         0.        ]\n",
      " [0.00392157 0.         0.         0.00392157 0.         0.\n",
      "  0.         0.         0.         0.         0.         0.00392157]]\n",
      "handMaskAccumLum 57.46666666666669\n",
      "TruePositive 7.496062992125984\n",
      "FalseNegative 49.972549019607854\n",
      "FalsePositive 42.50588235294119\n",
      "TruePositive% 13.044193141750549 % of accumulated pixel values of handmask\n",
      "FalseNegative% 86.95919202948 % of accumulated pixel values of handmask\n",
      "FalsePositive% 73.96615258632455 % of accumulated pixel values of handmask\n",
      "FalsePositive% 85.01176470588236 % of accumulated pixel values of automask\n",
      "144\n"
     ]
    },
    {
     "data": {
      "image/png": "[encoded data removed]",
      "text/plain": [
       "<Figure size 432x288 with 1 Axes>"
      ]
     },
     "metadata": {
      "needs_background": "light"
     },
     "output_type": "display_data"
    },
    {
     "data": {
      "image/png": "[encoded data removed]",
      "text/plain": [
       "<Figure size 432x288 with 1 Axes>"
      ]
     },
     "metadata": {
      "needs_background": "light"
     },
     "output_type": "display_data"
    },
    {
     "data": {
      "image/png": "[encoded data removed]",
      "text/plain": [
       "<Figure size 432x288 with 1 Axes>"
      ]
     },
     "metadata": {
      "needs_background": "light"
     },
     "output_type": "display_data"
    },
    {
     "name": "stdout",
     "output_type": "stream",
     "text": [
      "imgSize 144\n"
     ]
    }
   ],
   "source": [
    "import cv2\n",
    "from matplotlib import pyplot as plt\n",
    "import numpy as np\n",
    "\n",
    "\n",
    "\n",
    "def imshow(inputImg, title):\n",
    "    # print(inputImg)\n",
    "    plt.clf()\n",
    "    plt.title(title)\n",
    "    plt.axis(\"off\")\n",
    "    # print(\"inputImg.shape\", inputImg.shape)\n",
    "    plt.imshow(cv2.cvtColor(inputImg, cv2.COLOR_BGR2RGB), interpolation='none')\n",
    "    plt.show()\n",
    "    # plt.axes\n",
    "    return inputImg\n",
    "\n",
    "orgHandMask= cv2.imread(\"hand.jpg\",cv2.IMREAD_GRAYSCALE)\n",
    "orgAutoMask  = cv2.imread(\"machine.jpg\",cv2.IMREAD_GRAYSCALE)\n",
    "\n",
    "#handMask= cv2.imread(\"hand.jpg\",cv2.IMREAD_GRAYSCALE)\n",
    "#autoMask  = cv2.imread(\"machine.jpg\",cv2.IMREAD_GRAYSCALE)\n",
    "\n",
    "imshow(orgHandMask,\"handMask\")\n",
    "\n",
    "height,width= orgHandMask.shape\n",
    "imgSize=height*width \n",
    "TruePositive = 0.0 \n",
    "FalsePositive = 0.0\n",
    "FalseNegative = 0.0\n",
    "handMaskAccumLum = 0.0\n",
    "autoMaskAccumLum = 0.0\n",
    "\n",
    "autoMask = orgAutoMask.astype(\"float64\")\n",
    "handMask = orgHandMask.astype(\"float64\")\n",
    "\n",
    "for y in range(height):\n",
    "    for x in range(width):\n",
    "        #count1 += autoMask[y,x]\n",
    "\n",
    "        #autoMask[y,x]= (orgAutoMask[y,x]/255*100)\n",
    "        #handMask[y,x]= (orgHandMask[y,x]/255*100)\n",
    "        \n",
    "        autoMask[y,x]= (orgAutoMask[y,x]/255)\n",
    "        handMask[y,x]= (orgHandMask[y,x]/255)\n",
    "        \n",
    "        \n",
    "        #print(\"auto\",autoMask[y,x])\n",
    "        \n",
    "        #handMask[y,x] = 50\n",
    "        #imshow(handMask,\"handMask\")\n",
    "        \n",
    "        if (autoMask[y,x] == handMask[y,x]):\n",
    "            TruePositive += handMask[y,x]\n",
    "            \n",
    "        if (autoMask[y,x] < handMask[y,x]):\n",
    "            FalseNegative += (handMask[y,x]-autoMask[y,x])\n",
    "            TruePositive += autoMask[y,x]/handMask[y,x]\n",
    "            #print((handMask[y,x]-autoMask[y,x])/100)\n",
    "            \n",
    "        if (autoMask[y,x] > handMask[y,x]):\n",
    "            FalsePositive += autoMask[y,x] - handMask[y,x]\n",
    "            TruePositive += handMask[y,x]/autoMask[y,x]\n",
    "            #print((autoMask[y,x] - handMask[y,x])/100)\n",
    "            \n",
    "        handMaskAccumLum += handMask[y,x]\n",
    "        autoMaskAccumLum += autoMask[y,x]\n",
    "        #print(handMask[y,x]/100)\n",
    "        #print(\"hand\",handMask[y,x])\n",
    "        \n",
    "            \n",
    "print(autoMask)          \n",
    "\n",
    "\n",
    "print (\"handMaskAccumLum\",handMaskAccumLum)\n",
    "\n",
    "print(\"TruePositive\",TruePositive)\n",
    "print(\"FalseNegative\",FalseNegative)\n",
    "print(\"FalsePositive\",FalsePositive)\n",
    "            \n",
    "TruePositive= (TruePositive/handMaskAccumLum)*100\n",
    "FalseNegative=(FalseNegative/handMaskAccumLum) *100\n",
    "FalsePositive1=(FalsePositive/autoMaskAccumLum)*100\n",
    "FalsePositive=(FalsePositive/handMaskAccumLum)*100\n",
    "\n",
    "print(\"TruePositive%\",TruePositive,\"% of accumulated pixel values of handmask\")\n",
    "print(\"FalseNegative%\",FalseNegative,\"% of accumulated pixel values of handmask\")\n",
    "print(\"FalsePositive%\",FalsePositive,\"% of accumulated pixel values of handmask\")\n",
    "print(\"FalsePositive%\",FalsePositive1,\"% of accumulated pixel values of automask\")\n",
    "\n",
    "print(imgSize)\n",
    "\n",
    "autoMask = autoMask*255\n",
    "handMask = handMask*255\n",
    "\n",
    "autoMask = orgAutoMask.astype(\"uint8\")\n",
    "handMask = orgHandMask.astype(\"uint8\")\n",
    "\n",
    "imshow(handMask,\"handMask\")\n",
    "\n",
    "\n",
    "imshow(orgHandMask,\"handMask\")\n",
    "imshow(orgAutoMask,\"autoMask\")\n",
    "\n",
    "\n",
    "\n",
    "\n",
    "print(\"imgSize\", imgSize)"
   ]
  },
  {
   "cell_type": "code",
   "execution_count": null,
   "metadata": {},
   "outputs": [],
   "source": []
  },
  {
   "cell_type": "code",
   "execution_count": null,
   "metadata": {},
   "outputs": [],
   "source": []
  }
 ],
 "metadata": {
  "kernelspec": {
   "display_name": "Python 3",
   "language": "python",
   "name": "python3"
  },
  "language_info": {
   "codemirror_mode": {
    "name": "ipython",
    "version": 3
   },
   "file_extension": ".py",
   "mimetype": "text/x-python",
   "name": "python",
   "nbconvert_exporter": "python",
   "pygments_lexer": "ipython3",
   "version": "3.7.3"
  }
 },
 "nbformat": 4,
 "nbformat_minor": 4
}
