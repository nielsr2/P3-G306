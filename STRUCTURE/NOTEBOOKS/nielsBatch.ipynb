{
 "cells": [
  {
   "cell_type": "code",
   "execution_count": 7,
   "metadata": {
    "pycharm": {
     "is_executing": false
    }
   },
   "outputs": [
    {
     "name": "stdout",
     "output_type": "stream",
     "text": [
      "The autoreload extension is already loaded. To reload it, use:\n",
      "  %reload_ext autoreload\n"
     ]
    }
   ],
   "source": [
    "from matplotlib import pyplot as plt\n",
    "plt.show()\n",
    "%load_ext autoreload\n",
    "%autoreload 2"
   ]
  },
  {
   "cell_type": "code",
   "execution_count": 13,
   "metadata": {
    "pycharm": {
     "is_executing": false
    }
   },
   "outputs": [
    {
     "name": "stdout",
     "output_type": "stream",
     "text": [
      "The autoreload extension is already loaded. To reload it, use:\n",
      "  %reload_ext autoreload\n",
      "************************************************************            ****************************************************\n",
      "function name  makePolyMask\n",
      "FULL OR POLY\n",
      "lalala\n"
     ]
    },
    {
     "data": {
      "image/png": "[encoded data removed]",
      "text/plain": [
       "<Figure size 432x288 with 1 Axes>"
      ]
     },
     "metadata": {
      "needs_background": "light"
     },
     "output_type": "display_data"
    }
   ],
   "source": [
    "%load_ext autoreload\n",
    "%autoreload 2\n",
    "\n",
    "from matplotlib import pyplot as plt\n",
    "import cv2, sys\n",
    "sys.path.append(\"/M3\")\n",
    "from M3 import m3F as m3F\n",
    "from M3 import m3Face as m3Face\n",
    "from M3 import m3HoughCircle as m3HoughCircle\n",
    "from M3 import m3Batch as m3Batch\n",
    "from M3 import m3Pre as m3Pre\n",
    "from M3 import m3Mask as m3Mask\n",
    "\n",
    "# sys.path.append('../M3')\n",
    "\n",
    "# **********************************************************************\n",
    "# exampe of input\n",
    "'''\n",
    "fArray = {function1: {\"inputImg\": \"ignorethis\", \"param1\": \"blalbal1\"},\n",
    "          function2: {\"inputImg\": \"ignorethis\", \"param2\": \"blalbal2\"}}\n",
    "'''\n",
    "# **********************************************************************\n",
    "# fArray = {m3Face.findEyes: {\"image\": \"ignorethis\"},\n",
    "#           m3HoughCirc<le.findCircle: {\"image\": \"ignorethis\"}}\n",
    "#fArray = {m3Face.findEyes: {\"inputImg\": \"ignorethis\", \"show\": True}, \n",
    " #        m3Pre.gaussianBlur: {\"inputImg\": \"ignorethis\", \"amount\": 3, \"show\": True},\n",
    "  #       m3HoughCircle.findCircleSimple: {\"inputImg\": \"ignorethis\", \"show\": True},\n",
    "   #      m3Mask.makeCircularMask: {\"inputImg\": \"ignorethis\", \"show\": True},\n",
    "    #     m3Mask.makeFullMask: {\"inputImg\": \"ignorethis\", \"show\": True}}\n",
    "\n",
    "\n",
    "fArray = {m3Face.findEyes: {\"inputImg\": \"ignorethis\", \"show\": True}, \n",
    "         m3Mask.makePolyMask: {\"inputImg\": \"ignorethis\", \"show\": True}}\n",
    "#fArray = {m3Face.findEyes: {\"inputImg\": \"ignorethis\"}}\n",
    "\n",
    "# fArray = {m3Face.findEyes: {\"image\": \"ignorethis\"},\n",
    "#           m3HoughCircle.findCircle: {\"image\": \"ignorethis\"}}\n",
    "#fArray = {m3Pre.gaussianBlur: {\"inputImg\": \"ignorethis\", \"amount\": 3, \"show\": True}}\n",
    "\n",
    "#print(m3F.printRed(\"TRALALA\"))\n",
    "m3Batch.batchProcess(\"PICTURES/InputPictures/single/\", fArray, True)\n",
    "#m3Batch.batchProcess(\"PICTURES/InputPictures/Set1/\", fArray, True)\n"
   ]
  },
  {
   "cell_type": "code",
   "execution_count": null,
   "metadata": {},
   "outputs": [],
   "source": []
  },
  {
   "cell_type": "code",
   "execution_count": null,
   "metadata": {},
   "outputs": [],
   "source": []
  },
  {
   "cell_type": "code",
   "execution_count": null,
   "metadata": {
    "pycharm": {
     "is_executing": false
    }
   },
   "outputs": [],
   "source": []
  },
  {
   "cell_type": "code",
   "execution_count": null,
   "metadata": {
    "pycharm": {
     "is_executing": false
    }
   },
   "outputs": [],
   "source": []
  }
 ],
 "metadata": {
  "kernelspec": {
   "display_name": "Python 3",
   "language": "python",
   "name": "python3"
  },
  "language_info": {
   "codemirror_mode": {
    "name": "ipython",
    "version": 3
   },
   "file_extension": ".py",
   "mimetype": "text/x-python",
   "name": "python",
   "nbconvert_exporter": "python",
   "pygments_lexer": "ipython3",
   "version": "3.7.3"
  }
 },
 "nbformat": 4,
 "nbformat_minor": 4
}
