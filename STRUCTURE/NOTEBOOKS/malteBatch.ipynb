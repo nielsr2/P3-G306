{
 "cells": [
  {
   "cell_type": "code",
   "execution_count": 7,
   "metadata": {},
   "outputs": [
    {
     "name": "stdout",
     "output_type": "stream",
     "text": [
      "The autoreload extension is already loaded. To reload it, use:\n",
      "  %reload_ext autoreload\n"
     ]
    }
   ],
   "source": [
    "%load_ext autoreload\n",
    "%autoreload 2\n",
    "\n",
    "from matplotlib import pyplot as plt\n",
    "plt.show()"
   ]
  },
  {
   "cell_type": "code",
   "execution_count": 2,
   "metadata": {
    "pycharm": {
     "is_executing": false
    }
   },
   "outputs": [
    {
     "name": "stdout",
     "output_type": "stream",
     "text": [
      "The autoreload extension is already loaded. To reload it, use:\n",
      "  %reload_ext autoreload\n"
     ]
    },
    {
     "ename": "AttributeError",
     "evalue": "module 'M3.m3Mask' has no attribute 'makePolyMask'",
     "output_type": "error",
     "traceback": [
      "\u001b[0;31m---------------------------------------------------------------------------\u001b[0m",
      "\u001b[0;31mAttributeError\u001b[0m                            Traceback (most recent call last)",
      "\u001b[0;32m<ipython-input-2-ee6e0a356738>\u001b[0m in \u001b[0;36m<module>\u001b[0;34m\u001b[0m\n\u001b[1;32m     48\u001b[0m \u001b[0;34m\u001b[0m\u001b[0m\n\u001b[1;32m     49\u001b[0m \u001b[0;34m\u001b[0m\u001b[0m\n\u001b[0;32m---> 50\u001b[0;31m         \u001b[0mm3Mask\u001b[0m\u001b[0;34m.\u001b[0m\u001b[0mmakePolyMask\u001b[0m\u001b[0;34m:\u001b[0m \u001b[0;34m{\u001b[0m\u001b[0;34m\"photo\"\u001b[0m\u001b[0;34m:\u001b[0m \u001b[0;34m\"asdfasdf\"\u001b[0m\u001b[0;34m}\u001b[0m\u001b[0;34m,\u001b[0m\u001b[0;34m\u001b[0m\u001b[0;34m\u001b[0m\u001b[0m\n\u001b[0m\u001b[1;32m     51\u001b[0m         \u001b[0mm3Mask\u001b[0m\u001b[0;34m.\u001b[0m\u001b[0mapplyPolyMask\u001b[0m\u001b[0;34m:\u001b[0m \u001b[0;34m{\u001b[0m\u001b[0;34m\"eye\"\u001b[0m\u001b[0;34m:\u001b[0m \u001b[0;34m\"asdfasdf\"\u001b[0m\u001b[0;34m}\u001b[0m\u001b[0;34m,\u001b[0m\u001b[0;34m\u001b[0m\u001b[0;34m\u001b[0m\u001b[0m\n\u001b[1;32m     52\u001b[0m \u001b[0;34m\u001b[0m\u001b[0m\n",
      "\u001b[0;31mAttributeError\u001b[0m: module 'M3.m3Mask' has no attribute 'makePolyMask'"
     ]
    }
   ],
   "source": [
    "%load_ext autoreload\n",
    "%autoreload 2\n",
    "\n",
    "from matplotlib import pyplot as plt\n",
    "import cv2, sys\n",
    "sys.path.append(\"/M3\")\n",
    "from M3 import m3F as m3F\n",
    "from M3 import m3Face, m3tv\n",
    "from M3 import m3HoughCircle as m3HoughCircle\n",
    "from M3 import m3Batch as m3Batch\n",
    "from M3 import m3Pre as m3Pre\n",
    "from M3 import m3Mask as m3Mask\n",
    "from M3 import m3HoughCircle as m3HoughCircle\n",
    "from M3 import m3MedianFilter, m3Denoising, retinexRunnable, m3Contrast, m3RemoveEyelid\n",
    "from M3 import m3Niels as m3Niels\n",
    "from M3 import m3Class, m3Color, m3Size, m3Show, m3Edge, m3Comparison\n",
    "#from M3 import m3ReduceAmountsOfColor\n",
    "\n",
    "\n",
    "\n",
    "# pre-stuff\n",
    "\n",
    "preFunctions = {\n",
    "    \n",
    "         m3Face.findEyes68: {\"show\": True, \"division\": 8},\n",
    "         m3Face.findEyes194: {\"show\": True, \"division\": 8}\n",
    "\n",
    "    \n",
    "    #    m3Niels.fakeEyes: {} # pc boys u use dis, ( but then u can't use generateComparison)\n",
    "}\n",
    "\n",
    "\n",
    "\n",
    "\n",
    "\n",
    "\n",
    "\n",
    "fArray = {\n",
    "        m3MedianFilter.medianFilter: {\"inputImg\": \"ignore\", \"kernelSize\": 5, \"show\": True},\n",
    "        retinexRunnable.runMSRCP: {\"inputImg\": \"ignorethis\", \"show\": True},\n",
    "        m3Color.reduceColor: {\"inputImg\": \"ignorethis\", \"n_colors\": 12, \"show\": True},\n",
    "        m3F.getRed: {\"inputImg\": \"ignorethis\", \"show\": True},\n",
    "        #m3Contrast.contrast: {\"inputImg\": \"ignore\", \"show\": False},\n",
    "        m3tv.denoise_tv_chambolle: {\"inputImg\": \"ignorethis\", \"weight\": 0.1,\"eps\": 0.0002,\"n_iter_max\": 200, \"multichannel\": True, \"show\": False},\n",
    "#       m3Size.makeSmaller: {\"eye\": \"asdfasf\", \"show\": True, \"scale\": 6},\n",
    "    \n",
    "       # m3Show.Histogram: {\"inputImg\": \"asfasdf\"},\n",
    "    \n",
    "    \n",
    "        m3Mask.makePolyMask: {\"photo\": \"asdfasdf\"},\n",
    "        m3Mask.applyPolyMask: {\"eye\": \"asdfasdf\"}, \n",
    "    \n",
    "        # 194 \n",
    "        m3Mask.makeManyPolyRegMask: {\"photo\": \"asdfasdf\"}, \n",
    "    \n",
    "    \n",
    "        m3HoughCircle.findCircle: {\"eye\": \"ignorethis\", \"resolution\": 1, \"min_dist\": 100, \"param_1\": 200, \"param_2\": 10, \n",
    "                                    \"min_radius_width_divider\": 7, \"max_radius_width_divider\": 5.5, \"show\": True},\n",
    "        m3Mask.makeCircularMask: {\"photo\": \"asdfasdf\"},\n",
    "\n",
    "         m3Mask.applyCircMask: {\"photo\": \"asdfasdf\"}, \n",
    "            #m3i.i: {\"eye\": \"afsadf\"}\n",
    "    \n",
    "         }\n",
    "\n",
    "\n",
    "\n",
    "# IRIS\n",
    "\n",
    "#          _ . - = - . _\n",
    "#        . \"  \\  \\   /  /  \" .\n",
    "#      ,  \\                 /  .\n",
    "#    . \\   _,.--~=~\"~=~--.._   / .\n",
    "#   ;  _.-\"  / \\ !   ! / \\  \"-._  .\n",
    "#  / ,\"     / ,` .---. `, \\     \". \\\n",
    "# /.'   `~  |   /:::::\\   |  ~`   '.\\\n",
    "# \\`.  `~   |   \\:::::/   | ~`  ~ .'/\n",
    "#  \\ `.  `~ \\ `, `~~~' ,` /   ~`.' /\n",
    "#   .  \"-._  \\ / !   ! \\ /  _.-\"  .\n",
    "#    ./    \"=~~.._  _..~~=`\"    \\.\n",
    "#      ,/         \"\"          \\,\n",
    "#        . _/             \\_ . \n",
    "#           \" - ./. .\\. - \"\n",
    "\n",
    "irisArray = {\n",
    "        # m3Show.Histogram: {\"inputImg\": \"asfasdf\"},\n",
    "        # retinexRunnable.runMSRCP: {\"inputImg\": \"ignorethis\", \"show\": True},\n",
    "        # m3tv.denoise_tv_chambolle: {\"inputImg\": \"ignorethis\", \"weight\": 0.1,\"eps\": 0.0002,\"n_iter_max\": 200, \"multichannel\": True, \"show\": False},\n",
    "        # m3Color.reduceColor: {\"inputImg\": \"ignorethis\", \"n_colors\": 3, \"show\": True},\n",
    "        # m3F.getRed: {\"inputImg\": \"ignorethis\", \"show\": True},\n",
    "\n",
    "      #  m3Mask.mask: {\"eye\": \"asdfasdf\", \"img\":\"iris\", \"mask\":\"manyPolyMask\", \"dest\": \"iris\"},  \n",
    "        m3RemoveEyelid.removeEyelid: {\"eye\": \"ignore\", \"show\": True},\n",
    "    #   m3Edge.canny: {\"inputImg\": \"asdfasdf\", \"thresh1\": 100, \"thresh2\": 200},\n",
    "    #    m3Niels.storeAttr: {\"photo\": \"asdf\", \"eyeAttr\": \"\"}\n",
    "    \n",
    "    \n",
    "   #     m3Mask.placeEyesInFull(\"photo\": \"blabla\", \"fullImgAttr\": \"originalImage\", \"eyeAttr\":  )\n",
    "         }\n",
    "\n",
    "\n",
    "\n",
    "postFunctions = {\n",
    "   #\n",
    "    \n",
    "    \n",
    "    \n",
    "    #m3Niels.exportToFolder: {\"parent\": \"Eye\", \"fileName\": \"image\"},\n",
    "    m3Niels.loadMasksForComparison: {\"maskFolder\": \"PICTURES/single_masked/\"},\n",
    "    m3Comparison.batchcc: {},    \n",
    "    m3Niels.generateComparison: {\"outputName\":\n",
    "                         \"newdataset-fixedhohg\", \n",
    "                         \n",
    "                             \"attrs\": \n",
    "                                 [\"image\", \"iris\"]\n",
    "                            }, \n",
    "}\n",
    "\n",
    "\n",
    "\n",
    "\n",
    "pa = m3Niels.photoBatch(\"PICTURES/single/\", fArray, debug=False, debugIris=True, preArray=preFunctions, postArray=postFunctions, irisArray=irisArray)\n",
    "# Test_set_easy single\n",
    "\n",
    "\n",
    "\n"
   ]
  },
  {
   "cell_type": "code",
   "execution_count": null,
   "metadata": {},
   "outputs": [],
   "source": []
  }
 ],
 "metadata": {
  "kernelspec": {
   "display_name": "Python 3",
   "language": "python",
   "name": "python3"
  },
  "language_info": {
   "codemirror_mode": {
    "name": "ipython",
    "version": 3
   },
   "file_extension": ".py",
   "mimetype": "text/x-python",
   "name": "python",
   "nbconvert_exporter": "python",
   "pygments_lexer": "ipython3",
   "version": "3.7.3"
  },
  "pycharm": {
   "stem_cell": {
    "cell_type": "raw",
    "metadata": {
     "collapsed": false
    },
    "source": []
   }
  },
  "toc-autonumbering": true,
  "toc-showcode": true,
  "toc-showmarkdowntxt": false
 },
 "nbformat": 4,
 "nbformat_minor": 4
}
