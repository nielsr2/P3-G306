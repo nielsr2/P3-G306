{
 "cells": [
  {
   "cell_type": "code",
   "execution_count": 6,
   "metadata": {},
   "outputs": [],
   "source": [
    "import glob, cv2, os\n",
    "inputImages = glob.glob(\"PICTURES/Test_set_hard_mask/\" + \"*.*g\")\n",
    "inputImages.sort()\n",
    "        #print(\"is \" + inputImages)\n",
    "\n",
    "for imagePath in inputImages:\n",
    "        # print(\"?????!!!!!??????\")\n",
    "    inputImage = cv2.imread(imagePath, -1)\n",
    "    ret, threshed = cv2.threshold(inputImage,1,255,cv2.THRESH_BINARY)\n",
    "    cv2.imwrite(\"PICTURES/FUCKEDEASY/\" + os.path.basename(imagePath)  + \".jpg\", threshed)"
   ]
  }
 ],
 "metadata": {
  "kernelspec": {
   "display_name": "Python 3",
   "language": "python",
   "name": "python3"
  },
  "language_info": {
   "codemirror_mode": {
    "name": "ipython",
    "version": 3
   },
   "file_extension": ".py",
   "mimetype": "text/x-python",
   "name": "python",
   "nbconvert_exporter": "python",
   "pygments_lexer": "ipython3",
   "version": "3.7.3"
  }
 },
 "nbformat": 4,
 "nbformat_minor": 4
}
