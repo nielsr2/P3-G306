{
 "cells": [
  {
   "cell_type": "code",
   "execution_count": 1,
   "metadata": {
    "pycharm": {
     "is_executing": false
    }
   },
   "outputs": [],
   "source": [
    "from matplotlib import pyplot as plt\n",
    "plt.show()\n",
    "%load_ext autoreload\n",
    "%autoreload 2"
   ]
  },
  {
   "cell_type": "code",
   "execution_count": 2,
   "metadata": {
    "pycharm": {
     "is_executing": false
    }
   },
   "outputs": [
    {
     "name": "stdout",
     "text": [
      "The autoreload extension is already loaded. To reload it, use:\n",
      "  %reload_ext autoreload\n",
      "**********************************************************************\n",
      "**********************************************************************\n",
      "\u001b[1;44;39mDOING PRE FUNCIONS\\]\n",
      "**********************************************************************\n",
      "**********************************************************************\n",
      "function.__name__  in pre:  fakeEyes\n",
      "fakeEyes ran\n"
     ],
     "output_type": "stream"
    },
    {
     "traceback": [
      "\u001b[1;31m---------------------------------------------------------------------------\u001b[0m",
      "\u001b[1;31mTypeError\u001b[0m                                 Traceback (most recent call last)",
      "\u001b[1;32m<ipython-input-2-85bc2c0390c9>\u001b[0m in \u001b[0;36m<module>\u001b[1;34m\u001b[0m\n\u001b[0;32m     49\u001b[0m \u001b[1;33m\u001b[0m\u001b[0m\n\u001b[0;32m     50\u001b[0m \u001b[1;33m\u001b[0m\u001b[0m\n\u001b[1;32m---> 51\u001b[1;33m \u001b[0mm3Niels\u001b[0m\u001b[1;33m.\u001b[0m\u001b[0mphotoBatch\u001b[0m\u001b[1;33m(\u001b[0m\u001b[1;34m\"PICTURES/Eyes/Eyes-TestSet-SmallGood/\"\u001b[0m\u001b[1;33m,\u001b[0m \u001b[0mfArray\u001b[0m\u001b[1;33m,\u001b[0m \u001b[0mdebug\u001b[0m\u001b[1;33m=\u001b[0m\u001b[1;32mTrue\u001b[0m\u001b[1;33m,\u001b[0m \u001b[0mpreArray\u001b[0m\u001b[1;33m=\u001b[0m\u001b[0mpreFunctions\u001b[0m\u001b[1;33m,\u001b[0m \u001b[0mpostArray\u001b[0m\u001b[1;33m=\u001b[0m\u001b[0mpostFunctions\u001b[0m\u001b[1;33m)\u001b[0m\u001b[1;33m\u001b[0m\u001b[1;33m\u001b[0m\u001b[0m\n\u001b[0m\u001b[0;32m     52\u001b[0m \u001b[1;31m#\" PICTURES/Eyes/Eyes_set1/\"\u001b[0m\u001b[1;33m\u001b[0m\u001b[1;33m\u001b[0m\u001b[1;33m\u001b[0m\u001b[0m\n\u001b[0;32m     53\u001b[0m \u001b[1;31m# \"PICTURES/InputPictures/xsingle/\"\u001b[0m\u001b[1;33m\u001b[0m\u001b[1;33m\u001b[0m\u001b[1;33m\u001b[0m\u001b[0m\n",
      "\u001b[1;32m~\\PycharmProjects\\P3-G306\\STRUCTURE\\NOTEBOOKS\\M3\\m3Niels.py\u001b[0m in \u001b[0;36mphotoBatch\u001b[1;34m(ins, functionArray, postArray, preArray, irisArray, debug, debugIris, comparisonFolder)\u001b[0m\n\u001b[0;32m    193\u001b[0m \u001b[1;33m\u001b[0m\u001b[0m\n\u001b[0;32m    194\u001b[0m     \u001b[1;31m# if irisDebug:\u001b[0m\u001b[1;33m\u001b[0m\u001b[1;33m\u001b[0m\u001b[1;33m\u001b[0m\u001b[0m\n\u001b[1;32m--> 195\u001b[1;33m     \u001b[1;32mfor\u001b[0m \u001b[0mfunction\u001b[0m \u001b[1;32min\u001b[0m \u001b[0mirisArray\u001b[0m\u001b[1;33m:\u001b[0m\u001b[1;33m\u001b[0m\u001b[1;33m\u001b[0m\u001b[0m\n\u001b[0m\u001b[0;32m    196\u001b[0m         \u001b[0mparams\u001b[0m \u001b[1;33m=\u001b[0m \u001b[0mirisArray\u001b[0m\u001b[1;33m[\u001b[0m\u001b[0mfunction\u001b[0m\u001b[1;33m]\u001b[0m\u001b[1;33m\u001b[0m\u001b[1;33m\u001b[0m\u001b[0m\n\u001b[0;32m    197\u001b[0m         \u001b[0mparams\u001b[0m\u001b[1;33m[\u001b[0m\u001b[1;34m\"show\"\u001b[0m\u001b[1;33m]\u001b[0m \u001b[1;33m=\u001b[0m \u001b[0mdebugIris\u001b[0m\u001b[1;33m\u001b[0m\u001b[1;33m\u001b[0m\u001b[0m\n",
      "\u001b[1;31mTypeError\u001b[0m: 'NoneType' object is not iterable"
     ],
     "ename": "TypeError",
     "evalue": "'NoneType' object is not iterable",
     "output_type": "error"
    }
   ],
   "source": [
    "%load_ext autoreload\n",
    "%autoreload 2\n",
    "\n",
    "from matplotlib import pyplot as plt\n",
    "import cv2, sys\n",
    "sys.path.append(\"/M3\")\n",
    "from M3 import m3F as m3F\n",
    "# from M3 import m3Face\n",
    "from M3 import m3tv\n",
    "from M3 import m3HoughCircle as m3HoughCircle\n",
    "from M3 import m3Batch as m3Batch\n",
    "from M3 import m3Pre as m3Pre\n",
    "from M3 import m3Mask as m3Mask\n",
    "from M3 import m3HoughCircle as m3HoughCircle\n",
    "from M3 import m3MedianFilter, m3Denoising, retinexRunnable, m3Contrast\n",
    "from M3 import m3Niels as m3Niels\n",
    "from M3 import m3Class\n",
    "\n",
    "\n",
    "fArray = {\n",
    "    m3MedianFilter.medianFilter: {\"inputImg\": \"ignore\", \"kernelSize\": 3, \"show\": False},\n",
    "    retinexRunnable.runMSRCP: {\"inputImg\": \"ignorethis\", \"show\": False},\n",
    "    m3F.getRed: {\"inputImg\": \"ignorethis\", \"show\": False},\n",
    "    m3tv.denoise_tv_bregman: {\"inputImg\": \"ignorethis\", \"weight\": 1, \"max_iter\": 1000, \"eps\": 0.001, \"isotropic\": True, \"show\": False},\n",
    "    #m3tv.denoise_tv_chambolle: {\"inputImg\": \"ignorethis\", \"weight\": 0.1,\"eps\": 0.0002,\"n_iter_max\": 1000, \"multichannel\": True, \"show\": False},\n",
    "    m3HoughCircle.findCircle: {\"eye\": \"ignorethis\", \"resolution\": 1, \"min_dist\": 100, \"param_1\": 200, \"param_2\": 10, \n",
    "                                    \"min_radius_width_divider\": 7, \"max_radius_width_divider\": 4, \"show\": True},\n",
    "    #m3HoughCircle.findCircle: {\"eye\": \"ignorethis\", \"resolution\": 1, \"min_dist\": 100, \"param_1\": 200, \"param_2\": 15, \n",
    "     #                               \"min_radius_width_divider\": 3, \"max_radius_width_divider\": 0.1, \"show\": True},\n",
    "    #m3MedianFilter.medianFilter: {\"inputImg\": \"ignore\", \"kernelSize\": 11, \"show\": False},\n",
    "         }\n",
    "\n",
    "\n",
    "# this is functions used after all the processing\n",
    "postFunctions = {\n",
    "    #m3Mask.makeCircularMask: {}, # this should probably NOT be here, but in the fArray - will change\n",
    "    #m3Mask.applyCircMask: {}, # same for this\n",
    "    #m3Niels.exportToFolder: {\"parent\": \"Eye\", \"fileName\": \"masked\"},\n",
    "    # m3Niels.generateComparison: {\"fileName\": \"newdataset-doublechamandmedian\"}, # does not work for PC boys, but u should be able to change it a bit to work.\n",
    "}\n",
    "\n",
    "\n",
    "# pre-stuff\n",
    "#totally awesome comments\n",
    "preFunctions = {\n",
    "     # m3Face.findEyes: {\"show\": True, \"scalePercent\": 20}\n",
    "        m3Niels.fakeEyes: {} # pc boys u use dis, ( but then u can't use generateComparison)\n",
    "}\n",
    "\n",
    "\n",
    "m3Niels.photoBatch(\"PICTURES/Eyes/Eyes-TestSet-SmallGood/\", fArray, debug=True, preArray=preFunctions, postArray=postFunctions)\n",
    "#\" PICTURES/Eyes/Eyes_set1/\"\n",
    "# \"PICTURES/InputPictures/xsingle/\"\n",
    "\n",
    "#PICTURES/InputPictures/Set1\n",
    "#PICTURES/Eyes/Eyes_set1/\n"
   ]
  },
  {
   "cell_type": "code",
   "execution_count": null,
   "metadata": {
    "pycharm": {
     "is_executing": false
    }
   },
   "outputs": [],
   "source": []
  },
  {
   "cell_type": "code",
   "execution_count": null,
   "metadata": {
    "pycharm": {
     "is_executing": false
    }
   },
   "outputs": [],
   "source": []
  },
  {
   "cell_type": "code",
   "execution_count": null,
   "metadata": {
    "pycharm": {
     "is_executing": false
    }
   },
   "outputs": [],
   "source": []
  }
 ],
 "metadata": {
  "kernelspec": {
   "display_name": "Python 3",
   "language": "python",
   "name": "python3"
  },
  "language_info": {
   "codemirror_mode": {
    "name": "ipython",
    "version": 3
   },
   "file_extension": ".py",
   "mimetype": "text/x-python",
   "name": "python",
   "nbconvert_exporter": "python",
   "pygments_lexer": "ipython3",
   "version": "3.7.3"
  },
  "pycharm": {
   "stem_cell": {
    "cell_type": "raw",
    "source": [],
    "metadata": {
     "collapsed": false
    }
   }
  }
 },
 "nbformat": 4,
 "nbformat_minor": 4
}