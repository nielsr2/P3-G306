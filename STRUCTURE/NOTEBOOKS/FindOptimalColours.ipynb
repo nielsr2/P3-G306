{
 "cells": [
  {
   "cell_type": "code",
   "execution_count": 12,
   "metadata": {},
   "outputs": [
    {
     "name": "stdout",
     "output_type": "stream",
     "text": [
      "file CSVFILES/test_3.csv\n",
      "HEloo\n",
      "y: 0.43564356435643564\n",
      "HEloo\n",
      "y: 0.5802469135802469\n",
      "colour amount ['3']\n",
      "y means [0.5079452389683413]\n"
     ]
    }
   ],
   "source": [
    "import numpy as np\n",
    "import matplotlib.pyplot as plt\n",
    "import glob\n",
    "import csv\n",
    "\n",
    "\n",
    "csvFolder = glob.glob(\"CSVFILES/\" + \"*.csv\")\n",
    "\n",
    "\n",
    "colourAmount = []\n",
    "y_means = []\n",
    "\n",
    "for csvfile in csvFolder:\n",
    "    print(\"file\",csvfile)\n",
    "    colours = csvfile.split(\"_\")\n",
    "    colours = colours[1].replace(\".csv\",\"\")\n",
    "    colourAmount.append(colours)\n",
    "    y_accum = 0\n",
    "    row_count = 0\n",
    "    with open(csvfile, 'r') as _filehandler:\n",
    "        csv_file_reader = csv.DictReader(_filehandler)\n",
    "        \n",
    "        for row in csv_file_reader:\n",
    "            row_count += 1\n",
    "            # Do something here\n",
    "            #print(row['image_name'])\n",
    "            #print(row['TP'])\n",
    "\n",
    "            # Calculate y value for an image \n",
    "            y = (float(row['FP'])+float(row['FN']))/(float(row['TP'])+1)\n",
    "            print(\"y:\",y)\n",
    "            y_accum += y\n",
    "            \n",
    "    y_means.append(y_accum/row_count)\n",
    "        \n",
    "    print(\"colour amount\",colourAmount)\n",
    "    print(\"y means\",y_means)"
   ]
  },
  {
   "cell_type": "code",
   "execution_count": null,
   "metadata": {},
   "outputs": [],
   "source": []
  }
 ],
 "metadata": {
  "kernelspec": {
   "display_name": "Python 3",
   "language": "python",
   "name": "python3"
  },
  "language_info": {
   "codemirror_mode": {
    "name": "ipython",
    "version": 3
   },
   "file_extension": ".py",
   "mimetype": "text/x-python",
   "name": "python",
   "nbconvert_exporter": "python",
   "pygments_lexer": "ipython3",
   "version": "3.7.3"
  }
 },
 "nbformat": 4,
 "nbformat_minor": 4
}
