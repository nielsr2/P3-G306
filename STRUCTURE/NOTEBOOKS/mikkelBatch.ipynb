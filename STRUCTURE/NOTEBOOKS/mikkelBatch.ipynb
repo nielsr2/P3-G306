{
 "cells": [
  {
   "cell_type": "code",
   "execution_count": 1,
   "metadata": {
    "pycharm": {
     "is_executing": false
    }
   },
   "outputs": [],
   "source": [
    "from matplotlib import pyplot as plt\n",
    "plt.show()"
   ]
  },
  {
   "cell_type": "code",
   "execution_count": 2,
   "metadata": {
    "pycharm": {
     "is_executing": false
    }
   },
   "outputs": [
    {
     "name": "stdout",
     "text": [
      "************************************************************                ****************************************************\nprocessing: PICTURES/Eyes\\photo10_Face_1_Left.jpeg\n**************************************\nrunning<function findCircle at 0x000001A69F8E4798>\n"
     ],
     "output_type": "stream"
    },
    {
     "traceback": [
      "\u001b[1;31m---------------------------------------------------------------------------\u001b[0m",
      "\u001b[1;31mTypeError\u001b[0m                                 Traceback (most recent call last)",
      "\u001b[1;32m<ipython-input-2-e3d9fafb960d>\u001b[0m in \u001b[0;36m<module>\u001b[1;34m\u001b[0m\n\u001b[0;32m     20\u001b[0m \u001b[1;33m\u001b[0m\u001b[0m\n\u001b[0;32m     21\u001b[0m \u001b[1;31m#print(m3F.printRed(\"TRALALA\"))\u001b[0m\u001b[1;33m\u001b[0m\u001b[1;33m\u001b[0m\u001b[1;33m\u001b[0m\u001b[0m\n\u001b[1;32m---> 22\u001b[1;33m \u001b[0mm3Batch\u001b[0m\u001b[1;33m.\u001b[0m\u001b[0mbatchProcess\u001b[0m\u001b[1;33m(\u001b[0m\u001b[1;34m\"PICTURES/Eyes/\"\u001b[0m\u001b[1;33m,\u001b[0m \u001b[0mfArray\u001b[0m\u001b[1;33m,\u001b[0m \u001b[1;32mFalse\u001b[0m\u001b[1;33m)\u001b[0m\u001b[1;33m\u001b[0m\u001b[1;33m\u001b[0m\u001b[0m\n\u001b[0m\u001b[0;32m     23\u001b[0m \u001b[1;33m\u001b[0m\u001b[0m\n\u001b[0;32m     24\u001b[0m \u001b[1;33m\u001b[0m\u001b[0m\n",
      "\u001b[1;32m~\\PycharmProjects\\P3-G306\\STRUCTURE\\NOTEBOOKS\\M3\\m3Batch.py\u001b[0m in \u001b[0;36mbatchProcess\u001b[1;34m(inputFolder, functionArray, export)\u001b[0m\n\u001b[0;32m     51\u001b[0m                 \u001b[0mprint\u001b[0m\u001b[1;33m(\u001b[0m\u001b[1;34m\"**************************************\"\u001b[0m\u001b[1;33m)\u001b[0m\u001b[1;33m\u001b[0m\u001b[1;33m\u001b[0m\u001b[0m\n\u001b[0;32m     52\u001b[0m                 \u001b[0mprint\u001b[0m\u001b[1;33m(\u001b[0m\u001b[1;34m\"running\"\u001b[0m \u001b[1;33m+\u001b[0m \u001b[0mstr\u001b[0m\u001b[1;33m(\u001b[0m\u001b[0mfunction\u001b[0m\u001b[1;33m)\u001b[0m\u001b[1;33m)\u001b[0m\u001b[1;33m\u001b[0m\u001b[1;33m\u001b[0m\u001b[0m\n\u001b[1;32m---> 53\u001b[1;33m                 \u001b[0moutputImage\u001b[0m \u001b[1;33m=\u001b[0m \u001b[0mfunction\u001b[0m\u001b[1;33m(\u001b[0m\u001b[1;33m**\u001b[0m\u001b[0mcurrentFunction\u001b[0m\u001b[1;33m)\u001b[0m\u001b[1;33m\u001b[0m\u001b[1;33m\u001b[0m\u001b[0m\n\u001b[0m\u001b[0;32m     54\u001b[0m                 \u001b[0minputImage\u001b[0m \u001b[1;33m=\u001b[0m \u001b[0moutputImage\u001b[0m\u001b[1;33m\u001b[0m\u001b[1;33m\u001b[0m\u001b[0m\n\u001b[0;32m     55\u001b[0m         \u001b[1;32melse\u001b[0m\u001b[1;33m:\u001b[0m\u001b[1;33m\u001b[0m\u001b[1;33m\u001b[0m\u001b[0m\n",
      "\u001b[1;31mTypeError\u001b[0m: findCircle() missing 1 required positional argument: 'show'"
     ],
     "ename": "TypeError",
     "evalue": "findCircle() missing 1 required positional argument: 'show'",
     "output_type": "error"
    }
   ],
   "source": [
    "from matplotlib import pyplot as plt\n",
    "import cv2, sys\n",
    "sys.path.append(\"/M3\")\n",
    "from M3 import m3F as m3F\n",
    "from M3 import m3HoughCircle as m3HoughCircle\n",
    "from M3 import m3Batch as m3Batch\n",
    "\n",
    "# sys.path.append('../M3')\n",
    "\n",
    "# **********************************************************************\n",
    "# exampe of input\n",
    "'''\n",
    "fArray = {function1: {\"image\": \"ignorethis\", \"param1\": \"blalbal1\"},\n",
    "          function2: {\"image\": \"ignorethis\", \"param2\": \"blalbal2\"}}\n",
    "'''\n",
    "# **********************************************************************\n",
    "# fArray = {m3Face.findEyes: {\"image\": \"ignorethis\"},\n",
    "#           m3HoughCircle.findCircle: {\"image\": \"ignorethis\"}}\n",
    "fArray = {m3HoughCircle.findCircle: {\"inputImg\": \"ignorethis\"}}\n",
    "\n",
    "#print(m3F.printRed(\"TRALALA\"))\n",
    "m3Batch.batchProcess(\"PICTURES/Eyes/\", fArray, False)\n"
   ]
  },
  {
   "cell_type": "markdown",
   "metadata": {
    "pycharm": {
     "is_executing": false
    }
   },
   "source": [
    "# "
   ]
  },
  {
   "cell_type": "code",
   "execution_count": null,
   "metadata": {
    "pycharm": {
     "is_executing": false
    }
   },
   "outputs": [],
   "source": []
  }
 ],
 "metadata": {
  "kernelspec": {
   "display_name": "Python 3",
   "language": "python",
   "name": "python3"
  },
  "language_info": {
   "codemirror_mode": {
    "name": "ipython",
    "version": 3
   },
   "file_extension": ".py",
   "mimetype": "text/x-python",
   "name": "python",
   "nbconvert_exporter": "python",
   "pygments_lexer": "ipython3",
   "version": "3.7.3"
  },
  "pycharm": {
   "stem_cell": {
    "cell_type": "raw",
    "metadata": {
     "collapsed": false
    },
    "source": []
   }
  },
  "toc-autonumbering": true,
  "toc-showcode": true,
  "toc-showmarkdowntxt": false
 },
 "nbformat": 4,
 "nbformat_minor": 4
}