{
 "cells": [
  {
   "cell_type": "code",
   "execution_count": 1,
   "metadata": {},
   "outputs": [],
   "source": [
    "from matplotlib import pyplot as plt\n",
    "plt.show()"
   ]
  },
  {
   "cell_type": "code",
   "execution_count": 1,
   "metadata": {},
   "outputs": [
    {
     "name": "stdout",
     "output_type": "stream",
     "text": [
      "batchProcess ran with folder: Eyes/\n",
      "inputImages ['Eyes/photo3_Face_1_Right.jpeg', 'Eyes/photo19_Face_1_Right.jpeg', 'Eyes/photo6_Face_1_Right.jpeg', 'Eyes/photo16_Face_1_Left.jpeg', 'Eyes/photo2_Face_1_Right.jpeg', 'Eyes/photo12_Face_1_Left.jpeg', 'Eyes/photo18_Face_1_Right.jpeg', 'Eyes/photo19_Face_1_Left.jpeg', 'Eyes/photo4_Face_1_Right.jpeg', 'Eyes/photo17_Face_1_Left.jpeg', 'Eyes/photo13_Face_1_Left.jpeg', 'Eyes/photo18_Face_1_Left.jpeg', 'Eyes/photo4_Face_1_Left.jpeg', 'Eyes/photo8_Face_1_Left.jpeg', 'Eyes/photo16_Face_1_Right.jpeg', 'Eyes/photo14_Face_1_Left.jpeg', 'Eyes/photo9_Face_1_Right.jpeg', 'Eyes/photo3_Face_1_Left.jpeg', 'Eyes/photo13_Face_1_Right.jpeg', 'Eyes/photo17_Face_1_Right.jpeg', 'Eyes/photo8_Face_1_Right.jpeg', 'Eyes/photo10_Face_1_Left.jpeg', 'Eyes/photo12_Face_1_Right.jpeg', 'Eyes/photo15_Face_1_Left.jpeg', 'Eyes/photo14_Face_1_Right.jpeg', 'Eyes/photo9_Face_1_Left.jpeg', 'Eyes/photo11_Face_1_Right.jpeg', 'Eyes/photo2_Face_1_Left.jpeg', 'Eyes/photo6_Face_1_Left.jpeg', 'Eyes/photo15_Face_1_Right.jpeg', 'Eyes/photo10_Face_1_Right.jpeg', 'Eyes/photo11_Face_1_Left.jpeg']\n",
      "current function:  {'image': 'ignorethis'}\n"
     ]
    },
    {
     "ename": "TypeError",
     "evalue": "findCircle() got an unexpected keyword argument 'image'",
     "output_type": "error",
     "traceback": [
      "\u001b[0;31m---------------------------------------------------------------------------\u001b[0m",
      "\u001b[0;31mTypeError\u001b[0m                                 Traceback (most recent call last)",
      "\u001b[0;32m<ipython-input-1-114ee3124be5>\u001b[0m in \u001b[0;36m<module>\u001b[0;34m\u001b[0m\n\u001b[1;32m     21\u001b[0m \u001b[0;34m\u001b[0m\u001b[0m\n\u001b[1;32m     22\u001b[0m \u001b[0;31m#print(m3F.printRed(\"TRALALA\"))\u001b[0m\u001b[0;34m\u001b[0m\u001b[0;34m\u001b[0m\u001b[0;34m\u001b[0m\u001b[0m\n\u001b[0;32m---> 23\u001b[0;31m \u001b[0mm3Batch\u001b[0m\u001b[0;34m.\u001b[0m\u001b[0mbatchProcess\u001b[0m\u001b[0;34m(\u001b[0m\u001b[0;34m\"Eyes/\"\u001b[0m\u001b[0;34m,\u001b[0m \u001b[0mfArray\u001b[0m\u001b[0;34m,\u001b[0m \u001b[0;32mFalse\u001b[0m\u001b[0;34m)\u001b[0m\u001b[0;34m\u001b[0m\u001b[0;34m\u001b[0m\u001b[0m\n\u001b[0m",
      "\u001b[0;32m~/School/MED3/P3/Code/P3-G306/STRUCTURE/NOTEBOOKS/M3/m3Batch.py\u001b[0m in \u001b[0;36mbatchProcess\u001b[0;34m(inputFolder, functionArray, export)\u001b[0m\n\u001b[1;32m     42\u001b[0m                 \u001b[0mcurrent\u001b[0m\u001b[0;34m[\u001b[0m\u001b[0;34m\"image\"\u001b[0m\u001b[0;34m]\u001b[0m \u001b[0;34m=\u001b[0m \u001b[0minputImage\u001b[0m\u001b[0;34m\u001b[0m\u001b[0;34m\u001b[0m\u001b[0m\n\u001b[1;32m     43\u001b[0m                 \u001b[0;31m# https://realpython.com/python-kwargs-and-args/\u001b[0m\u001b[0;34m\u001b[0m\u001b[0;34m\u001b[0m\u001b[0;34m\u001b[0m\u001b[0m\n\u001b[0;32m---> 44\u001b[0;31m                 \u001b[0moutputImage\u001b[0m \u001b[0;34m=\u001b[0m \u001b[0mkey\u001b[0m\u001b[0;34m(\u001b[0m\u001b[0;34m**\u001b[0m\u001b[0mcurrent\u001b[0m\u001b[0;34m)\u001b[0m\u001b[0;34m\u001b[0m\u001b[0;34m\u001b[0m\u001b[0m\n\u001b[0m\u001b[1;32m     45\u001b[0m                 \u001b[0mplt\u001b[0m\u001b[0;34m.\u001b[0m\u001b[0mtitle\u001b[0m\u001b[0;34m(\u001b[0m\u001b[0mtitle\u001b[0m\u001b[0;34m)\u001b[0m\u001b[0;34m\u001b[0m\u001b[0;34m\u001b[0m\u001b[0m\n\u001b[1;32m     46\u001b[0m                 \u001b[0mplt\u001b[0m\u001b[0;34m.\u001b[0m\u001b[0maxis\u001b[0m\u001b[0;34m(\u001b[0m\u001b[0;34m\"off\"\u001b[0m\u001b[0;34m)\u001b[0m\u001b[0;34m\u001b[0m\u001b[0;34m\u001b[0m\u001b[0m\n",
      "\u001b[0;31mTypeError\u001b[0m: findCircle() got an unexpected keyword argument 'image'"
     ]
    }
   ],
   "source": [
    "from matplotlib import pyplot as plt\n",
    "import cv2, sys\n",
    "sys.path.append(\"/M3\")\n",
    "from M3 import m3F as m3F\n",
    "from M3 import m3Face as m3Face\n",
    "from M3 import m3HoughCircle as m3HoughCircle\n",
    "from M3 import m3Batch as m3Batch\n",
    "\n",
    "# sys.path.append('../M3')\n",
    "\n",
    "# **********************************************************************\n",
    "# exampe of input\n",
    "'''\n",
    "fArray = {function1: {\"image\": \"ignorethis\", \"param1\": \"blalbal1\"},\n",
    "          function2: {\"image\": \"ignorethis\", \"param2\": \"blalbal2\"}}\n",
    "'''\n",
    "# **********************************************************************\n",
    "# fArray = {m3Face.findEyes: {\"image\": \"ignorethis\"},\n",
    "#           m3HoughCircle.findCircle: {\"image\": \"ignorethis\"}}\n",
    "fArray = {m3HoughCircle.findCircle: {\"inputImg\": \"ignorethis\"}}\n",
    "\n",
    "#print(m3F.printRed(\"TRALALA\"))\n",
    "m3Batch.batchProcess(\"Eyes/\", fArray, False)\n"
   ]
  },
  {
   "cell_type": "code",
   "execution_count": null,
   "metadata": {},
   "outputs": [],
   "source": []
  },
  {
   "cell_type": "code",
   "execution_count": null,
   "metadata": {},
   "outputs": [],
   "source": []
  }
 ],
 "metadata": {
  "kernelspec": {
   "display_name": "Python 3",
   "language": "python",
   "name": "python3"
  },
  "language_info": {
   "codemirror_mode": {
    "name": "ipython",
    "version": 3
   },
   "file_extension": ".py",
   "mimetype": "text/x-python",
   "name": "python",
   "nbconvert_exporter": "python",
   "pygments_lexer": "ipython3",
   "version": "3.7.3"
  }
 },
 "nbformat": 4,
 "nbformat_minor": 4
}
