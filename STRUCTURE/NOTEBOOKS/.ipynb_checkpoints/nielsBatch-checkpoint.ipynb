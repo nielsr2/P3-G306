{
 "cells": [
  {
   "cell_type": "code",
   "execution_count": 9,
   "metadata": {
    "pycharm": {
     "is_executing": false
    }
   },
   "outputs": [
    {
     "name": "stdout",
     "output_type": "stream",
     "text": [
      "The autoreload extension is already loaded. To reload it, use:\n",
      "  %reload_ext autoreload\n"
     ]
    }
   ],
   "source": [
    "from matplotlib import pyplot as plt\n",
    "plt.show()\n",
    "%load_ext autoreload\n",
    "%autoreload 2"
   ]
  },
  {
   "cell_type": "code",
   "execution_count": 20,
   "metadata": {
    "pycharm": {
     "is_executing": false
    }
   },
   "outputs": [
    {
     "name": "stdout",
     "output_type": "stream",
     "text": [
      "The autoreload extension is already loaded. To reload it, use:\n",
      "  %reload_ext autoreload\n",
      "runMSRCP\n",
      "medianFilter\n",
      "getRed\n",
      "denoise_tv_chambolle\n",
      "findCircleSimple\n",
      "\u001b[1;44;39mfunction name runMSRCP\\]\n",
      "\u001b[1;44;39mfunction name medianFilter\\]\n",
      "\u001b[1;44;39mfunction name getRed\\]\n",
      "\u001b[1;44;39mfunction name denoise_tv_chambolle\\]\n",
      "\u001b[1;44;39mfunction name findCircleSimple\\]\n",
      "\u001b[1;44;39mfunction name runMSRCP\\]\n",
      "\u001b[1;44;39mfunction name medianFilter\\]\n",
      "\u001b[1;44;39mfunction name getRed\\]\n",
      "\u001b[1;44;39mfunction name denoise_tv_chambolle\\]\n",
      "\u001b[1;44;39mfunction name findCircleSimple\\]\n",
      "generateComparison\n",
      "PHOTO\n",
      "PHOTO\n"
     ]
    },
    {
     "ename": "ValueError",
     "evalue": "need at least one array to concatenate",
     "output_type": "error",
     "traceback": [
      "\u001b[0;31m---------------------------------------------------------------------------\u001b[0m",
      "\u001b[0;31mValueError\u001b[0m                                Traceback (most recent call last)",
      "\u001b[0;32m<ipython-input-20-135b4a091d8e>\u001b[0m in \u001b[0;36m<module>\u001b[0;34m\u001b[0m\n\u001b[1;32m     81\u001b[0m     m3Niels.generateComparison: {\"fileName\": \"youyou\"}}\n\u001b[1;32m     82\u001b[0m \u001b[0;34m\u001b[0m\u001b[0m\n\u001b[0;32m---> 83\u001b[0;31m \u001b[0mm3Niels\u001b[0m\u001b[0;34m.\u001b[0m\u001b[0mphotoBatch\u001b[0m\u001b[0;34m(\u001b[0m\u001b[0;34m\"PICTURES/InputPictures/single/\"\u001b[0m\u001b[0;34m,\u001b[0m \u001b[0mfArray\u001b[0m\u001b[0;34m,\u001b[0m \u001b[0mfinishFunctionArray\u001b[0m \u001b[0;34m=\u001b[0m \u001b[0mfinishFA\u001b[0m\u001b[0;34m)\u001b[0m\u001b[0;34m\u001b[0m\u001b[0;34m\u001b[0m\u001b[0m\n\u001b[0m\u001b[1;32m     84\u001b[0m \u001b[0;34m\u001b[0m\u001b[0m\n\u001b[1;32m     85\u001b[0m \u001b[0;34m\u001b[0m\u001b[0m\n",
      "\u001b[0;32m~/School/MED3/P3/Code/P3-G306/STRUCTURE/NOTEBOOKS/M3/m3Niels.py\u001b[0m in \u001b[0;36mphotoBatch\u001b[0;34m(ins, functionArray, finishFunctionArray, debug)\u001b[0m\n\u001b[1;32m    153\u001b[0m     \u001b[0;32mfor\u001b[0m \u001b[0mfunction\u001b[0m \u001b[0;32min\u001b[0m \u001b[0mfinishFunctionArray\u001b[0m\u001b[0;34m:\u001b[0m\u001b[0;34m\u001b[0m\u001b[0;34m\u001b[0m\u001b[0m\n\u001b[1;32m    154\u001b[0m         \u001b[0mparams\u001b[0m \u001b[0;34m=\u001b[0m \u001b[0mfinishFunctionArray\u001b[0m\u001b[0;34m[\u001b[0m\u001b[0mfunction\u001b[0m\u001b[0;34m]\u001b[0m\u001b[0;34m\u001b[0m\u001b[0;34m\u001b[0m\u001b[0m\n\u001b[0;32m--> 155\u001b[0;31m         \u001b[0mfunction\u001b[0m\u001b[0;34m(\u001b[0m\u001b[0mphotoArray\u001b[0m\u001b[0;34m,\u001b[0m \u001b[0;34m**\u001b[0m\u001b[0mparams\u001b[0m\u001b[0;34m)\u001b[0m\u001b[0;34m\u001b[0m\u001b[0;34m\u001b[0m\u001b[0m\n\u001b[0m\u001b[1;32m    156\u001b[0m \u001b[0;34m\u001b[0m\u001b[0m\n\u001b[1;32m    157\u001b[0m \u001b[0;34m\u001b[0m\u001b[0m\n",
      "\u001b[0;32m~/School/MED3/P3/Code/P3-G306/STRUCTURE/NOTEBOOKS/M3/m3Niels.py\u001b[0m in \u001b[0;36mgenerateComparison\u001b[0;34m(photoArray, fileName)\u001b[0m\n\u001b[1;32m     97\u001b[0m     \u001b[0mnow_string\u001b[0m \u001b[0;34m=\u001b[0m \u001b[0mnow\u001b[0m\u001b[0;34m.\u001b[0m\u001b[0mstrftime\u001b[0m\u001b[0;34m(\u001b[0m\u001b[0;34m\"%d-%m-%Y--%H-%M-%S\"\u001b[0m\u001b[0;34m)\u001b[0m\u001b[0;34m\u001b[0m\u001b[0;34m\u001b[0m\u001b[0m\n\u001b[1;32m     98\u001b[0m     \u001b[0;31m# print(facesToSave[0], type(facesToSave[0]))\u001b[0m\u001b[0;34m\u001b[0m\u001b[0;34m\u001b[0m\u001b[0;34m\u001b[0m\u001b[0m\n\u001b[0;32m---> 99\u001b[0;31m     \u001b[0moutput\u001b[0m \u001b[0;34m=\u001b[0m \u001b[0mconcat\u001b[0m\u001b[0;34m(\u001b[0m\u001b[0mfacesToSave\u001b[0m\u001b[0;34m,\u001b[0m \u001b[0mdirection\u001b[0m\u001b[0;34m=\u001b[0m\u001b[0;34m\"v\"\u001b[0m\u001b[0;34m)\u001b[0m\u001b[0;34m\u001b[0m\u001b[0;34m\u001b[0m\u001b[0m\n\u001b[0m\u001b[1;32m    100\u001b[0m     \u001b[0mm3Show\u001b[0m\u001b[0;34m.\u001b[0m\u001b[0mimshow\u001b[0m\u001b[0;34m(\u001b[0m\u001b[0moutput\u001b[0m\u001b[0;34m,\u001b[0m \u001b[0;34m\"asdfadf\"\u001b[0m\u001b[0;34m)\u001b[0m\u001b[0;34m\u001b[0m\u001b[0;34m\u001b[0m\u001b[0m\n\u001b[1;32m    101\u001b[0m     \u001b[0;32mif\u001b[0m \u001b[0;34m(\u001b[0m\u001b[0mfileName\u001b[0m \u001b[0;32mis\u001b[0m \u001b[0;32mnot\u001b[0m \u001b[0;32mNone\u001b[0m\u001b[0;34m)\u001b[0m\u001b[0;34m:\u001b[0m\u001b[0;34m\u001b[0m\u001b[0;34m\u001b[0m\u001b[0m\n",
      "\u001b[0;32m~/School/MED3/P3/Code/P3-G306/STRUCTURE/NOTEBOOKS/M3/m3Niels.py\u001b[0m in \u001b[0;36mconcat\u001b[0;34m(images, direction)\u001b[0m\n\u001b[1;32m    222\u001b[0m         \u001b[0mresult\u001b[0m \u001b[0;34m=\u001b[0m \u001b[0mnp\u001b[0m\u001b[0;34m.\u001b[0m\u001b[0mconcatenate\u001b[0m\u001b[0;34m(\u001b[0m\u001b[0;34m(\u001b[0m\u001b[0moutImgs\u001b[0m\u001b[0;34m)\u001b[0m\u001b[0;34m,\u001b[0m \u001b[0maxis\u001b[0m\u001b[0;34m=\u001b[0m\u001b[0;36m1\u001b[0m\u001b[0;34m)\u001b[0m\u001b[0;34m\u001b[0m\u001b[0;34m\u001b[0m\u001b[0m\n\u001b[1;32m    223\u001b[0m     \u001b[0;32melse\u001b[0m\u001b[0;34m:\u001b[0m\u001b[0;34m\u001b[0m\u001b[0;34m\u001b[0m\u001b[0m\n\u001b[0;32m--> 224\u001b[0;31m         \u001b[0mresult\u001b[0m \u001b[0;34m=\u001b[0m \u001b[0mnp\u001b[0m\u001b[0;34m.\u001b[0m\u001b[0mconcatenate\u001b[0m\u001b[0;34m(\u001b[0m\u001b[0;34m(\u001b[0m\u001b[0moutImgs\u001b[0m\u001b[0;34m)\u001b[0m\u001b[0;34m,\u001b[0m \u001b[0maxis\u001b[0m\u001b[0;34m=\u001b[0m\u001b[0;36m0\u001b[0m\u001b[0;34m)\u001b[0m\u001b[0;34m\u001b[0m\u001b[0;34m\u001b[0m\u001b[0m\n\u001b[0m\u001b[1;32m    225\u001b[0m     \u001b[0;32mreturn\u001b[0m \u001b[0mresult\u001b[0m\u001b[0;34m\u001b[0m\u001b[0;34m\u001b[0m\u001b[0m\n",
      "\u001b[0;31mValueError\u001b[0m: need at least one array to concatenate"
     ]
    }
   ],
   "source": [
    "%load_ext autoreload\n",
    "%autoreload 2\n",
    "\n",
    "from matplotlib import pyplot as plt\n",
    "import cv2, sys\n",
    "sys.path.append(\"/M3\")\n",
    "from M3 import m3F as m3F\n",
    "from M3 import m3Face, m3tv\n",
    "from M3 import m3HoughCircle as m3HoughCircle\n",
    "from M3 import m3Batch as m3Batch\n",
    "from M3 import m3Pre as m3Pre\n",
    "from M3 import m3Mask as m3Mask\n",
    "from M3 import m3HoughCircle as m3HoughCircle\n",
    "from M3 import m3MedianFilter, m3Denoising, retinexRunnable, m3Contrast\n",
    "from M3 import m3Niels as m3Niels\n",
    "\n",
    "# sys.path.append('../M3')\n",
    "\n",
    "# **********************************************************************\n",
    "# exampe of input\n",
    "'''\n",
    "fArray = {function1: {\"inputImg\": \"ignorethis\", \"param1\": \"blalbal1\"},\n",
    "          function2: {\"inputImg\": \"ignorethis\", \"param2\": \"blalbal2\"}}\n",
    "'''\n",
    "# **********************************************************************\n",
    "# fArray = {m3Face.findEyes: {\"image\": \"ignorethis\"},\n",
    "#           m3HoughCirc<le.findCircle: {\"image\": \"ignorethis\"}}\n",
    "#fArray = {m3Face.findEyes: {\"inputImg\": \"ignorethis\", \"show\": True}, \n",
    " #        m3Pre.gaussianBlur: {\"inputImg\": \"ignorethis\", \"amount\": 3, \"show\": True},\n",
    "  #       m3HoughCircle.findCircleSimple: {\"inputImg\": \"ignorethis\", \"show\": True},\n",
    "   #      m3Mask.makeCircularMask: {\"inputImg\": \"ignorethis\", \"show\": True},\n",
    "    #     m3Mask.makeFullMask: {\"inputImg\": \"ignorethis\", \"show\": True}}\n",
    "\n",
    "\n",
    "    \n",
    "fArray = {retinexRunnable.runMSRCP: {\"inputImg\": \"ignorethis\", \"show\": False},\n",
    "         m3Face.findEyes: {\"inputImg\": \"ignorethis\", \"show\": False}, \n",
    "#         m3MedianFilter.medianFilter: {\"inputImg\": \"ignore\", \"show\": False},\n",
    "         m3Contrast.contrast: {\"inputImg\": \"ignore\", \"show\": False},\n",
    "         m3Mask.makePolyMask: {\"inputImg\": \"ignorethis\", \"show\": False},\n",
    "         m3Mask.applyPolyMask: {\"inputImg\": \"ignorethis\", \"show\": False},\n",
    "         m3HoughCircle.findCircleSimple: {\"inputImg\": \"ignorethis\", \"show\": True},\n",
    "         m3Batch.makeComparison: {\"faceArray\": \"ignoreThis\", \"fileName\": \"nielzsimpleplusmalte3\"}}\n",
    "\n",
    "fArray = {\n",
    "         m3Face.findEyes: {\"inputImg\": \"ignorethis\", \"show\": False}, \n",
    "         m3MedianFilter.medianFilter: {\"inputImg\": \"ignore\", \"show\": False}}\n",
    "\n",
    "#fArray = {m3Face.findEyes: {\"inputImg\": \"ignorethis\"}}\n",
    "\n",
    "# fArray = {m3Face.findEyes: {\"image\": \"ignorethis\"},\n",
    "#           m3HoughCircle.findCircle: {\"image\": \"ignorethis\"}}\n",
    "#fArray = {m3Pre.gaussianBlur: {\"inputImg\": \"ignorethis\", \"amount\": 3, \"show\": True}}\n",
    "\n",
    "fArray = {\n",
    "         m3Face.findEyes: {\"photo\": \"ignorethis\", \"show\": True}, \n",
    "         retinexRunnable.runMSRCP: {\"inputImg\": \"ignorethis\", \"show\": True},\n",
    "         m3MedianFilter.medianFilter: {\"inputImg\": \"ignore\", \"show\": True},\n",
    "         m3F.getRed: {\"inputImg\": \"ignorethis\", \"show\": True},\n",
    "         #m3Contrast.contrast: {\"inputImg\": \"ignore\", \"show\": False},\n",
    "         m3tv.denoise_tv_chambolle: {\"inputImg\": \"ignorethis\", \"weight\": 0.1,\"eps\": 0.0002,\"n_iter_max\": 200, \"multichannel\": True, \"show\": False},\n",
    "         m3HoughCircle.findCircleSimple: {\"eye\": \"ignorethis\", \"show\": True},\n",
    "         m3Mask.makeCircularOutline: {\"photo\": \"ignorethis\", \"show\": True},\n",
    "         m3Mask.fullImgEyeOutline: {\"photo\": \"ignorethis\", \"show\": True}\n",
    "         #m3Batch.makeComparison: {\"faceArray\": \"ignoreThis\", \"fileName\": \"nielzsimpleplusmalte3\"}\n",
    "         }\n",
    "\n",
    "fArray = {\n",
    "             m3Face.findEyes: {\"photo\": \"ignorethis\", \"show\": True}, \n",
    "         retinexRunnable.runMSRCP: {\"inputImg\": \"ignorethis\", \"show\": True},\n",
    "         m3MedianFilter.medianFilter: {\"inputImg\": \"ignore\", \"show\": True},\n",
    "         m3F.getRed: {\"inputImg\": \"ignorethis\", \"show\": True},\n",
    "         #m3Contrast.contrast: {\"inputImg\": \"ignore\", \"show\": False},\n",
    "         m3tv.denoise_tv_chambolle: {\"inputImg\": \"ignorethis\", \"weight\": 0.1,\"eps\": 0.0002,\"n_iter_max\": 200, \"multichannel\": True, \"show\": False},\n",
    "         m3HoughCircle.findCircleSimple: {\"eye\": \"ignorethis\", \"show\": True},\n",
    "         #m3Batch.makeComparison: {\"faceArray\": \"ignoreThis\", \"fileName\": \"nielzsimpleplusmalte3\"}\n",
    "         }\n",
    "#m3Batch.nibBatch(\"PICTURES/InputPictures/single/\", fArray, False)\n",
    "#m3Niels.nibBatch(\"PICTURES/InputPictures/single/\", fArray, exportAs=\"comparison\", comparisonName=\"tralal\", debug=False)\n",
    "\n",
    "finishFA = {\n",
    "    m3Niels.generateComparison: {\"fileName\": \"youyou\"}}\n",
    "\n",
    "m3Niels.photoBatch(\"PICTURES/InputPictures/single/\", fArray, finishFunctionArray = finishFA)\n",
    "\n",
    "\n",
    "\n",
    "#m3Batch.batchProcess2(\"PICTURES/InputPictures/Set1/\", fArray, False)\n"
   ]
  },
  {
   "cell_type": "code",
   "execution_count": null,
   "metadata": {},
   "outputs": [],
   "source": []
  },
  {
   "cell_type": "code",
   "execution_count": null,
   "metadata": {},
   "outputs": [],
   "source": []
  },
  {
   "cell_type": "code",
   "execution_count": null,
   "metadata": {
    "pycharm": {
     "is_executing": false
    }
   },
   "outputs": [],
   "source": []
  },
  {
   "cell_type": "code",
   "execution_count": null,
   "metadata": {
    "pycharm": {
     "is_executing": false
    }
   },
   "outputs": [],
   "source": []
  }
 ],
 "metadata": {
  "kernelspec": {
   "display_name": "Python 3",
   "language": "python",
   "name": "python3"
  },
  "language_info": {
   "codemirror_mode": {
    "name": "ipython",
    "version": 3
   },
   "file_extension": ".py",
   "mimetype": "text/x-python",
   "name": "python",
   "nbconvert_exporter": "python",
   "pygments_lexer": "ipython3",
   "version": "3.7.3"
  }
 },
 "nbformat": 4,
 "nbformat_minor": 4
}
