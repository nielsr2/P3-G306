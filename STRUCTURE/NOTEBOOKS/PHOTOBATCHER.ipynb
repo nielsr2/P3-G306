{
 "cells": [
  {
   "cell_type": "markdown",
   "metadata": {},
   "source": [
    "# imports"
   ]
  },
  {
   "cell_type": "code",
   "execution_count": null,
   "metadata": {},
   "outputs": [],
   "source": [
    "%load_ext autoreload\n",
    "%autoreload 2\n",
    "\n",
    "from matplotlib import pyplot as plt\n",
    "import cv2, sys\n",
    "sys.path.append(\"/M3\")\n",
    "from M3 import m3F as m3F\n",
    "from M3 import m3Face, m3tv\n",
    "from M3 import m3HoughCircle as m3HoughCircle\n",
    "from M3 import m3Batcher as m3Batcher\n",
    "from M3 import m3Batch as m3Batch\n",
    "from M3 import m3Pre as m3Pre\n",
    "from M3 import m3Mask as m3Mask\n",
    "from M3 import m3HoughCircle as m3HoughCircle\n",
    "from M3 import m3MedianFilter, m3Denoising, retinexRunnable, m3Contrast\n",
    "from M3 import m3Niels as m3Niels\n",
    "from M3 import m3Class, m3Color, m3Size, m3Show, m3Edge, m3Comparison\n",
    "#from M3 import m3ReduceAmountsOfColor\n",
    "\n",
    "\n"
   ]
  },
  {
   "cell_type": "code",
   "execution_count": null,
   "metadata": {},
   "outputs": [],
   "source": [
    "# RUN ONCE, TO LOAD IMGS,  FIND EYES AND COMPARISONS MASKS"
   ]
  },
  {
   "cell_type": "code",
   "execution_count": null,
   "metadata": {},
   "outputs": [],
   "source": [
    "\n",
    "# pre-stuff\n",
    "\n",
    "preFunctions = {\n",
    "    \n",
    "         m3Face.findEyes68: {\"show\": True, \"division\": 8}, #returns eye.mask68\n",
    "         m3Face.findEyes194: {\"show\": True, \"division\": 8}, #returns eye.194\n",
    "         m3Batch.loadMasksForComparison: {\"maskFolder\": \"PICTURES/five_mask/\"}, #Test_set_easy_mask single_masked five_mask\n",
    "    \n",
    "\n",
    "}\n",
    "\n",
    "\n",
    "\n",
    "pa = None\n",
    "\n",
    "pa = m3Batcher.photoBatcher(\"PICTURES/five/\", preFunctions) # five\n",
    "\n",
    "\n",
    "\n",
    "\n",
    "print(pa.__dict__.items(), pa.photoArray)\n",
    "\n",
    "\n",
    "#pa = m3Batch.photoBatch(\"PICTURES/single/\", fArray, debug=True, debugIris=True, preArray=preFunctions, postArray=postFunctions)\n",
    "# Test_set_easy single Test_set_hard\n",
    "\n",
    "#pa.iterate(fArray)\n",
    "#pa.post(postFunctions)\n",
    "\n"
   ]
  },
  {
   "cell_type": "code",
   "execution_count": null,
   "metadata": {},
   "outputs": [],
   "source": [
    "# YOU CAN RUN THIS MULTIPLE TIMES AFTER THE FIRST HAS BEEN RUN, SO NOT TO LOAD/COMPUTE THE ABOVE"
   ]
  },
  {
   "cell_type": "code",
   "execution_count": null,
   "metadata": {},
   "outputs": [],
   "source": [
    "fArray = [ { \"doFor\": {\"original\":\"image\", \"doAs\": \"wip\"}},\n",
    "        {m3MedianFilter.medianFilter: {\"kernelSize\": 5, \"show\": False}},\n",
    "        {retinexRunnable.runMSRCP: { \"show\": False}},\n",
    "        {m3Color.reduceColor: {\"n_colors\": 5, \"show\": False}},\n",
    "        {m3F.getRed: {\"show\": True}},\n",
    "        {m3tv.denoise_tv_chambolle: {\"weight\": 1,\"eps\": 0.002,\"n_iter_max\": 200, \"multichannel\": True, \"show\": False}},\n",
    "        {m3Color.reduceColor: {\"n_colors\": 5, \"show\": True}},\n",
    "        {\"doForEye\": {}},\n",
    "        {m3Mask.mask: { \"img\":\"wip\", \"mask\":\"mask68\", \"dest\": \"noLids\", \"show\": False}}, \n",
    "        {\"doForEye\": {}},\n",
    "        {m3HoughCircle.findCircleAndMakeMask: { \"eyeAttr\":\"noLids\",  # returns a eye.houghMask\n",
    "                                              \"houghParams\": \n",
    "                                              {\"resolution\": 1, \"min_dist\": 100, \"param_1\": 200, \"param_2\": 10, \n",
    "                                               \"min_radius_width_divider\": 7, \"max_radius_width_divider\": 5.5,\n",
    "                                               \"show\": True},\n",
    "                                              \"maskParams\" :\n",
    "                                              {\n",
    "                                                  \"onlyOne\": True\n",
    "                                              }\n",
    "                                             }},\n",
    "            {\"doForEye\": {}},\n",
    "            {m3Mask.mask: { \"img\":\"houghMask\", \"mask\":\"mask194\", \"dest\": \"result\", \"show\": False}},\n",
    "           {\"doFor\": {\"original\":\"result\", \"doAs\": \"result2\"}},\n",
    "            {m3MedianFilter.blur: {\"kernelSize\": (50,50), \"show\": True}},\n",
    "         \n",
    "          \n",
    "         ]\n",
    "\n",
    "\n",
    "\n",
    "\n",
    "postFunctions = {\n",
    "                m3Comparison.pixelcomparison: {\"eyeAttr\": \"result2\"},\n",
    "                m3Batch.generateComparison: {\"outputName\":\n",
    "                                             \"newdataset-fixedhohg\", \n",
    "                                             \"attrs\": \n",
    "                                                    [\"image\", \"houghOutline\", \"result2\", \"result\", \"testMask\", \"wip\" ],\n",
    "                                                     \"folderName\": \"nielsline_TPFN_WBLUR5050\", \"exportFullMask\": False, \"CSV\": True,\n",
    "                                                     \"settings\": [preFunctions, fArray]\n",
    "                            }, \n",
    "}\n",
    "\n",
    "kMeanList = [2,3,4,5,6]\n",
    "kMeanList = []\n",
    "pa.iterate(fArray)\n",
    "pa.post(postFunctions)\n",
    "\n",
    "for index in range(0,(len(kMeanList))):\n",
    "    m3F.printBlue(\"LOOPING\" +  str(index))\n",
    "    func = fArray[3]\n",
    "#    print(params)\n",
    "#    print(\"RCparams\", RCparams)\n",
    "    for f, p in func.items():\n",
    "        p[\"n_colors\"] = kMeanList[index]\n",
    "  #  print(\"changed\", p)\n",
    "    GCParams = postFunctions[m3Batch.generateComparison]\n",
    "    GCParams[\"folderName\"] = \"nielsFive_noBlur\" + str(kMeanList[index])\n",
    "  #  print(GCParams)\n",
    "  #  GCParams = GCParams[\"foldername\"]\n",
    " #   print( GCParams[\"foldername\"])\n",
    "    print(\"*******\")\n",
    "    print(\"fArray\",fArray)\n",
    "    pa.iterate(fArray)\n",
    "    pa.post(postFunctions)\n"
   ]
  }
 ],
 "metadata": {
  "kernelspec": {
   "display_name": "Python 3",
   "language": "python",
   "name": "python3"
  },
  "language_info": {
   "codemirror_mode": {
    "name": "ipython",
    "version": 3
   },
   "file_extension": ".py",
   "mimetype": "text/x-python",
   "name": "python",
   "nbconvert_exporter": "python",
   "pygments_lexer": "ipython3",
   "version": "3.7.3"
  }
 },
 "nbformat": 4,
 "nbformat_minor": 4
}
