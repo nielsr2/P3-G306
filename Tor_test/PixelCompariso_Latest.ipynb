{
 "cells": [
  {
   "cell_type": "code",
   "execution_count": 17,
   "metadata": {},
   "outputs": [
    {
     "name": "stdout",
     "output_type": "stream",
     "text": [
      "43040\n",
      "44777\n",
      "304304\n",
      "304304\n",
      "261264\n",
      "259527\n",
      "99.33515524526916\n"
     ]
    }
   ],
   "source": [
    "import cv2 \n",
    "\n",
    "\n",
    "inputImg1 = cv2.imread(\"15.jpg_0hardedge.jpg\",0)\n",
    "inputImg2 = cv2.imread(\"15.jpg_0softedge.jpg\",0)\n",
    "\n",
    "\n",
    "\n",
    "ret,binary1 = cv2.threshold(inputImg1,127,255,cv2.THRESH_BINARY)\n",
    "ret,binary2 = cv2.threshold(inputImg2,127,255,cv2.THRESH_BINARY)\n",
    "\n",
    "\n",
    "rows1,cols1 = inputImg1.shape\n",
    "\n",
    "for i in range(rows1):\n",
    "    for j in range(cols1):\n",
    "        k = inputImg1[i,j]\n",
    "        #Non-black pixels\n",
    "        cntNotBlack1 = cv2.countNonZero(binary1)\n",
    "        #Pixel-count\n",
    "        cntPixels1 = rows1*cols1\n",
    "        #Black-pixels\n",
    "        cntBlack1 = cntPixels1 - cntNotBlack1\n",
    "\n",
    "\n",
    "\n",
    "\n",
    "\n",
    "rows2,cols2 = inputImg2.shape\n",
    "\n",
    "for i in range(rows2):\n",
    "    for j in range(cols2):\n",
    "        k = inputImg2[i,j]\n",
    "        #Non-black pixels\n",
    "        cntNotBlack2 = cv2.countNonZero(binary2)\n",
    "        #Pixel-count\n",
    "        cntPixels2 = rows2*cols2\n",
    "        #Black-pixels\n",
    "        cntBlack2 = cntPixels2 - cntNotBlack2\n",
    "        \n",
    "\n",
    "pixelPercentage = (cntBlack2/cntBlack1)*100\n",
    "\n",
    "print (cntNotBlack1)\n",
    "print (cntNotBlack2)\n",
    "print (cntPixels1)\n",
    "print (cntPixels2)\n",
    "print (cntBlack1)\n",
    "print (cntBlack2)\n",
    "print (pixelPercentage)\n",
    "\n",
    "\n",
    "        \n",
    "\n"
   ]
  },
  {
   "cell_type": "code",
   "execution_count": null,
   "metadata": {},
   "outputs": [],
   "source": []
  }
 ],
 "metadata": {
  "kernelspec": {
   "display_name": "Python 3",
   "language": "python",
   "name": "python3"
  },
  "language_info": {
   "codemirror_mode": {
    "name": "ipython",
    "version": 3
   },
   "file_extension": ".py",
   "mimetype": "text/x-python",
   "name": "python",
   "nbconvert_exporter": "python",
   "pygments_lexer": "ipython3",
   "version": "3.7.4"
  }
 },
 "nbformat": 4,
 "nbformat_minor": 4
}
