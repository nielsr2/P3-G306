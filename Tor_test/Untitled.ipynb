{
 "cells": [
  {
   "cell_type": "code",
   "execution_count": 1,
   "metadata": {},
   "outputs": [
    {
     "data": {
      "text/plain": [
       "<Figure size 640x480 with 1 Axes>"
      ]
     },
     "metadata": {},
     "output_type": "display_data"
    },
    {
     "data": {
      "text/plain": [
       "<Figure size 640x480 with 1 Axes>"
      ]
     },
     "metadata": {},
     "output_type": "display_data"
    },
    {
     "name": "stdout",
     "output_type": "stream",
     "text": [
      "1.0\n",
      "1.0\n",
      "1.0\n",
      "1.0\n",
      "1.0\n",
      "1.0\n",
      "1.0\n",
      "1.0\n",
      "1.0\n",
      "1.0\n",
      "1.0\n",
      "1.0\n",
      "1.0\n",
      "1.0\n",
      "1.0\n",
      "1.0\n",
      "1.0\n",
      "1.0\n",
      "1.0\n",
      "1.0\n",
      "1.0\n",
      "1.0\n",
      "1.0\n",
      "1.0\n",
      "1.0\n",
      "1.0\n",
      "1.0\n",
      "1.0\n",
      "1.0\n",
      "1.0\n",
      "1.0\n",
      "1.0\n",
      "1.0\n",
      "1.0\n",
      "1.0\n",
      "1.0\n",
      "1.0\n",
      "1.0\n",
      "1.0\n",
      "1.0\n",
      "1.0\n",
      "1.0\n",
      "1.0\n",
      "1.0\n",
      "1.0\n",
      "1.0\n",
      "1.0\n",
      "1.0\n",
      "1.0\n",
      "1.0\n",
      "handMaskAccumLum 50.0\n",
      "TruePositive 7.490196078431373\n",
      "FalseNegative 42.50980392156862\n",
      "FalsePositive 50.0\n",
      "TruePositive 14.980392156862745\n",
      "FalseNegative 85.01960784313724\n",
      "FalsePositive 100.0\n",
      "144\n"
     ]
    },
    {
     "data": {
      "text/plain": [
       "<Figure size 640x480 with 1 Axes>"
      ]
     },
     "metadata": {},
     "output_type": "display_data"
    },
    {
     "data": {
      "text/plain": [
       "<Figure size 640x480 with 1 Axes>"
      ]
     },
     "metadata": {},
     "output_type": "display_data"
    },
    {
     "data": {
      "text/plain": [
       "<Figure size 640x480 with 1 Axes>"
      ]
     },
     "metadata": {},
     "output_type": "display_data"
    },
    {
     "name": "stdout",
     "output_type": "stream",
     "text": [
      "imgSize 144\n"
     ]
    }
   ],
   "source": [
    "import cv2\n",
    "from matplotlib import pyplot as plt\n",
    "import numpy as np\n",
    "\n",
    "\n",
    "\n",
    "def imshow(inputImg, title):\n",
    "    # print(inputImg)\n",
    "    plt.clf()\n",
    "    plt.title(title)\n",
    "    plt.axis(\"off\")\n",
    "    # print(\"inputImg.shape\", inputImg.shape)\n",
    "    plt.imshow(cv2.cvtColor(inputImg, cv2.COLOR_BGR2RGB), interpolation='none')\n",
    "    plt.show()\n",
    "    # plt.axes\n",
    "    return inputImg\n",
    "\n",
    "orgHandMask= cv2.imread(\"ground.png\",cv2.IMREAD_GRAYSCALE)\n",
    "orgAutoMask  = cv2.imread(\"test.png\",cv2.IMREAD_GRAYSCALE)\n",
    "\n",
    "imshow(orgHandMask, \"orgHandMask\")\n",
    "imshow(orgAutoMask, \"orgAutoMask\")\n",
    "autoMask= orgAutoMask.astype(\"float64\")\n",
    "handMask= orgHandMask.astype(\"float64\")\n",
    "\n",
    "\n",
    "height,width= autoMask.shape\n",
    "imgSize=height*width \n",
    "TruePositive = 0 \n",
    "FalsePositive=0\n",
    "FalseNegative=0\n",
    "handMaskAccumLum =0\n",
    "comparison = np.ndarray(shape=(12,12,3), dtype=np.uint8)\n",
    "for y in range(height):\n",
    "    for x in range(width):\n",
    "        #count1 += autoMask[y,x]\n",
    "        autoMask[y,x]= (orgAutoMask[y,x]/255)\n",
    "        handMask[y,x]= (orgHandMask[y,x]/255)\n",
    "        \n",
    "#        handMask[y,x] = 50\n",
    "        #imshow(handMask,\"handMask\")\n",
    "        \n",
    "        if (autoMask[y,x] and handMask[y,x]) !=0:\n",
    "            TruePositive+=autoMask[y,x]/handMask[y,x]\n",
    "            comparison[y,x] = (0,255,0)\n",
    "            \n",
    "        if (autoMask[y,x] < handMask[y,x]):\n",
    "            FalseNegative+= handMask[y,x]-autoMask[y,x]\n",
    "            comparison[y,x] = (0,0,255)\n",
    "            \n",
    "        if (autoMask[y,x] > handMask[y,x]):\n",
    "            FalsePositive+= autoMask[y,x] - handMask[y,x]\n",
    "            comparison[y,x] = (0,127,127)\n",
    "        if (handMask[y,x] !=0):\n",
    "            handMaskAccumLum += handMask[y,x]\n",
    "            comparison[y,x] = (127,127,0)\n",
    "            print(handMask[y,x])\n",
    "            \n",
    "            \n",
    "autoMask=autoMask*255\n",
    "handMask=handMask*255\n",
    "\n",
    "\n",
    "\n",
    "print (\"handMaskAccumLum\",handMaskAccumLum)\n",
    "\n",
    "print(\"TruePositive\",TruePositive)\n",
    "print(\"FalseNegative\",FalseNegative)\n",
    "print(\"FalsePositive\",FalsePositive)\n",
    "            \n",
    "TruePositive= (TruePositive/handMaskAccumLum)*100\n",
    "FalseNegative=(FalseNegative/handMaskAccumLum) *100\n",
    "FalsePositive=(FalsePositive/handMaskAccumLum)*100\n",
    "\n",
    "print(\"TruePositive\",TruePositive)\n",
    "print(\"FalseNegative\",FalseNegative)\n",
    "print(\"FalsePositive\",FalsePositive)\n",
    "\n",
    "print(imgSize)\n",
    "\n",
    "#imshow(handMask,\"handMask\")\n",
    "\n",
    "\n",
    "imshow(orgHandMask,\"handMask\")\n",
    "imshow(orgAutoMask,\"autoMask\")\n",
    "imshow(comparison,\"comparison\")\n",
    "\n",
    "\n",
    "\n",
    "\n",
    "print(\"imgSize\", imgSize)"
   ]
  },
  {
   "cell_type": "code",
   "execution_count": null,
   "metadata": {},
   "outputs": [],
   "source": []
  },
  {
   "cell_type": "code",
   "execution_count": null,
   "metadata": {},
   "outputs": [],
   "source": []
  }
 ],
 "metadata": {
  "kernelspec": {
   "display_name": "Python 3",
   "language": "python",
   "name": "python3"
  },
  "language_info": {
   "codemirror_mode": {
    "name": "ipython",
    "version": 3
   },
   "file_extension": ".py",
   "mimetype": "text/x-python",
   "name": "python",
   "nbconvert_exporter": "python",
   "pygments_lexer": "ipython3",
   "version": "3.7.3"
  }
 },
 "nbformat": 4,
 "nbformat_minor": 4
}
