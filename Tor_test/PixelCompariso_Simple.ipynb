{
 "cells": [
  {
   "cell_type": "code",
   "execution_count": 13,
   "metadata": {},
   "outputs": [
    {
     "name": "stdout",
     "output_type": "stream",
     "text": [
      "43040.14509803922\n",
      "44786.87450980392\n",
      "Percentage of overlapping normalized-valued pixels overlapping != 0 104.0583724980153\n",
      "96.09990777234893\n"
     ]
    }
   ],
   "source": [
    "import cv2 \n",
    "\n",
    "\n",
    "inputImg1 = cv2.imread(\"15.jpg_0hardedge.jpg\",0)\n",
    "inputImg2 = cv2.imread(\"15.jpg_0softedge.jpg\",0)\n",
    "\n",
    "rows1,cols1 = inputImg1.shape\n",
    "count1 = 0\n",
    "\n",
    "for i in range(rows1):\n",
    "    for j in range(cols1):\n",
    "        count1 += inputImg1[i,j]\n",
    "\n",
    "count1 = count1/255       \n",
    "\n",
    "print(count1)\n",
    "\n",
    "\n",
    "\n",
    "\n",
    "rows2,cols2 = inputImg2.shape\n",
    "#Pixel-count\n",
    "cntPixels2 = rows2*cols2\n",
    "\n",
    "count2 = 0\n",
    "for i in range(rows2):\n",
    "    for j in range(cols2):\n",
    "        count2 += inputImg2[i,j]\n",
    "\n",
    "cntPixels2 = cntPixels2/255\n",
    "\n",
    "count2 = count2/255 \n",
    "print(count2)     \n",
    "#Valued pixels overlapping \n",
    "valuedPixelComparison = (count2/count1)*100\n",
    "print (\"Percentage of overlapping normalized-valued pixels overlapping != 0\", valuedPixelComparison)\n",
    "\n",
    "\n",
    "\n",
    "\n",
    "\n",
    "        \n",
    "\n"
   ]
  },
  {
   "cell_type": "code",
   "execution_count": null,
   "metadata": {},
   "outputs": [],
   "source": []
  }
 ],
 "metadata": {
  "kernelspec": {
   "display_name": "Python 3",
   "language": "python",
   "name": "python3"
  },
  "language_info": {
   "codemirror_mode": {
    "name": "ipython",
    "version": 3
   },
   "file_extension": ".py",
   "mimetype": "text/x-python",
   "name": "python",
   "nbconvert_exporter": "python",
   "pygments_lexer": "ipython3",
   "version": "3.7.4"
  }
 },
 "nbformat": 4,
 "nbformat_minor": 4
}
