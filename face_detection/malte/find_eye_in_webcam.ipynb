{
 "cells": [
  {
   "cell_type": "code",
   "execution_count": 3,
   "metadata": {},
   "outputs": [
    {
     "ename": "SyntaxError",
     "evalue": "invalid syntax (<ipython-input-3-98bae3c64e82>, line 33)",
     "output_type": "error",
     "traceback": [
      "\u001b[0;36m  File \u001b[0;32m\"<ipython-input-3-98bae3c64e82>\"\u001b[0;36m, line \u001b[0;32m33\u001b[0m\n\u001b[0;31m    :_ d = ImageDraw.Draw(pil_image)\u001b[0m\n\u001b[0m    ^\u001b[0m\n\u001b[0;31mSyntaxError\u001b[0m\u001b[0;31m:\u001b[0m invalid syntax\n"
     ]
    }
   ],
   "source": [
    "import face_recognition\n",
    "from PIL import Image, ImageDraw\n",
    "import cv2\n",
    "\n",
    "# This is a demo of blurring faces in video.\n",
    "\n",
    "# PLEASE NOTE: This example requires OpenCV (the `cv2` library) to be installed only to read from your webcam.\n",
    "# OpenCV is *not* required to use the face_recognition library. It's only required if you want to run this\n",
    "# specific demo. If you have trouble installing it, try any of the other demos that don't require it instead.\n",
    "\n",
    "# Get a reference to webcam #0 (the default one)\n",
    "video_capture = cv2.VideoCapture(0)\n",
    "\n",
    "# Initialize some variables\n",
    "face_locations = []\n",
    "\n",
    "while True:\n",
    "    # Grab a single frame of video\n",
    "    ret, frame = video_capture.read()\n",
    "\n",
    "    # Resize frame of video to 1/4 size for faster face detection processing\n",
    "    small_frame = cv2.resize(frame, (0, 0), fx=0.25, fy=0.25)\n",
    "\n",
    "    # Find all the faces and face encodings in the current frame of video\n",
    "    face_locations = face_recognition.face_locations(small_frame, model=\"cnn\")\n",
    "    \n",
    "    face_landmarks_list = face_recognition.face_landmarks(frame)\n",
    "    \n",
    "    print(\"I found {} face(s) in this photograph.\".format(len(face_landmarks_list)))\n",
    "\n",
    "    # Create a PIL imagedraw object so we can draw on the picture\n",
    "    pil_image = Image.fromarray(frame)\n",
    "    d = ImageDraw.Draw(pil_image)\n",
    "\n",
    "    for face_landmarks in face_landmarks_list:\n",
    "\n",
    "        left_eye = face_landmarks['left_eye']\n",
    "        right_eye = face_landmarks['right_eye']\n",
    "        mg = (left_eye[3][0]-left_eye[0][0])*0.1\n",
    "\n",
    "        # Print the location of each facial feature in this image\n",
    "        #for left_eye in face_landmarks.keys():\n",
    "        print(\"The {} in this face has the following points: {}\".format('left eye', left_eye))\n",
    "        print(\"The {} in this face has the following points: {}\".format('right eye', right_eye))\n",
    "\n",
    "\n",
    "        if left_eye[0][1] > left_eye[3][1]:\n",
    "            d.rectangle((left_eye[0][0]-mg,left_eye[2][1]-mg,left_eye[3][0]+mg,left_eye[5][1]+mg))\n",
    "            d.rectangle((right_eye[0][0]-mg,right_eye[2][1]-mg,right_eye[3][0]+mg,right_eye[5][1]+mg))\n",
    "        else:\n",
    "            d.rectangle((left_eye[0][0]-mg,left_eye[1][1]-mg,left_eye[3][0]+mg,left_eye[4][1]+mg))\n",
    "            d.rectangle((right_eye[0][0]-mg,right_eye[1][1]-mg,right_eye[3][0]+mg,right_eye[4][1]+mg))\n",
    "        \n",
    "        \n",
    "\n",
    "    \n",
    "    # Display the resulting image\n",
    "    cv2.imshow('Video', frame)\n",
    "\n",
    "    # Hit 'q' on the keyboard to quit!\n",
    "    if cv2.waitKey(1) & 0xFF == ord('q'):\n",
    "        break\n",
    "\n",
    "# Release handle to the webcam\n",
    "video_capture.release()\n",
    "cv2.destroyAllWindows()\n",
    "\n"
   ]
  },
  {
   "cell_type": "code",
   "execution_count": null,
   "metadata": {},
   "outputs": [],
   "source": []
  }
 ],
 "metadata": {
  "kernelspec": {
   "display_name": "Python 3",
   "language": "python",
   "name": "python3"
  },
  "language_info": {
   "codemirror_mode": {
    "name": "ipython",
    "version": 3
   },
   "file_extension": ".py",
   "mimetype": "text/x-python",
   "name": "python",
   "nbconvert_exporter": "python",
   "pygments_lexer": "ipython3",
   "version": "3.7.3"
  }
 },
 "nbformat": 4,
 "nbformat_minor": 4
}
