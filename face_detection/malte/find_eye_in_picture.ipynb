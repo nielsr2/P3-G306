{
 "cells": [
  {
   "cell_type": "code",
   "execution_count": 2,
   "metadata": {},
   "outputs": [
    {
     "name": "stdout",
     "output_type": "stream",
     "text": [
      "I found 1 face(s) in this photograph.\n"
     ]
    }
   ],
   "source": [
    "import cv2\n",
    "from PIL import Image, ImageDraw\n",
    "import face_recognition\n",
    "import numpy as np\n",
    "\n",
    "\n",
    "# Load the jpg file into a numpy array\n",
    "image = face_recognition.load_image_file(\"tor.jpg\")\n",
    "\n",
    "# Find all facial features in all the faces in the image\n",
    "face_landmarks_list = face_recognition.face_landmarks(image)\n",
    "\n",
    "print(\"I found {} face(s) in this photograph.\".format(len(face_landmarks_list)))\n",
    "\n",
    "# Create a PIL imagedraw object so we can draw on the picture\n",
    "pil_image = Image.fromarray(image)\n",
    "d = ImageDraw.Draw(pil_image)\n",
    "\n",
    "for face_landmarks in face_landmarks_list:\n",
    "\n",
    "    left_eye = face_landmarks['left_eye']\n",
    "    right_eye = face_landmarks['right_eye']\n",
    "    \n",
    "    mg = (left_eye[3][0]-left_eye[0][0])*0.1\n",
    "    \n",
    "    \n",
    "    # Print the location of each facial feature in this image\n",
    "    #for left_eye in face_landmarks.keys():\n",
    "    #print(\"The {} in this face has the following points: {}\".format('left eye', left_eye))\n",
    "    #print(\"The {} in this face has the following points: {}\".format('right eye', right_eye))\n",
    "    \n",
    "\n",
    "    if left_eye[0][1] > left_eye[3][1]:\n",
    "        # If tilted left - based on how it's seen on image\n",
    "        left = [left_eye[0][0]-mg,left_eye[2][1]-mg,left_eye[3][0]+mg,left_eye[5][1]+mg]\n",
    "        right = [right_eye[0][0]-mg,right_eye[2][1]-mg,right_eye[3][0]+mg,right_eye[5][1]+mg]\n",
    "        d.rectangle((left))\n",
    "        d.rectangle((right))\n",
    "        pil_image.crop(left).show()\n",
    "        pil_image.crop(right).show()\n",
    "    else:\n",
    "        # If tilted right\n",
    "        left = [left_eye[0][0]-mg,left_eye[1][1]-mg,left_eye[3][0]+mg,left_eye[4][1]+mg]\n",
    "        right = [right_eye[0][0]-mg,right_eye[1][1]-mg,right_eye[3][0]+mg,right_eye[4][1]+mg]\n",
    "        d.rectangle((left))\n",
    "        d.rectangle((right))\n",
    "        pil_image.crop(left).show()\n",
    "        pil_image.crop(right).show()\n",
    "\n",
    "\n",
    "\n",
    "    # Let's trace out each facial feature in the image with a line!\n",
    "   # for facial_feature in face_landmarks.keys():\n",
    "   #     d.line(face_landmarks[facial_feature], width=5)\n",
    "\n",
    "\n",
    "\n",
    "    \n",
    "# Show the picture\n",
    "pil_image.show()\n",
    "\n",
    "\n",
    "\n"
   ]
  },
  {
   "cell_type": "code",
   "execution_count": 5,
   "metadata": {},
   "outputs": [],
   "source": []
  },
  {
   "cell_type": "code",
   "execution_count": null,
   "metadata": {},
   "outputs": [],
   "source": []
  }
 ],
 "metadata": {
  "kernelspec": {
   "display_name": "Python 3",
   "language": "python",
   "name": "python3"
  },
  "language_info": {
   "codemirror_mode": {
    "name": "ipython",
    "version": 3
   },
   "file_extension": ".py",
   "mimetype": "text/x-python",
   "name": "python",
   "nbconvert_exporter": "python",
   "pygments_lexer": "ipython3",
   "version": "3.7.3"
  }
 },
 "nbformat": 4,
 "nbformat_minor": 4
}
