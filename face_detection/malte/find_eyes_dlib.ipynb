{
 "cells": [
  {
   "cell_type": "code",
   "execution_count": 1,
   "metadata": {},
   "outputs": [
    {
     "name": "stdout",
     "output_type": "stream",
     "text": [
      "proccesing input_images/photo11.jpeg\n",
      "tilted right\n",
      "eyeImages <class 'list'> 2\n",
      "proccesing input_images/photo1.jpeg\n",
      "\u001b[1;41;39m found no faces in this picture\\]\n"
     ]
    },
    {
     "data": {
      "text/plain": [
       "<Figure size 640x480 with 1 Axes>"
      ]
     },
     "metadata": {},
     "output_type": "display_data"
    },
    {
     "name": "stdout",
     "output_type": "stream",
     "text": [
      "eyeImages <class 'list'> 0\n",
      "proccesing input_images/photo10.jpeg\n",
      "tilted right\n",
      "eyeImages <class 'list'> 2\n",
      "proccesing input_images/photo17.jpeg\n",
      "tilted right\n",
      "eyeImages <class 'list'> 2\n",
      "proccesing input_images/photo6.jpeg\n",
      "tilted right\n",
      "eyeImages <class 'list'> 2\n",
      "proccesing input_images/photo7.jpeg\n",
      "\u001b[1;41;39m found no faces in this picture\\]\n"
     ]
    },
    {
     "data": {
      "text/plain": [
       "<Figure size 640x480 with 1 Axes>"
      ]
     },
     "metadata": {},
     "output_type": "display_data"
    },
    {
     "name": "stdout",
     "output_type": "stream",
     "text": [
      "eyeImages <class 'list'> 0\n",
      "proccesing input_images/photo16.jpeg\n",
      "tilted right\n",
      "eyeImages <class 'list'> 2\n",
      "proccesing input_images/photo4.jpeg\n",
      "tilted right\n",
      "eyeImages <class 'list'> 2\n",
      "proccesing input_images/photo15.jpeg\n",
      "tilted right\n",
      "eyeImages <class 'list'> 2\n",
      "proccesing input_images/photo8.jpeg\n",
      "tilted right\n",
      "eyeImages <class 'list'> 2\n",
      "proccesing input_images/photo19.jpeg\n",
      "tilted right\n",
      "eyeImages <class 'list'> 2\n",
      "proccesing input_images/photo18.jpeg\n",
      "tilted right\n",
      "eyeImages <class 'list'> 2\n",
      "proccesing input_images/photo9.jpeg\n",
      "tilted left\n",
      "eyeImages <class 'list'> 2\n",
      "proccesing input_images/photo14.jpeg\n",
      "tilted right\n",
      "eyeImages <class 'list'> 2\n",
      "proccesing input_images/photo5.jpeg\n",
      "\u001b[1;41;39m found no faces in this picture\\]\n"
     ]
    },
    {
     "data": {
      "text/plain": [
       "<Figure size 640x480 with 1 Axes>"
      ]
     },
     "metadata": {},
     "output_type": "display_data"
    },
    {
     "name": "stdout",
     "output_type": "stream",
     "text": [
      "eyeImages <class 'list'> 0\n",
      "proccesing input_images/photo2.jpeg\n",
      "tilted left\n",
      "eyeImages <class 'list'> 2\n",
      "proccesing input_images/photo13.jpeg\n",
      "tilted right\n",
      "eyeImages <class 'list'> 2\n",
      "proccesing input_images/photo12.jpeg\n",
      "tilted right\n",
      "eyeImages <class 'list'> 2\n",
      "proccesing input_images/photo3.jpeg\n",
      "tilted right\n",
      "eyeImages <class 'list'> 2\n",
      "\u001b[1;44;39mFound 86.48648648648648% of eyes in the images\\]\n"
     ]
    }
   ],
   "source": [
    "import glob\n",
    "from PIL import Image\n",
    "import cv2 \n",
    "import numpy as np\n",
    "import types\n",
    "import os\n",
    "import m3Face, m3F\n",
    "from matplotlib import pyplot as plt\n",
    "inputFolder = \"input_images/\"\n",
    "outputFolder = \"output_eyes/\"\n",
    "eyesExpected = 37   # Manually type in the number of eyes expected from inputFolder\n",
    "eyesFound = 0\n",
    "\n",
    "inputImages=glob.glob(inputFolder + \"*.j*\")\n",
    "\n",
    "for imagePath in inputImages:\n",
    "    \n",
    "    # if outfolder does not exist, create it\n",
    "    if not (os.path.exists(outputFolder)):\n",
    "            os.mkdir(outputFolder)\n",
    "            print(\"output folder did not exist,\", outputFolder, \"created.\")\n",
    "    # read input image\n",
    "#    imgIn = cv2.imread()\n",
    "    \n",
    "\n",
    "    \n",
    "    # DO STUFF TO ALL IMAGES BELOW\n",
    "    # *************************\n",
    "\n",
    "    imgOut = m3Face.findEyes(imagePath)\n",
    "    # *************************\n",
    "\n",
    "        #change imagePath from input folder to output folder\n",
    "    imagePath = imagePath.replace(inputFolder, \"\")\n",
    "    inputName = imagePath.replace(\".jpeg\", \"\")\n",
    "    imagePath = outputFolder + inputName\n",
    "    \n",
    "    if (type(imgOut) == type(list()) and len(imgOut) > 0):\n",
    "        eyes = iter(imgOut) # used to iterate through an array. the output of first next() is the first element of array, and so on\n",
    "        eyeCount = 1\n",
    "        faceCount = 1\n",
    "        \n",
    "        for i in imgOut:\n",
    "            LR = \"Left\"\n",
    "            if ((eyeCount % 2) == 0):\n",
    "                LR = \"Right\"\n",
    "            ouputImg = \"{}_Face_{}_{}.jpeg\".format(imagePath,str(faceCount),LR)\n",
    "            cv2.imwrite(ouputImg,next(eyes))\n",
    "            eyesFound += 1\n",
    "            \n",
    "            if ((eyeCount % 2) == 0):\n",
    "                faceCount += 1\n",
    "            eyeCount += 1\n",
    "\n",
    "m3F.printBlue(\"Found {}% of eyes in the images\".format(eyesFound/eyesExpected*100))"
   ]
  },
  {
   "cell_type": "code",
   "execution_count": null,
   "metadata": {},
   "outputs": [],
   "source": []
  }
 ],
 "metadata": {
  "kernelspec": {
   "display_name": "Python 3",
   "language": "python",
   "name": "python3"
  },
  "language_info": {
   "codemirror_mode": {
    "name": "ipython",
    "version": 3
   },
   "file_extension": ".py",
   "mimetype": "text/x-python",
   "name": "python",
   "nbconvert_exporter": "python",
   "pygments_lexer": "ipython3",
   "version": "3.7.3"
  }
 },
 "nbformat": 4,
 "nbformat_minor": 4
}
