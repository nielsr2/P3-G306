{
 "cells": [
  {
   "cell_type": "code",
   "execution_count": null,
   "metadata": {},
   "outputs": [],
   "source": [
    "# https://pysource.com/2019/03/12/face-landmarks-detection-opencv-with-python/\n",
    "import cv2\n",
    "import numpy as np\n",
    "from PIL import Image, ImageDraw\n",
    "import dlib # pip install dlib (close anaconda first)\n",
    "import face_recognition\n",
    "\n",
    "cap = cv2.VideoCapture(0)\n",
    "\n",
    "\n",
    "while True:\n",
    "    _, frame = cap.read()\n",
    "    gray = cv2.cvtColor(frame, cv2.COLOR_BGR2GRAY)\n",
    "\n",
    "    # Find all facial features in all the faces in the image\n",
    "    face_landmarks_list = face_recognition.face_landmarks(frame)\n",
    "\n",
    "\n",
    "    # Create a PIL imagedraw object so we can draw on the picture\n",
    "    pil_image = Image.fromarray(frame)\n",
    "    d = ImageDraw.Draw(pil_image)\n",
    "    \n",
    "    overlay = frame.copy()\n",
    "    \n",
    "\n",
    "    for face_landmarks in face_landmarks_list:\n",
    "\n",
    "        left_eye = face_landmarks['left_eye']\n",
    "        right_eye = face_landmarks['right_eye']\n",
    "        mg = (left_eye[3][0]-left_eye[0][0])*0.2\n",
    "\n",
    "\n",
    "        if left_eye[0][1] > left_eye[3][1]:\n",
    "            cv2.rectangle(overlay, (int(left_eye[0][0]-mg),int(left_eye[2][1]-mg)), (int(left_eye[3][0]+mg),int(left_eye[5][1]+mg)), (0, 255, 0), -1)\n",
    "            cv2.rectangle(overlay, (int(right_eye[0][0]-mg),int(right_eye[2][1]-mg)), (int(right_eye[3][0]+mg),int(right_eye[5][1]+mg)), (0, 255, 0), -1)\n",
    "        else:\n",
    "            cv2.rectangle(overlay, (int(left_eye[0][0]-mg),int(left_eye[1][1]-mg)), (int(left_eye[3][0]+mg),int(left_eye[4][1]+mg)), (0, 255, 0), -1)\n",
    "            cv2.rectangle(overlay, (int(right_eye[0][0]-mg),int(right_eye[2][1]-mg)), (int(right_eye[3][0]+mg),int(right_eye[5][1]+mg)), (0, 255, 0), -1)\n",
    "        \n",
    "        opacity = 0.2\n",
    "        cv2.addWeighted(overlay, opacity, frame, 1 - opacity, 0, frame)\n",
    "\n",
    "\n",
    "    cv2.imshow(\"Frame\", frame)\n",
    "\n",
    "    key = cv2.waitKey(1)\n",
    "    if key == 27:\n",
    "        break\n",
    "\n",
    "# Release handle to the webcam\n",
    "frame_capture.release()\n",
    "cv2.destroyAllWindows()"
   ]
  },
  {
   "cell_type": "code",
   "execution_count": null,
   "metadata": {},
   "outputs": [],
   "source": []
  }
 ],
 "metadata": {
  "kernelspec": {
   "display_name": "Python 3",
   "language": "python",
   "name": "python3"
  },
  "language_info": {
   "codemirror_mode": {
    "name": "ipython",
    "version": 3
   },
   "file_extension": ".py",
   "mimetype": "text/x-python",
   "name": "python",
   "nbconvert_exporter": "python",
   "pygments_lexer": "ipython3",
   "version": "3.7.3"
  }
 },
 "nbformat": 4,
 "nbformat_minor": 4
}
