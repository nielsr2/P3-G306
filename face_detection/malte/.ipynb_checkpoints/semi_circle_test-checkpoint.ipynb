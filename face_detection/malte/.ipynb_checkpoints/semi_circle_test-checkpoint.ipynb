{
 "cells": [
  {
   "cell_type": "code",
   "execution_count": 84,
   "metadata": {},
   "outputs": [
    {
     "name": "stdout",
     "output_type": "stream",
     "text": [
      "img type <class 'numpy.ndarray'>\n"
     ]
    },
    {
     "name": "stderr",
     "output_type": "stream",
     "text": [
      "//anaconda3/lib/python3.7/site-packages/ipykernel_launcher.py:55: ComplexWarning: Casting complex values to real discards the imaginary part\n",
      "//anaconda3/lib/python3.7/site-packages/ipykernel_launcher.py:56: ComplexWarning: Casting complex values to real discards the imaginary part\n"
     ]
    },
    {
     "data": {
      "text/plain": [
       "<matplotlib.image.AxesImage at 0x120e3ee10>"
      ]
     },
     "execution_count": 84,
     "metadata": {},
     "output_type": "execute_result"
    },
    {
     "data": {
      "image/png": "[encoded data removed]",
      "text/plain": [
       "<Figure size 432x288 with 1 Axes>"
      ]
     },
     "metadata": {
      "needs_background": "light"
     },
     "output_type": "display_data"
    }
   ],
   "source": [
    "import cv2\n",
    "import numpy as np\n",
    "from matplotlib import pyplot as plt\n",
    "import PIL\n",
    "import m3F\n",
    "import cmath\n",
    "from PIL import ImageFilter, ImageEnhance\n",
    "\n",
    "path = \"output_eyes/photo19_Face_1_Left.jpeg\"\n",
    "iris = \"iris_test2.jpeg\"\n",
    "img = cv2.imread(path)\n",
    "\n",
    "print(\"img type\",type(img))\n",
    "\n",
    "img = m3F.typeSwap(img)\n",
    "img = img.filter(ImageFilter.GaussianBlur(2.5))\n",
    "img = img.filter(ImageFilter.UnsharpMask(radius=2, percent=200, threshold=10))\n",
    "img = ImageEnhance.Contrast(img).enhance(1.4)\n",
    "#img = ImageEnhance.Sharpness(img).enhance(2.)\n",
    "img = m3F.typeSwap(img)\n",
    "img = cv2.medianBlur(img,5)\n",
    "\n",
    "gray = cv2.cvtColor(img, cv2.COLOR_BGR2GRAY)\n",
    "\n",
    "canny = cv2.Canny(img,200,20)\n",
    "\n",
    "\n",
    "circles = cv2.HoughCircles(gray,cv2.HOUGH_GRADIENT,1,60,param1=200,param2=20,minRadius=0,maxRadius=0)\n",
    "\n",
    "\n",
    "for i in circles[0,:]:\n",
    "    center = (i[0],i[1])\n",
    "    radius = i[2]\n",
    "    cv2.circle(gray, center, 3, (0,255,255), -1)\n",
    "    cv2.circle(gray, center, radius, (0,0,255), 1)\n",
    "\n",
    "    \n",
    "dt = cv2.distanceTransform(255-canny, cv2.DIST_L2, 3)\n",
    "\n",
    "minInlierDist = 2.0\n",
    "for i in circles[0,:]:\n",
    "    counter = 0\n",
    "    inlier = 0\n",
    "    center = (i[0],i[1])\n",
    "    radius = i[2]\n",
    "    \n",
    "    maxInlierDist = radius/25.0\n",
    "    if (maxInlierDist < minInlierDist):\n",
    "        maxInlierDist = minInlierDist\n",
    "    \n",
    "    t = 0\n",
    "    while t < 2*cmath.pi:\n",
    "        counter += 1\n",
    "        cX = int(radius*cmath.cos(t) + i[0])\n",
    "        cY = int(radius*cmath.sin(t) + i[1])\n",
    "        try:\n",
    "            if (dt[cY,cX] < maxInlierDist):\n",
    "                inlier += 1\n",
    "                cv2.circle(gray, (cX,cY), 3, (255,0,0))\n",
    "        except IndexError:\n",
    "            print(\"skipped\")\n",
    "            \n",
    "            \n",
    "            \n",
    "        t += 0.1\n",
    "\n",
    "\n",
    "\n",
    "finalImg = cv2.cvtColor(gray, cv2.COLOR_BGR2RGB)\n",
    "plt.imshow(finalImg)\n",
    "#plt.imshow((img * 255).astype(np.uint8))\n",
    "#plt.show\n"
   ]
  },
  {
   "cell_type": "code",
   "execution_count": 209,
   "metadata": {},
   "outputs": [
    {
     "ename": "SyntaxError",
     "evalue": "invalid syntax (<ipython-input-209-1bd180f0b9a0>, line 1)",
     "output_type": "error",
     "traceback": [
      "\u001b[0;36m  File \u001b[0;32m\"<ipython-input-209-1bd180f0b9a0>\"\u001b[0;36m, line \u001b[0;32m1\u001b[0m\n\u001b[0;31m    int main()\u001b[0m\n\u001b[0m           ^\u001b[0m\n\u001b[0;31mSyntaxError\u001b[0m\u001b[0;31m:\u001b[0m invalid syntax\n"
     ]
    }
   ],
   "source": [
    "int main()\n",
    "{\n",
    "    cv::Mat color = cv::imread(\"../houghCircles.png\");\n",
    "    cv::namedWindow(\"input\"); cv::imshow(\"input\", color);\n",
    "\n",
    "    cv::Mat canny;\n",
    "\n",
    "    cv::Mat gray;\n",
    "    # Convert it to gray\n",
    "    cv::cvtColor( color, gray, CV_BGR2GRAY );\n",
    "\n",
    "    # compute canny (don't blur with that image quality!!)\n",
    "    cv::Canny(gray, canny, 200,20);\n",
    "    cv::namedWindow(\"canny2\"); cv::imshow(\"canny2\", canny>0);\n",
    "\n",
    "    std::vector<cv::Vec3f> circles;\n",
    "\n",
    "    # Apply the Hough Transform to find the circles\n",
    "    cv::HoughCircles( gray, circles, CV_HOUGH_GRADIENT, 1, 60, 200, 20, 0, 0 );\n",
    "\n",
    "    # Draw the circles detected\n",
    "    for( size_t i = 0; i < circles.size(); i++ ) \n",
    "    {\n",
    "        Point center(cvRound(circles[i][0]), cvRound(circles[i][1]));\n",
    "        int radius = cvRound(circles[i][2]);\n",
    "        cv::circle( color, center, 3, Scalar(0,255,255), -1);\n",
    "        cv::circle( color, center, radius, Scalar(0,0,255), 1 );\n",
    "    }\n",
    "\n",
    "    #compute distance transform:\n",
    "    cv::Mat dt;\n",
    "    cv::distanceTransform(255-(canny>0), dt, CV_DIST_L2 ,3);\n",
    "    cv::namedWindow(\"distance transform\"); cv::imshow(\"distance transform\", dt/255.0f);\n",
    "\n",
    "    # test for semi-circles:\n",
    "    float minInlierDist = 2.0f;\n",
    "    for( size_t i = 0; i < circles.size(); i++ ) \n",
    "    {\n",
    "        # test inlier percentage:\n",
    "        # sample the circle and check for distance to the next edge\n",
    "        unsigned int counter = 0;\n",
    "        unsigned int inlier = 0;\n",
    "\n",
    "        cv::Point2f center((circles[i][0]), (circles[i][1]));\n",
    "        float radius = (circles[i][2]);\n",
    "\n",
    "        # maximal distance of inlier might depend on the size of the circle\n",
    "        float maxInlierDist = radius/25.0f;\n",
    "        if(maxInlierDist<minInlierDist) maxInlierDist = minInlierDist;\n",
    "\n",
    "        #TODO: maybe paramter incrementation might depend on circle size!\n",
    "        for(float t =0; t<2*3.14159265359f; t+= 0.1f) \n",
    "        {\n",
    "            counter++;\n",
    "            float cX = radius*cos(t) + circles[i][0];\n",
    "            float cY = radius*sin(t) + circles[i][1];\n",
    "\n",
    "            if(dt.at<float>(cY,cX) < maxInlierDist) \n",
    "            {\n",
    "                inlier++;\n",
    "                cv::circle(color, cv::Point2i(cX,cY),3, cv::Scalar(0,255,0));\n",
    "            } \n",
    "           else\n",
    "                cv::circle(color, cv::Point2i(cX,cY),3, cv::Scalar(255,0,0));\n",
    "        }\n",
    "        std::cout << 100.0f*(float)inlier/(float)counter << \" % of a circle with radius \" << radius << \" detected\" << std::endl;\n",
    "    }\n",
    "\n",
    "    cv::namedWindow(\"output\"); cv::imshow(\"output\", color);\n",
    "    cv::imwrite(\"houghLinesComputed.png\", color);\n",
    "\n",
    "    cv::waitKey(-1);\n",
    "    return 0;\n",
    "}"
   ]
  },
  {
   "cell_type": "markdown",
   "metadata": {},
   "source": [
    "# Header\n",
    ">## SubHeader\n",
    "\n",
    ">> ### List\n",
    "* Item1\n",
    "* Item2"
   ]
  },
  {
   "cell_type": "code",
   "execution_count": null,
   "metadata": {},
   "outputs": [],
   "source": []
  }
 ],
 "metadata": {
  "kernelspec": {
   "display_name": "Python 3",
   "language": "python",
   "name": "python3"
  },
  "language_info": {
   "codemirror_mode": {
    "name": "ipython",
    "version": 3
   },
   "file_extension": ".py",
   "mimetype": "text/x-python",
   "name": "python",
   "nbconvert_exporter": "python",
   "pygments_lexer": "ipython3",
   "version": "3.7.3"
  }
 },
 "nbformat": 4,
 "nbformat_minor": 4
}
