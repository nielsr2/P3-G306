{
 "cells": [
  {
   "cell_type": "code",
   "execution_count": 165,
   "metadata": {},
   "outputs": [
    {
     "name": "stdout",
     "output_type": "stream",
     "text": [
      "I found 1 face(s) in this photograph.\n",
      "The left_eye in this face has the following points: [(603, 317), (611, 301), (626, 296), (642, 302), (630, 310), (615, 316)]\n"
     ]
    }
   ],
   "source": [
    "from PIL import Image, ImageDraw\n",
    "import face_recognition\n",
    "\n",
    "\n",
    "# Load the jpg file into a numpy array\n",
    "image = face_recognition.load_image_file(\"tor.jpg\")\n",
    "\n",
    "# Find all facial features in all the faces in the image\n",
    "face_landmarks_list = face_recognition.face_landmarks(image)\n",
    "\n",
    "print(\"I found {} face(s) in this photograph.\".format(len(face_landmarks_list)))\n",
    "\n",
    "# Create a PIL imagedraw object so we can draw on the picture\n",
    "pil_image = Image.fromarray(image)\n",
    "d = ImageDraw.Draw(pil_image)\n",
    "\n",
    "for face_landmarks in face_landmarks_list:\n",
    "\n",
    "    \n",
    "    # Print the location of each facial feature in this image\n",
    "    #for left_eye in face_landmarks.keys():\n",
    "        print(\"The {} in this face has the following points: {}\".format('left_eye', face_landmarks['left_eye']))\n",
    "       # d.polygon((face_landmarks['left_eye'][1],face_landmarks['left_eye'][2],face_landmarks['left_eye'][4],face_landmarks['left_eye'][5]))\n",
    "\n",
    "        if face_landmarks['left_eye'][1][1] > face_landmarks['left_eye'][2][1]:\n",
    "            d.rectangle((face_landmarks['left_eye'][0][0],face_landmarks['left_eye'][2][1],face_landmarks['left_eye'][3][0],face_landmarks['left_eye'][5][1]))\n",
    "        else:\n",
    "            d.rectangle((face_landmarks['left_eye'][0][0],face_landmarks['left_eye'][1][1],face_landmarks['left_eye'][3][0],face_landmarks['left_eye'][4][1]))\n",
    "\n",
    "\n",
    "\n",
    "    # Let's trace out each facial feature in the image with a line!\n",
    "   # for facial_feature in face_landmarks.keys():\n",
    "   #     d.line(face_landmarks[facial_feature], width=5)\n",
    "    \n",
    "\n",
    "# Show the picture\n",
    "pil_image.show()\n",
    "\n"
   ]
  },
  {
   "cell_type": "code",
   "execution_count": null,
   "metadata": {},
   "outputs": [],
   "source": []
  }
 ],
 "metadata": {
  "kernelspec": {
   "display_name": "Python 3",
   "language": "python",
   "name": "python3"
  },
  "language_info": {
   "codemirror_mode": {
    "name": "ipython",
    "version": 3
   },
   "file_extension": ".py",
   "mimetype": "text/x-python",
   "name": "python",
   "nbconvert_exporter": "python",
   "pygments_lexer": "ipython3",
   "version": "3.7.3"
  }
 },
 "nbformat": 4,
 "nbformat_minor": 4
}
