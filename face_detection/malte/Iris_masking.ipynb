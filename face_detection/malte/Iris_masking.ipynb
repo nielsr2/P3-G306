{
 "cells": [
  {
   "cell_type": "code",
   "execution_count": 154,
   "metadata": {},
   "outputs": [
    {
     "name": "stdout",
     "output_type": "stream",
     "text": [
      "***************************************************************************************\n",
      "proccesing output_eyes/photo19_Face_1_Left.jpeg\n"
     ]
    },
    {
     "data": {
      "image/png": "[encoded data removed]",
      "text/plain": [
       "<Figure size 432x288 with 1 Axes>"
      ]
     },
     "metadata": {
      "needs_background": "light"
     },
     "output_type": "display_data"
    },
    {
     "name": "stdout",
     "output_type": "stream",
     "text": [
      "\u001b[1;42;39mCIRCLES FOUND^^^\\]\n"
     ]
    }
   ],
   "source": [
    "import cv2\n",
    "import numpy as np\n",
    "from matplotlib import pyplot as plt\n",
    "import m3F\n",
    "import os\n",
    "from PIL import ImageFilter, ImageEnhance, Image\n",
    "import PIL\n",
    "\n",
    "\n",
    "inputImg = \"output_eyes/photo19_Face_1_Left.jpeg\"\n",
    "print(\"***************************************************************************************\")\n",
    "if (type(inputImg) == str):\n",
    "    img = cv2.imread(inputImg,0)\n",
    "    imgColor = cv2.imread(inputImg)\n",
    "    \n",
    "    print(\"proccesing\", inputImg)\n",
    "    #print(\"input was string (filepath), image read from filepath\")\n",
    "else:\n",
    "    #print(\"input was image\", type(imgPath))\n",
    "    img = inputImg\n",
    "count = 0\n",
    "if not isinstance(img, type(None)):\n",
    "    \n",
    "\n",
    "    img  = cv2.medianBlur(img,5)\n",
    "    #\n",
    "    cimg=cv2.cvtColor(img,cv2.COLOR_GRAY2BGR )\n",
    "\n",
    "    img = m3F.typeSwap(img)\n",
    "    img = img.filter(ImageFilter.GaussianBlur(1.4))\n",
    "    img = img.filter(ImageFilter.UnsharpMask(radius=2, percent=200, threshold=5))\n",
    "    img = ImageEnhance.Contrast(img).enhance(1.4)\n",
    "    #img = ImageEnhance.Sharpness(img).enhance(2.)\n",
    "    img = m3F.typeSwap(img)\n",
    "    img = cv2.medianBlur(img,5)\n",
    "    \n",
    "    cimg=img.copy()\n",
    "\n",
    "\n",
    "\n",
    "    #NoneType = type(None)\n",
    "\n",
    "    #ret,thresh1 = cv2.threshold(greyImg,111,255,cv2.THRESH_BINARY)\n",
    "    #thresh1 = cv2.medianBlur(thresh1,17)\n",
    "    #cimg = cv2.cvtColor(thresh1,cv2.COLOR_GRAY2BGR)\n",
    "    #plt.imshow(cimg)\n",
    "    #plt.show()\n",
    "    circles = cv2.HoughCircles(img,cv2.HOUGH_GRADIENT,1.5,120,param1=60,param2=15,minRadius=0,maxRadius=int(m3F.typeSwap(img).height/2))\n",
    "\n",
    "\n",
    "    #print(\"type(circles) IS: \", type(circles))\n",
    "    if not isinstance(circles, type(None)):\n",
    "        #print(\"was not note None, was: \", type(circles))\n",
    "        if (circles.size != 0):\n",
    "            circles = np.uint16(np.around(circles))\n",
    "            #print(circles)\n",
    "            for i in circles[0,:]:\n",
    "                # fill background with black\n",
    "                cimg.fill(0)\n",
    "                # draw the center of the circle filled with white\n",
    "                cv2.circle(cimg,(i[0],i[1]),0,255,i[2]*2)\n",
    "                #plt.show(cimg)\n",
    "                can = cv2.Canny(img,30,60)\n",
    "                combined = np.hstack((cimg,can))\n",
    "                \n",
    "                mask = cv2.bitwise_and(img, cimg)\n",
    "\n",
    "                finalImg = cv2.cvtColor(mask, cv2.COLOR_BGR2RGB)\n",
    "                plt.imshow(finalImg)\n",
    "                plt.show()\n",
    "                #m3F.gHist(img)\n",
    "                m3F.printGreen(\"CIRCLES FOUND^^^\")\n",
    "\n",
    "                \n",
    "    else:\n",
    "        can = cv2.Canny(img,50,30)\n",
    "        combined = np.hstack((cimg,can))\n",
    "        plt.imshow(combined)\n",
    "        m3F.gHist(img)\n",
    "        m3F.printRed(\"NO CIRCLES FOUND^^^\")\n",
    "else:\n",
    "    m3F.printRed(\"NONE IMAGE\")\n",
    "\n",
    "\n",
    "\n",
    "#plt.imshow(cimg)\n",
    "#plt.show()"
   ]
  },
  {
   "cell_type": "code",
   "execution_count": null,
   "metadata": {},
   "outputs": [],
   "source": []
  },
  {
   "cell_type": "markdown",
   "metadata": {},
   "source": []
  }
 ],
 "metadata": {
  "kernelspec": {
   "display_name": "Python 3",
   "language": "python",
   "name": "python3"
  },
  "language_info": {
   "codemirror_mode": {
    "name": "ipython",
    "version": 3
   },
   "file_extension": ".py",
   "mimetype": "text/x-python",
   "name": "python",
   "nbconvert_exporter": "python",
   "pygments_lexer": "ipython3",
   "version": "3.7.3"
  }
 },
 "nbformat": 4,
 "nbformat_minor": 4
}
