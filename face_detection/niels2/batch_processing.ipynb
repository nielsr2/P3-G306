{
 "cells": [
  {
   "cell_type": "markdown",
   "metadata": {},
   "source": [
    "### run first cell first, otherwise plt.show() might not work = no images showing\n"
   ]
  },
  {
   "cell_type": "code",
   "execution_count": 5,
   "metadata": {
    "pycharm": {
     "is_executing": false
    }
   },
   "outputs": [],
   "source": [
    "from matplotlib import pyplot as plt\n",
    "plt.show()"
   ]
  },
  {
   "cell_type": "markdown",
   "metadata": {},
   "source": [
    "# FIND FACES"
   ]
  },
  {
   "cell_type": "code",
   "execution_count": 6,
   "metadata": {
    "pycharm": {
     "is_executing": false
    }
   },
   "outputs": [
    {
     "traceback": [
      "\u001b[0;31m---------------------------------------------------------------------------\u001b[0m",
      "\u001b[0;31mImportError\u001b[0m                               Traceback (most recent call last)",
      "\u001b[0;32m<ipython-input-6-06881c0a4fdb>\u001b[0m in \u001b[0;36m<module>\u001b[0;34m\u001b[0m\n\u001b[1;32m      1\u001b[0m \u001b[0;32mimport\u001b[0m \u001b[0mglob\u001b[0m\u001b[0;34m\u001b[0m\u001b[0;34m\u001b[0m\u001b[0m\n\u001b[1;32m      2\u001b[0m \u001b[0;32mfrom\u001b[0m \u001b[0mPIL\u001b[0m \u001b[0;32mimport\u001b[0m \u001b[0mImage\u001b[0m\u001b[0;34m\u001b[0m\u001b[0;34m\u001b[0m\u001b[0m\n\u001b[0;32m----> 3\u001b[0;31m \u001b[0;32mimport\u001b[0m \u001b[0mcv2\u001b[0m\u001b[0;34m\u001b[0m\u001b[0;34m\u001b[0m\u001b[0m\n\u001b[0m\u001b[1;32m      4\u001b[0m \u001b[0;32mimport\u001b[0m \u001b[0mnumpy\u001b[0m \u001b[0;32mas\u001b[0m \u001b[0mnp\u001b[0m\u001b[0;34m\u001b[0m\u001b[0;34m\u001b[0m\u001b[0m\n\u001b[1;32m      5\u001b[0m \u001b[0;32mimport\u001b[0m \u001b[0mtypes\u001b[0m\u001b[0;34m\u001b[0m\u001b[0;34m\u001b[0m\u001b[0m\n",
      "\u001b[0;31mImportError\u001b[0m: dlopen(/usr/local/lib/python3.7/site-packages/cv2/python-3.7/cv2.cpython-37m-darwin.so, 2): Library not loaded: /usr/local/opt/gettext/lib/libintl.8.dylib\n  Referenced from: /usr/local/opt/harfbuzz/lib/libharfbuzz.0.dylib\n  Reason: image not found"
     ],
     "ename": "ImportError",
     "evalue": "dlopen(/usr/local/lib/python3.7/site-packages/cv2/python-3.7/cv2.cpython-37m-darwin.so, 2): Library not loaded: /usr/local/opt/gettext/lib/libintl.8.dylib\n  Referenced from: /usr/local/opt/harfbuzz/lib/libharfbuzz.0.dylib\n  Reason: image not found",
     "output_type": "error"
    }
   ],
   "source": [
    "import glob\n",
    "from PIL import Image\n",
    "import cv2 \n",
    "import numpy as np\n",
    "import types\n",
    "import os\n",
    "import m3Face, m3Iris, m3F\n",
    "from matplotlib import pyplot as plt\n",
    "inputFolder = \"faces/\"\n",
    "outputFolder = \"eyes/\"\n",
    "eyesExpected = 37   # Manually type in the number of eyes expected from inputFolder\n",
    "eyesFound = 0\n",
    "\n",
    "inputImages=glob.glob(inputFolder + \"*.j*\")\n",
    "\n",
    "for imagePath in inputImages:\n",
    "    \n",
    "    # if outfolder does not exist, create it\n",
    "    if not (os.path.exists(outputFolder)):\n",
    "            os.mkdir(outputFolder)\n",
    "            print(\"output folder did not exist,\", outputFolder, \"created.\")\n",
    "    # read input image\n",
    "#    imgIn = cv2.imread()\n",
    "    \n",
    "\n",
    "    \n",
    "    # DO STUFF TO ALL IMAGES BELOW\n",
    "    # *************************\n",
    "\n",
    "    imgOut = m3Face.findEyes(imagePath)\n",
    "    # *************************\n",
    "\n",
    "        #change imagePath from input folder to output folder\n",
    "    imagePath = imagePath.replace(inputFolder, \"\")\n",
    "    inputName = imagePath.replace(\".jpeg\", \"\")\n",
    "    imagePath = outputFolder + inputName\n",
    "    \n",
    "    if (type(imgOut) == type(list()) and len(imgOut) > 0):\n",
    "        eyes = iter(imgOut) # used to iterate through an array. the output of first next() is the first element of array, and so on\n",
    "        eyeCount = 1\n",
    "        faceCount = 1\n",
    "        \n",
    "        for i in imgOut:\n",
    "            LR = \"Left\"\n",
    "            if ((eyeCount % 2) == 0):\n",
    "                LR = \"Right\"\n",
    "            ouputImg = \"{}_Face_{}_{}.jpeg\".format(imagePath,str(faceCount),LR)\n",
    "            cv2.imwrite(ouputImg,next(eyes))\n",
    "            eyesFound += 1\n",
    "            \n",
    "            if ((eyeCount % 2) == 0):\n",
    "                faceCount += 1\n",
    "            eyeCount += 1\n",
    "\n",
    "m3F.printBlue(\"Found {}% of eyes in the images\".format(eyesFound/eyesExpected*100))"
   ]
  },
  {
   "cell_type": "markdown",
   "metadata": {},
   "source": [
    "# FIND IRIS"
   ]
  },
  {
   "cell_type": "code",
   "execution_count": null,
   "metadata": {
    "pycharm": {
     "is_executing": false
    }
   },
   "outputs": [],
   "source": [
    "from matplotlib import pyplot as plt\n",
    "plt.show()"
   ]
  },
  {
   "cell_type": "code",
   "execution_count": null,
   "metadata": {
    "pycharm": {
     "is_executing": false
    }
   },
   "outputs": [],
   "source": [
    "import glob\n",
    "from PIL import Image\n",
    "import cv2 \n",
    "import numpy as np\n",
    "import types\n",
    "import os\n",
    "import m3Iris, m3F\n",
    "inputFolder = \"eyes/\"\n",
    "outputFolder = \"irises/\"\n",
    "irisesExpected = m3F.filecount(inputFolder)\n",
    "irisesFound = 0\n",
    "\n",
    "inputImages=glob.glob(inputFolder + \"*.j*\")\n",
    "\n",
    "for imagePath in inputImages:\n",
    "    \n",
    "    # if outfolder does not exist, create it\n",
    "    if not (os.path.exists(outputFolder)):\n",
    "            os.mkdir(outputFolder)\n",
    "            print(\"output folder did not exist,\", outputFolder, \"created.\")\n",
    "    \n",
    "\n",
    "    # DO STUFF TO ALL IMAGES BELOW (SENDS IMAGEPATH TO YOUR FUNCTIONS)\n",
    "    # *************************\n",
    "    if (m3F.evalSize(imagePath,10,10)):\n",
    "        imgOut = m3Iris.findCircle(imagePath)\n",
    "    else:\n",
    "        print(\"****************************************************************************************************************\")\n",
    "        m3F.printRed(\"####IMAGE TOOO SMALL###\")\n",
    "        continue;\n",
    "        # *************************\n",
    "\n",
    "     #change imagePath from input folder to output folder\n",
    "    imagePath = imagePath.replace(inputFolder, \"\")\n",
    "    imagePath = outputFolder + imagePath\n",
    "    print(\"imagePath\", imagePath)\n",
    "    \n",
    "     \n",
    "    if (type(imgOut) == type(list())):\n",
    "        print(\"length\",len(imgOut))\n",
    "        #print(\"was list\")\n",
    "        # if output \n",
    "        eyes = iter(imgOut) # used to iterate thru an array. the output of first next() is the first element of array, and so on\n",
    "        \n",
    "        cv2.imwrite(imagePath,next(eyes))\n",
    "        irisesFound += 1\n",
    "    else:\n",
    "        if not(type(imgOut) == type(None)):\n",
    "            cv2.imwrite(imagePath,imgOut)\n",
    "            irisesFound += 1\n",
    "        #else:   \n",
    "            #m3F.printRed(\"IMAGE NULL\")\n",
    "            \n",
    "m3F.printBlue(\"Found {}% of irises in the images\".format(irisesFound/irisesExpected*100))"
   ]
  },
  {
   "cell_type": "code",
   "execution_count": null,
   "metadata": {
    "pycharm": {
     "is_executing": false
    }
   },
   "outputs": [],
   "source": []
  },
  {
   "cell_type": "code",
   "execution_count": null,
   "metadata": {
    "pycharm": {
     "is_executing": false
    }
   },
   "outputs": [],
   "source": [
    "import cv2\n",
    "from PIL import Image, ImageDraw\n",
    "import PIL\n",
    "import face_recognition\n",
    "import numpy as np\n",
    "from matplotlib import pyplot as plt\n",
    "import m3F\n",
    "\n",
    "inputImPath = \"input_images/photo24.jpeg\"\n",
    "\n",
    "print(\"proccesing\", inputImPath),\n",
    "\n",
    "inputIm = cv2.imread(inputImPath)\n",
    "\n",
    "\n",
    "\n",
    "\n",
    "face_landmarks_list = face_recognition.face_landmarks(inputIm)\n",
    "#print(\"I found {} face(s) in this photograph.\".format(len(face_landmarks_list)))\n",
    "#print(\"face_landmarks_list type was\", type(face_landmarks_list))\n",
    "# Create a PIL imagedraw object so we can draw on the picture\n",
    "pil_image = Image.open(inputImPath)\n",
    "    \n",
    "d = ImageDraw.Draw(pil_image)\n",
    "   \n",
    "if (len(face_landmarks_list) == 0):\n",
    "    m3F.printRed(\" found no faces in this picture\")\n",
    "    #plt.imshow(cv2.cvtColor(inputIm,cv2.COLOR_RGB2BGR))\n",
    "    plt.imshow(inputIm)\n",
    "    plt.show()\n",
    "        #plt.imshow(pil_image)\n",
    "        #plt.show()\n",
    "for face_landmarks in face_landmarks_list:\n",
    "\n",
    "    left_eye = face_landmarks['left_eye']\n",
    "    right_eye = face_landmarks['right_eye']\n",
    "    \n",
    "    mg = (left_eye[3][0]-left_eye[0][0])*0.1\n",
    "    print(left_eye)\n",
    "    n = 0;\n",
    "    \n",
    "    lx,ly,rx,ry = []\n",
    "    for x,y in left_eye:\n",
    "        print(x,y)\n",
    "        lx.append(x)\n",
    "        ly.append(y)\n",
    "        d.rectangle([(x-2,y-2),(x+2,y+2)], fill=\"red\")\n",
    "        d.text((x,y), str(n), fill=(255,255,255,128))\n",
    "        n = n + 1\n",
    "        #PIL.circle(np.asarray(pil_image), (x, y), 4, (255, 0, 0), -1)\n",
    "        \n",
    "    for x,y in right_eye:\n",
    "        print(x,y)\n",
    "        rx.append(x)\n",
    "        ry.append(y)\n",
    "        \n",
    "    lx.sort() # low to high\n",
    "    ly.sort()\n",
    "    rx.sort()\n",
    "    ry.sort()\n",
    "    LeyeWidth = lx[0] - lx[5]\n",
    "    LWmargin = LeyeWidth/2\n",
    "    LeyeHeight = ly[0] - ly[5]\n",
    "    LHmargin = LeyeHeight/2\n",
    "    \n",
    "    \n",
    "    ReyeWidth = rx[0] - rx[5]\n",
    "    ReyeHeight = ry[0] - ry[5]\n",
    " \n",
    "    \n",
    "    d.rectangle([(lx[0]-LWmargin, lx[5] + LWmargin ),()])\n",
    "    \n",
    "    pil_image.show()\n",
    "    plt.imshow(pil_image)\n",
    "    plt.show()\n",
    "    \n",
    "    \n",
    "    if left_eye[0][1] > left_eye[3][1]:\n",
    "        # If tilted left - based on how it's seen on image\n",
    "        #print(\"found eyes\")\n",
    "        left = [left_eye[0][0]-mg,left_eye[2][1]-mg,left_eye[3][0]+mg,left_eye[5][1]+mg]\n",
    "        right = [right_eye[0][0]-mg,right_eye[2][1]-mg,right_eye[3][0]+mg,right_eye[5][1]+mg]\n",
    "        d.rectangle((left))\n",
    "        d.rectangle((right))\n",
    "        ntL = np.asarray(pil_image.crop(left))\n",
    "        ntR = np.asarray(pil_image.crop(right))\n",
    "        #pil_image.crop(left).show()\n",
    "        #pil_image.crop(right).show()\n",
    "        plt.imshow(ntL)\n",
    "        plt.imshow(ntR)\n",
    "        plt.show()\n",
    "    else:\n",
    "        # If tilted right\n",
    "        print(\"was tilted\")\n",
    "        left = [left_eye[0][0]-mg,left_eye[1][1],left_eye[3][0]+mg,left_eye[4][1]]\n",
    "        right = [right_eye[0][0]-mg,right_eye[1][1],right_eye[3][0]+mg,right_eye[4][1]]\n",
    "        d.rectangle((left))\n",
    "        d.rectangle((right))\n",
    "        tL = np.asarray(pil_image.crop(left))\n",
    "        tR = np.asarray(pil_image.crop(right))\n",
    "        plt.imshow(tL)\n",
    "        plt.imshow(tR)\n",
    "        plt.show()"
   ]
  },
  {
   "cell_type": "code",
   "execution_count": null,
   "metadata": {
    "pycharm": {
     "is_executing": false
    }
   },
   "outputs": [],
   "source": []
  }
 ],
 "metadata": {
  "kernelspec": {
   "display_name": "Python 3",
   "language": "python",
   "name": "python3"
  },
  "language_info": {
   "codemirror_mode": {
    "name": "ipython",
    "version": 3
   },
   "file_extension": ".py",
   "mimetype": "text/x-python",
   "name": "python",
   "nbconvert_exporter": "python",
   "pygments_lexer": "ipython3",
   "version": "3.7.3"
  },
  "pycharm": {
   "stem_cell": {
    "cell_type": "raw",
    "source": [],
    "metadata": {
     "collapsed": false
    }
   }
  }
 },
 "nbformat": 4,
 "nbformat_minor": 4
}