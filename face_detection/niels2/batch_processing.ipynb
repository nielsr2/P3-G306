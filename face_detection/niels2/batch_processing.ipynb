{
 "cells": [
  {
   "cell_type": "code",
   "execution_count": 73,
   "metadata": {},
   "outputs": [],
   "source": [
    "import glob\n",
    "from PIL import Image\n",
    "import cv2 \n",
    "\n",
    "inputFolder = \"input_images/\"\n",
    "outputFolder = \"output_images/\"\n",
    "\n",
    "inputImages=glob.glob(inputFolder + \"*.jpg\")\n",
    "\n",
    "for imagePath in inputImages:\n",
    "    #imgIn = Image.open(image)\n",
    "    imgIn = cv2.imread(imagePath)\n",
    "    imagePath = imagePath.replace(inputFolder, \"\")\n",
    "    imagePath = outputFolder + imagePath\n",
    "    # DO STUFF TO ALL IMAGES BELOW\n",
    "    imgOut = imgIn\n",
    "    # *************************\n",
    "    cv2.imwrite(imagePath,imgOut)\n"
   ]
  },
  {
   "cell_type": "code",
   "execution_count": 74,
   "metadata": {},
   "outputs": [
    {
     "data": {
      "text/plain": [
       "True"
      ]
     },
     "execution_count": 74,
     "metadata": {},
     "output_type": "execute_result"
    }
   ],
   "source": []
  },
  {
   "cell_type": "code",
   "execution_count": null,
   "metadata": {},
   "outputs": [],
   "source": []
  },
  {
   "cell_type": "code",
   "execution_count": 67,
   "metadata": {},
   "outputs": [
    {
     "data": {
      "text/plain": [
       "True"
      ]
     },
     "execution_count": 67,
     "metadata": {},
     "output_type": "execute_result"
    }
   ],
   "source": []
  },
  {
   "cell_type": "code",
   "execution_count": null,
   "metadata": {},
   "outputs": [],
   "source": []
  },
  {
   "cell_type": "code",
   "execution_count": null,
   "metadata": {},
   "outputs": [],
   "source": []
  }
 ],
 "metadata": {
  "kernelspec": {
   "display_name": "Python 3",
   "language": "python",
   "name": "python3"
  },
  "language_info": {
   "codemirror_mode": {
    "name": "ipython",
    "version": 3
   },
   "file_extension": ".py",
   "mimetype": "text/x-python",
   "name": "python",
   "nbconvert_exporter": "python",
   "pygments_lexer": "ipython3",
   "version": "3.7.3"
  }
 },
 "nbformat": 4,
 "nbformat_minor": 4
}
