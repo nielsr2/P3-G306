{
 "cells": [
  {
   "cell_type": "code",
   "execution_count": 66,
   "metadata": {},
   "outputs": [
    {
     "name": "stdout",
     "output_type": "stream",
     "text": [
      "gk [[0.32710442]\n",
      " [0.34579116]\n",
      " [0.32710442]]\n",
      "type <class 'numpy.ndarray'>\n",
      "img [[255 247 249 244 226 233 241 248 255 255]\n",
      " [236 252 211 211 238 212 214 223 252 255]\n",
      " [255 213 220 230 233 225 243 209 225 249]\n",
      " [241 197 226 184 211 214 188 226 194 231]\n",
      " [230 183 215 164 181 183 163 219 180 225]\n",
      " [235 170 181 191 198 193 197 177 177 227]\n",
      " [227 195 152 158 206 187 156 167 191 242]\n",
      " [255 201 189 159 135 147 144 186 216 255]\n",
      " [255 243 219 190 170 171 191 210 254 254]\n",
      " [254 253 246 233 222 223 237 251 254 254]]\n",
      "testy\n",
      "[[248 248 236 233 229 226 232 239 254 255]\n",
      " [248 237 226 228 232 223 232 226 244 253]\n",
      " [244 220 219 208 227 217 215 219 223 245]\n",
      " [241 197 220 192 208 207 197 218 199 234]\n",
      " [235 183 207 179 196 196 182 207 183 227]\n",
      " [230 182 182 171 195 187 172 187 182 231]\n",
      " [238 188 173 169 180 175 165 176 194 241]\n",
      " [245 212 186 168 169 167 163 187 220 250]\n",
      " [254 232 218 193 175 180 190 215 241 254]\n",
      " [254 249 237 218 204 205 221 237 254 254]]\n",
      "testx\n",
      "[[248 248 236 233 229 226 232 239 254 255]\n",
      " [248 237 226 228 232 223 232 226 244 253]\n",
      " [244 220 219 208 227 217 215 219 223 245]\n",
      " [241 197 220 192 208 207 197 218 199 234]\n",
      " [235 183 207 179 196 196 182 207 183 227]\n",
      " [230 182 182 171 195 187 172 187 182 231]\n",
      " [238 188 173 169 180 175 165 176 194 241]\n",
      " [245 212 186 168 169 167 163 187 220 250]\n",
      " [254 232 218 193 175 180 190 215 241 254]\n",
      " [254 249 237 218 204 205 221 237 254 254]]\n",
      "img\n"
     ]
    },
    {
     "data": {
      "image/png": "[encoded data removed]",
      "text/plain": [
       "<Figure size 432x288 with 1 Axes>"
      ]
     },
     "metadata": {
      "needs_background": "light"
     },
     "output_type": "display_data"
    },
    {
     "name": "stdout",
     "output_type": "stream",
     "text": [
      "testy\n"
     ]
    },
    {
     "data": {
      "image/png": "[encoded data removed]",
      "text/plain": [
       "<Figure size 432x288 with 1 Axes>"
      ]
     },
     "metadata": {
      "needs_background": "light"
     },
     "output_type": "display_data"
    },
    {
     "name": "stdout",
     "output_type": "stream",
     "text": [
      "testx\n"
     ]
    },
    {
     "data": {
      "image/png": "[encoded data removed]",
      "text/plain": [
       "<Figure size 432x288 with 1 Axes>"
      ]
     },
     "metadata": {
      "needs_background": "light"
     },
     "output_type": "display_data"
    },
    {
     "name": "stdout",
     "output_type": "stream",
     "text": [
      "testxy\n"
     ]
    },
    {
     "data": {
      "image/png": "[encoded data removed]",
      "text/plain": [
       "<Figure size 432x288 with 1 Axes>"
      ]
     },
     "metadata": {
      "needs_background": "light"
     },
     "output_type": "display_data"
    }
   ],
   "source": [
    "import glob\n",
    "from PIL import Image\n",
    "import cv2 \n",
    "import numpy as np\n",
    "import types\n",
    "import os\n",
    "import m3Face, m3Iris, m3F\n",
    "from matplotlib import pyplot as plt\n",
    "import scipy\n",
    "\n",
    "\n",
    "\n",
    "img = cv2.imread(\"smiley.jpg\", 0)\n",
    "height, width = img.shape\n",
    "\n",
    "# https://www.programcreek.com/python/example/89346/cv2.getGaussianKernel\n",
    "gk = cv2.getGaussianKernel(3, 3) #kernel size, std. dev. (sigma)\n",
    "\n",
    "gkx = [[0.32710442],[0.34579116],[ 0.32710442]]\n",
    "\n",
    "gkxy =[ [0.32710442,0.34579116, 0.32710442],\n",
    "         [0.32710442,0.34579116, 0.32710442],\n",
    "        [0.32710442,0.34579116, 0.32710442]]\n",
    "\n",
    "print(\"gk\", gk)\n",
    "#gktest = [[200,200,200],\n",
    "#          [200,200,200],\n",
    "#          [200,200,200]\n",
    "#         ]\n",
    "print(\"type\", type(gk))\n",
    "testy = scipy.ndimage.convolve(img,weights=gk)\n",
    "testx = scipy.ndimage.convolve(img,weights=gkx)\n",
    "#testx = scipy.signal.convolve2d(img,gkx,mode=\"full\", boundary=\"symm\")\n",
    "#testxy = scipy.signal.convolve2d(img,gkxy,mode=\"full\", boundary=\"symm\")\n",
    "\n",
    "print(\"img\",img)\n",
    "print(\"testy\")\n",
    "print(testy)\n",
    "print(\"testx\")\n",
    "print(testx)\n",
    "\n",
    "print(\"img\")\n",
    "plt.imshow(img)\n",
    "plt.show()\n",
    "\n",
    "print(\"testy\")\n",
    "plt.imshow(testy)\n",
    "plt.show()\n",
    "print(\"testx\")\n",
    "plt.imshow(testx)\n",
    "plt.show()\n",
    "print(\"testxy\")\n",
    "plt.imshow(testxy)\n",
    "plt.show()\n",
    "\n",
    "#https://www.pyimagesearch.com/2017/08/28/fast-optimized-for-pixel-loops-with-opencv-and-python/\n",
    "for y in range(0, height):\n",
    "    for x in range(0, width):\n",
    "        for ky in range(-1,1):\n",
    "            for kx in range(-1,1):\n",
    "                \n",
    "                pos = (ky+y)\n",
    "            #img[y,x] = \n",
    "            #T = 120\n",
    "            # threshold the pixel\n",
    "            #img[y, x] = 255 if img[y, x] >= T else 0\n",
    "\n",
    "    # return the thresholded image\n",
    "\n",
    "#plt.imshow(img)\n",
    "#plt.show()\n",
    "\n",
    "\n",
    "#Python: cv2.getDerivKernels(dx, dy, ksize[, kx[, ky[, normalize[, ktype]]]]) → kx, ky\n",
    "#Python: cv2.sepFilter2D(src, ddepth, kernelX, kernelY[, dst[, anchor[, delta[, borderType]]]]) → dst\n"
   ]
  },
  {
   "cell_type": "code",
   "execution_count": null,
   "metadata": {},
   "outputs": [],
   "source": []
  },
  {
   "cell_type": "code",
   "execution_count": null,
   "metadata": {},
   "outputs": [],
   "source": []
  }
 ],
 "metadata": {
  "kernelspec": {
   "display_name": "Python 3",
   "language": "python",
   "name": "python3"
  },
  "language_info": {
   "codemirror_mode": {
    "name": "ipython",
    "version": 3
   },
   "file_extension": ".py",
   "mimetype": "text/x-python",
   "name": "python",
   "nbconvert_exporter": "python",
   "pygments_lexer": "ipython3",
   "version": "3.7.3"
  }
 },
 "nbformat": 4,
 "nbformat_minor": 4
}
