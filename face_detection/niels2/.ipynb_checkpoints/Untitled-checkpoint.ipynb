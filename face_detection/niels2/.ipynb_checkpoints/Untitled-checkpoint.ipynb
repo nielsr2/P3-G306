{
 "cells": [
  {
   "cell_type": "code",
   "execution_count": 65,
   "metadata": {},
   "outputs": [
    {
     "name": "stdout",
     "output_type": "stream",
     "text": [
      "gk [[0.32710442]\n",
      " [0.34579116]\n",
      " [0.32710442]]\n",
      "type <class 'numpy.ndarray'>\n",
      "img [[255 247 249 244 226 233 241 248 255 255]\n",
      " [236 252 211 211 238 212 214 223 252 255]\n",
      " [255 213 220 230 233 225 243 209 225 249]\n",
      " [241 197 226 184 211 214 188 226 194 231]\n",
      " [230 183 215 164 181 183 163 219 180 225]\n",
      " [235 170 181 191 198 193 197 177 177 227]\n",
      " [227 195 152 158 206 187 156 167 191 242]\n",
      " [255 201 189 159 135 147 144 186 216 255]\n",
      " [255 243 219 190 170 171 191 210 254 254]\n",
      " [254 253 246 233 222 223 237 251 254 254]]\n",
      "testy\n",
      "[[248 248 236 233 229 226 232 239 254 255]\n",
      " [248 237 226 228 232 223 232 226 244 253]\n",
      " [244 220 219 208 227 217 215 219 223 245]\n",
      " [241 197 220 192 208 207 197 218 199 234]\n",
      " [235 183 207 179 196 196 182 207 183 227]\n",
      " [230 182 182 171 195 187 172 187 182 231]\n",
      " [238 188 173 169 180 175 165 176 194 241]\n",
      " [245 212 186 168 169 167 163 187 220 250]\n",
      " [254 232 218 193 175 180 190 215 241 254]\n",
      " [254 249 237 218 204 205 221 237 254 254]]\n",
      "testx\n",
      "[[248.78501602 248.6355221  236.57003204 233.20555414 229.92525304\n",
      "  226.13080718 232.16818066 239.8223895  254.01868674 255.        ]\n",
      " [248.78501602 248.6355221  236.57003204 233.20555414 229.92525304\n",
      "  226.13080718 232.16818066 239.8223895  254.01868674 255.        ]\n",
      " [248.42996796 237.60740552 226.37390774 228.00942984 232.43922486\n",
      "  223.12155028 232.31784752 226.59814862 244.14949392 253.03737348]\n",
      " [244.20555414 220.52340166 219.01868674 208.7382127  227.43922486\n",
      "  217.14949392 215.52322872 219.14023702 223.69158232 245.07474696]\n",
      " [241.98131326 197.65420884 220.43922486 192.50471492 208.38316464\n",
      "  207.4579116  197.8131326  218.14949392 199.56077514 234.92525304]\n",
      " [235.23367072 183.32710442 207.47659834 179.37390774 196.37390774\n",
      "  196.41128122 182.29916078 207.5513453  183.59814862 227.61683536]\n",
      " [230.74764254 182.42996796 182.6355221  171.3737348  195.05606022\n",
      "  187.76632928 172.4671685  187.46734144 182.56077514 231.25235746]\n",
      " [238.77575912 188.78501602 173.58889172 169.12155028 180.15875082\n",
      "  175.87844972 165.48602818 176.48602818 194.59814862 241.34579116]\n",
      " [245.84107624 212.77575912 186.71026906 168.8131326  169.67306852\n",
      "  167.93468288 163.29916078 187.6355221  220.25235746 250.42053812]\n",
      " [254.67289558 232.53265856 218.01868674 193.92525304 175.56077514\n",
      "  180.15892376 190.67289558 215.56077514 241.57003204 254.32710442]\n",
      " [254.32710442 249.7289558  237.16818066 218.93450994 204.99057016\n",
      "  205.99057016 221.95319668 237.58871878 254.         254.        ]\n",
      " [254.32710442 249.7289558  237.16818066 218.93450994 204.99057016\n",
      "  205.99057016 221.95319668 237.58871878 254.         254.        ]]\n",
      "img\n"
     ]
    },
    {
     "data": {
      "image/png": "[encoded data removed]",
      "text/plain": [
       "<Figure size 432x288 with 1 Axes>"
      ]
     },
     "metadata": {
      "needs_background": "light"
     },
     "output_type": "display_data"
    },
    {
     "name": "stdout",
     "output_type": "stream",
     "text": [
      "testy\n"
     ]
    },
    {
     "data": {
      "image/png": "[encoded data removed]",
      "text/plain": [
       "<Figure size 432x288 with 1 Axes>"
      ]
     },
     "metadata": {
      "needs_background": "light"
     },
     "output_type": "display_data"
    },
    {
     "name": "stdout",
     "output_type": "stream",
     "text": [
      "testx\n"
     ]
    },
    {
     "data": {
      "image/png": "[encoded data removed]",
      "text/plain": [
       "<Figure size 432x288 with 1 Axes>"
      ]
     },
     "metadata": {
      "needs_background": "light"
     },
     "output_type": "display_data"
    },
    {
     "name": "stdout",
     "output_type": "stream",
     "text": [
      "testxy\n"
     ]
    },
    {
     "data": {
      "image/png": "[encoded data removed]",
      "text/plain": [
       "<Figure size 432x288 with 1 Axes>"
      ]
     },
     "metadata": {
      "needs_background": "light"
     },
     "output_type": "display_data"
    }
   ],
   "source": [
    "import glob\n",
    "from PIL import Image\n",
    "import cv2 \n",
    "import numpy as np\n",
    "import types\n",
    "import os\n",
    "import m3Face, m3Iris, m3F\n",
    "from matplotlib import pyplot as plt\n",
    "import scipy\n",
    "\n",
    "\n",
    "\n",
    "img = cv2.imread(\"smiley.jpg\", 0)\n",
    "height, width = img.shape\n",
    "\n",
    "# https://www.programcreek.com/python/example/89346/cv2.getGaussianKernel\n",
    "gk = cv2.getGaussianKernel(3, 3) #kernel size, std. dev. (sigma)\n",
    "\n",
    "gkx = [[0.32710442],[0.34579116],[ 0.32710442]]\n",
    "\n",
    "gkxy =[ [0.32710442,0.34579116, 0.32710442],\n",
    "         [0.32710442,0.34579116, 0.32710442],\n",
    "        [0.32710442,0.34579116, 0.32710442]]\n",
    "\n",
    "print(\"gk\", gk)\n",
    "#gktest = [[200,200,200],\n",
    "#          [200,200,200],\n",
    "#          [200,200,200]\n",
    "#         ]\n",
    "print(\"type\", type(gk))\n",
    "testy = scipy.ndimage.convolve(img,weights=gk)\n",
    "testx = scipy.ndimage.convolve(img,weights=gkx)\n",
    "#testx = scipy.signal.convolve2d(img,gkx,mode=\"full\", boundary=\"symm\")\n",
    "#testxy = scipy.signal.convolve2d(img,gkxy,mode=\"full\", boundary=\"symm\")\n",
    "\n",
    "print(\"img\",img)\n",
    "print(\"testy\")\n",
    "print(testy)\n",
    "print(\"testx\")\n",
    "print(testx)\n",
    "\n",
    "print(\"img\")\n",
    "plt.imshow(img)\n",
    "plt.show()\n",
    "\n",
    "print(\"testy\")\n",
    "plt.imshow(testy)\n",
    "plt.show()\n",
    "print(\"testx\")\n",
    "plt.imshow(testx)\n",
    "plt.show()\n",
    "print(\"testxy\")\n",
    "plt.imshow(testxy)\n",
    "plt.show()\n",
    "\n",
    "#https://www.pyimagesearch.com/2017/08/28/fast-optimized-for-pixel-loops-with-opencv-and-python/\n",
    "for y in range(0, height):\n",
    "    for x in range(0, width):\n",
    "        for ky in range(-1,1):\n",
    "            for kx in range(-1,1):\n",
    "                \n",
    "                pos = (ky+y)\n",
    "            #img[y,x] = \n",
    "            #T = 120\n",
    "            # threshold the pixel\n",
    "            #img[y, x] = 255 if img[y, x] >= T else 0\n",
    "\n",
    "    # return the thresholded image\n",
    "\n",
    "#plt.imshow(img)\n",
    "#plt.show()\n"
   ]
  },
  {
   "cell_type": "code",
   "execution_count": null,
   "metadata": {},
   "outputs": [],
   "source": []
  },
  {
   "cell_type": "code",
   "execution_count": null,
   "metadata": {},
   "outputs": [],
   "source": []
  }
 ],
 "metadata": {
  "kernelspec": {
   "display_name": "Python 3",
   "language": "python",
   "name": "python3"
  },
  "language_info": {
   "codemirror_mode": {
    "name": "ipython",
    "version": 3
   },
   "file_extension": ".py",
   "mimetype": "text/x-python",
   "name": "python",
   "nbconvert_exporter": "python",
   "pygments_lexer": "ipython3",
   "version": "3.7.3"
  }
 },
 "nbformat": 4,
 "nbformat_minor": 4
}
