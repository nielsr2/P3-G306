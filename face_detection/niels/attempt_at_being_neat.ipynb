{
 "cells": [
  {
   "cell_type": "code",
   "execution_count": null,
   "metadata": {},
   "outputs": [],
   "source": [
    "import cv2\n",
    "import numpy as np\n",
    "\n",
    "cap = cv2.VideoCapture(0)\n",
    "\n",
    "# Identify each face\n",
    "while True:\n",
    "    _, frame = cap.read()\n",
    "   # (h, w) = frame.shape[:2]\n",
    "    model.setInput(blob)\n",
    "    detections = model.forward()\n",
    "    blob = cv2.dnn.blobFromImage(cv2.resize(frame, (320, 320)), 1.0, (320, 320), (104.0, 177.0, 123.0))\n",
    "    for i in range(0, detections.shape[2]):\n",
    "            box = detections[0, 0, i, 3:7] * np.array([w, h, w, h])\n",
    "            (startX, startY, endX, endY) = box.astype(\"int\")\n",
    "            print(\"startX, startY, endX, endY\", startX, startY, endX, endY)\n",
    "            confidence = detections[0, 0, i, 2]\n",
    "            #print(confidence)\n",
    "            # If confidence > 0.5, save it as a separate file\n",
    "            if (confidence > 0.5):\n",
    "            #count += 1\n",
    "                frame2 = frame[startY:endY, startX:endX]\n",
    "              #  cv2.imwrite(\"pikkel.jpg\",frame)\n",
    "                cv2.imshow(\"frame\", frame2)\n",
    "\n",
    "\n",
    "\n",
    "\n",
    "\n",
    "\n",
    "    #cv2.imshow(\"Frame\", frame)\n",
    "\n",
    "    key = cv2.waitKey(1)\n",
    "    if key == 27:\n",
    "        break\n"
   ]
  }
 ],
 "metadata": {
  "kernelspec": {
   "display_name": "Python 3",
   "language": "python",
   "name": "python3"
  },
  "language_info": {
   "codemirror_mode": {
    "name": "ipython",
    "version": 3
   },
   "file_extension": ".py",
   "mimetype": "text/x-python",
   "name": "python",
   "nbconvert_exporter": "python",
   "pygments_lexer": "ipython3",
   "version": "3.7.3"
  }
 },
 "nbformat": 4,
 "nbformat_minor": 4
}
