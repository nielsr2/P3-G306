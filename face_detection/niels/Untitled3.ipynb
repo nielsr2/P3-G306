{
 "cells": [
  {
   "cell_type": "code",
   "execution_count": null,
   "metadata": {},
   "outputs": [],
   "source": [
    "# https://pysource.com/2019/03/12/face-landmarks-detection-opencv-with-python/\n",
    "import cv2\n",
    "import numpy as np\n",
    "import dlib # pip install dlib (close anaconda first)\n",
    "from PIL import Image, ImageDraw\n",
    "import face_recognition\n",
    "\n",
    "cap = cv2.VideoCapture(0)\n",
    "\n",
    "# Load the jpg file into a numpy array\n",
    "image = face_recognition.load_image_file(\"mikkel.jpg\")\n",
    "\n",
    "while True:\n",
    "    _, frame = cap.read()\n",
    "    # Find all facial features in all the faces in the image\n",
    "    face_landmarks_list = face_recognition.face_landmarks(frame)\n",
    "    \n",
    "    \n",
    "    # Create a PIL imabsagedraw object so we can draw on the picture\n",
    "    pil_image = Image.fromarray(frame)\n",
    "    d = ImageDraw.Draw(pil_image)\n",
    "    for face_landmarks in face_landmarks_list:\n",
    "        # Print the location of each facial feature in this image\n",
    "        for facial_feature in face_landmarks.keys():\n",
    "            print(\"The {} in this face has the following points: {}\".format(facial_feature, face_landmarks[facial_feature]))\n",
    "\n",
    "        # Let's trace out each facial feature in the image with a line!\n",
    "        for facial_feature in face_landmarks.keys():\n",
    "            d.line(face_landmarks[facial_feature], width=5)\n",
    "\n",
    "    # Show the picture\n",
    "    #pil_image.show()\n",
    "    show = np.asarray( pil_image )\n",
    "\n",
    "    print(\"I found {} face(s) in this photograph.\".format(len(face_landmarks_list)))\n",
    "    print(type(pil_image),type(frame))\n",
    "    cv2.imshow(\"Frame\", show)\n",
    "\n",
    "    key = cv2.waitKey(1)\n",
    "    if key == 27:\n",
    "        break\n",
    "\n",
    "\n",
    "\n",
    "\n",
    "\n",
    "\n",
    "\n",
    "\n"
   ]
  },
  {
   "cell_type": "code",
   "execution_count": null,
   "metadata": {},
   "outputs": [],
   "source": []
  },
  {
   "cell_type": "code",
   "execution_count": null,
   "metadata": {},
   "outputs": [],
   "source": []
  }
 ],
 "metadata": {
  "kernelspec": {
   "display_name": "Python 3",
   "language": "python",
   "name": "python3"
  },
  "language_info": {
   "codemirror_mode": {
    "name": "ipython",
    "version": 3
   },
   "file_extension": ".py",
   "mimetype": "text/x-python",
   "name": "python",
   "nbconvert_exporter": "python",
   "pygments_lexer": "ipython3",
   "version": "3.7.3"
  }
 },
 "nbformat": 4,
 "nbformat_minor": 4
}
