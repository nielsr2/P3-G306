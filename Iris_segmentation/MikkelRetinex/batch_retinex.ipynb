{
 "cells": [
  {
   "cell_type": "markdown",
   "metadata": {},
   "source": [
    "# FIND IRIS"
   ]
  },
  {
   "cell_type": "code",
   "execution_count": 7,
   "metadata": {
    "pycharm": {
     "is_executing": false
    }
   },
   "outputs": [],
   "source": [
    "from matplotlib import pyplot as plt\n",
    "plt.show()"
   ]
  },
  {
   "cell_type": "code",
   "execution_count": 8,
   "metadata": {
    "pycharm": {
     "is_executing": false,
     "name": "#%%\n"
    }
   },
   "outputs": [
    {
     "traceback": [
      "\u001b[1;31m---------------------------------------------------------------------------\u001b[0m",
      "\u001b[1;31mModuleNotFoundError\u001b[0m                       Traceback (most recent call last)",
      "\u001b[1;32m<ipython-input-8-fb6d7e59f109>\u001b[0m in \u001b[0;36m<module>\u001b[1;34m\u001b[0m\n\u001b[0;32m      1\u001b[0m \u001b[1;32mimport\u001b[0m \u001b[0mglob\u001b[0m\u001b[1;33m\u001b[0m\u001b[1;33m\u001b[0m\u001b[0m\n\u001b[1;32m----> 2\u001b[1;33m \u001b[1;32mimport\u001b[0m \u001b[0mcv2\u001b[0m\u001b[1;33m\u001b[0m\u001b[1;33m\u001b[0m\u001b[0m\n\u001b[0m\u001b[0;32m      3\u001b[0m \u001b[1;32mimport\u001b[0m \u001b[0mos\u001b[0m\u001b[1;33m\u001b[0m\u001b[1;33m\u001b[0m\u001b[0m\n\u001b[0;32m      4\u001b[0m \u001b[1;33m\u001b[0m\u001b[0m\n\u001b[0;32m      5\u001b[0m \u001b[1;32mimport\u001b[0m \u001b[0mm3Iris\u001b[0m\u001b[1;33m,\u001b[0m \u001b[0mm3F\u001b[0m\u001b[1;33m,\u001b[0m \u001b[0mretinex\u001b[0m\u001b[1;33m,\u001b[0m \u001b[0mretinexRunnable\u001b[0m\u001b[1;33m\u001b[0m\u001b[1;33m\u001b[0m\u001b[0m\n",
      "\u001b[1;31mModuleNotFoundError\u001b[0m: No module named 'cv2'"
     ],
     "ename": "ModuleNotFoundError",
     "evalue": "No module named 'cv2'",
     "output_type": "error"
    }
   ],
   "source": [
    "import glob\n",
    "import cv2 \n",
    "import os\n",
    "\n",
    "import m3Iris, m3F, retinex, retinexRunnable\n",
    "\n",
    "inputFolder = \"eyes/\"\n",
    "outputFolder = \"irises/\"\n",
    "irisesExpected = m3F.filecount(inputFolder)\n",
    "irisesFound = 0\n",
    "\n",
    "inputImages=glob.glob(inputFolder + \"*.j*\")\n",
    "\n",
    "for imagePath in inputImages:\n",
    "    \n",
    "    # if outfolder does not exist, create it\n",
    "    if not (os.path.exists(outputFolder)):\n",
    "            os.mkdir(outputFolder)\n",
    "            print(\"output folder did not exist,\", outputFolder, \"created.\")\n",
    "    \n",
    "\n",
    "    # DO STUFF TO ALL IMAGES BELOW (SENDS IMAGEPATH TO YOUR FUNCTIONS)\n",
    "    # *************************\n",
    "    if (m3F.evalSize(imagePath,10,10)):\n",
    "        \n",
    "        # IMAGE PROCESSING HERE:\n",
    "        imgOut = m3Iris.findCircle(imagePath)\n",
    "        imgMSRCP = retinexRunnable.runMSRCP(imagePath)\n",
    "        imgOut = m3Iris.findCircle(imgMSRCP)\n",
    "        \n",
    "    else:\n",
    "        print(\"****************************************************************************************************************\")\n",
    "        m3F.printRed(\"####IMAGE TOOO SMALL###\")\n",
    "        continue;\n",
    "        # *************************\n",
    "\n",
    "     #change imagePath from input folder to output folder\n",
    "    imagePath = imagePath.replace(inputFolder, \"\")\n",
    "    imagePath = outputFolder + imagePath\n",
    "    print(\"imagePath\", imagePath)\n",
    "    #print(\"length\",len(imgOut))\n",
    "    \n",
    "    if (type(imgOut) == type(list())):\n",
    "        #print(\"was list\")\n",
    "        # if output \n",
    "        eyes = iter(imgOut) # used to iterate thru an array. the output of first next() is the first element of array, and so on\n",
    "        \n",
    "        cv2.imwrite(imagePath,next(eyes))\n",
    "        irisesFound += 1\n",
    "    else:\n",
    "        if not(type(imgOut) == type(None)):\n",
    "            cv2.imwrite(imagePath,imgOut)\n",
    "            irisesFound += 1\n",
    "        #else:   \n",
    "            #m3F.printRed(\"IMAGE NULL\")\n",
    "            \n",
    "m3F.printBlue(\"Found {}% of irises in the images\".format(irisesFound/irisesExpected*100))\n",
    "\n"
   ]
  },
  {
   "cell_type": "code",
   "execution_count": null,
   "metadata": {
    "pycharm": {
     "is_executing": false
    }
   },
   "outputs": [],
   "source": []
  }
 ],
 "metadata": {
  "kernelspec": {
   "display_name": "Python 3",
   "language": "python",
   "name": "python3"
  },
  "language_info": {
   "codemirror_mode": {
    "name": "ipython",
    "version": 3
   },
   "file_extension": ".py",
   "mimetype": "text/x-python",
   "name": "python",
   "nbconvert_exporter": "python",
   "pygments_lexer": "ipython3",
   "version": "3.7.4"
  },
  "pycharm": {
   "stem_cell": {
    "cell_type": "raw",
    "metadata": {
     "collapsed": false
    },
    "source": []
   }
  }
 },
 "nbformat": 4,
 "nbformat_minor": 4
}