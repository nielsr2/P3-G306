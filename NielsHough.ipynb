{
 "cells": [
  {
   "cell_type": "code",
   "execution_count": null,
   "metadata": {},
   "outputs": [],
   "source": [
    "from __future__ import print_function\n",
    "from __future__ import division\n",
    "import cv2\n",
    "import numpy as np\n",
    "\n",
    "img = cv2.imread('eye.jpg',0)\n",
    "scale_percent = 10 # percent of original size\n",
    "width = int(img.shape[1] * scale_percent / 100)\n",
    "height = int(img.shape[0] * scale_percent / 100)\n",
    "dim = (width, height)\n",
    "img = cv2.resize(img, dim)\n",
    "img = cv2.medianBlur(img,5)\n",
    "cimg = cv2.cvtColor(img,cv2.COLOR_GRAY2BGR)\n",
    "\n",
    "\n",
    "circles = cv2.HoughCircles(img,cv2.HOUGH_GRADIENT,1,20,\n",
    "                            param1=50,param2=30,minRadius=0,maxRadius=0)\n",
    "circles = np.uint16(np.around(circles))\n",
    "for i in circles[0,:]:\n",
    "    # draw the outer circle\n",
    "    cv2.circle(cimg,(i[0],i[1]),i[2],(0,255,0),2)\n",
    "    # draw the center of the circle\n",
    "    cv2.circle(cimg,(i[0],i[1]),2,(0,0,255),3)\n",
    "#cv2.imshow(\"edges\",canny)\n",
    "\n",
    "# https://docs.opencv.org/3.4/d8/dbc/tutorial_histogram_calculation.html\n",
    "histSize = 256\n",
    "histRange = (0,255)\n",
    "accumulate = False\n",
    "gray_hist = cv2.calcHist(cimg,[0], None,[histSize], [0,255], accumulate=accumulate)\n",
    "hist_w = 512\n",
    "hist_h = 400\n",
    "bin_w = int(round( hist_w/histSize ))\n",
    "\n",
    "histImage = np.zeros((hist_h, hist_w, 3), dtype=np.uint8)\n",
    "for i in range(1, histSize):\n",
    "    cv2.line(histImage, ( bin_w*(i-1), hist_h - int(np.round(gray_hist[i-1])) ),\n",
    "            ( bin_w*(i), hist_h - int(np.round(gray_hist[i])) ),\n",
    "            ( 255, 0, 0), thickness=2)\n",
    "\n",
    "\n",
    "cv2.imshow('calcHist Demo', histImage)\n",
    "histImage = np.zeros((hist_h, hist_w, 3), dtype=np.uint8)\n",
    "cv2.imshow('detected circles',cimg)\n",
    "cv2.waitKey(0)\n",
    "cv2.destroyAllWindows()"
   ]
  },
  {
   "cell_type": "code",
   "execution_count": null,
   "metadata": {},
   "outputs": [],
   "source": []
  },
  {
   "cell_type": "code",
   "execution_count": null,
   "metadata": {},
   "outputs": [],
   "source": []
  },
  {
   "cell_type": "code",
   "execution_count": null,
   "metadata": {},
   "outputs": [],
   "source": []
  }
 ],
 "metadata": {
  "kernelspec": {
   "display_name": "Python 3",
   "language": "python",
   "name": "python3"
  },
  "language_info": {
   "codemirror_mode": {
    "name": "ipython",
    "version": 3
   },
   "file_extension": ".py",
   "mimetype": "text/x-python",
   "name": "python",
   "nbconvert_exporter": "python",
   "pygments_lexer": "ipython3",
   "version": "3.7.3"
  }
 },
 "nbformat": 4,
 "nbformat_minor": 4
}
